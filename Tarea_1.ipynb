{
  "cells": [
    {
      "cell_type": "markdown",
      "metadata": {
        "id": "view-in-github",
        "colab_type": "text"
      },
      "source": [
        "<a href=\"https://colab.research.google.com/github/Janies-Garcia-Velasco/Optimizacion-no-lineal/blob/main/Tarea_1.ipynb\" target=\"_parent\"><img src=\"https://colab.research.google.com/assets/colab-badge.svg\" alt=\"Open In Colab\"/></a>"
      ]
    },
    {
      "cell_type": "markdown",
      "metadata": {
        "id": "3xvsSAV4gzW0"
      },
      "source": [
        "Métodos de búsqueda directa"
      ]
    },
    {
      "cell_type": "markdown",
      "metadata": {
        "id": "nFohLgEzvPl-"
      },
      "source": []
    },
    {
      "cell_type": "code",
      "execution_count": null,
      "metadata": {
        "colab": {
          "background_save": true,
          "base_uri": "https://localhost:8080/"
        },
        "id": "GGVpYrb1iAL8",
        "outputId": "51f8fc49-2ffa-46fb-e64c-b5877fe316a5"
      },
      "outputs": [
        {
          "name": "stdout",
          "output_type": "stream",
          "text": [
            "1. El Metodo de Busqueda de Fibonacci se describe en el diagrama de la Figura 1, en donde N es el numero de iteraciones y A1, B1 es el intervalo inicial de búsqueda.\n",
            "a) Fibonacci\n"
          ]
        }
      ],
      "source": [
        "#N: numero de iteraciones\n",
        "#A1 y B1: es el intervalo inicial de busqueda\n",
        "\n",
        "print(\"1. El Metodo de Busqueda de Fibonacci se describe en el diagrama de la Figura 1, en donde N es el numero de iteraciones y A1, B1 es el intervalo inicial de búsqueda.\")\n",
        "print(\"a) Fibonacci\")\n",
        "def funcion(x):\n",
        "  return\n",
        "\n",
        "N=int(input(\"escribe el numero de iteraciones que desea: \"))\n",
        "\n",
        "if N>0:\n",
        "  A1=int(input(\"escriba el punto inicial: \"))\n",
        "  if A1>0:\n",
        "    B1=int(input(\"escriba el punto final: \"))\n",
        "    if B1>0:\n",
        "      Fl=1\n",
        "      l=2\n",
        "      print(0)\n",
        "      while l<N:\n",
        "        Fl=(l-1)+(l-2)\n",
        "        print(Fl)\n",
        "        l+=1\n",
        "      if l==N:\n",
        "        m=(N-2)/(N)\n",
        "        l2_ast=(m)*(B1-A1)\n",
        "        print(l2_ast)\n",
        "\n",
        "      j=2\n",
        "      l1=B1-A1\n",
        "\n",
        "      if l2_ast>(l1/2):\n",
        "        x1=B1-l2_ast\n",
        "        x2=A1+l2_ast\n",
        "        f1=f(x1)\n",
        "        f2=f(x2)\n",
        "\n",
        "        while f2>f1:\n",
        "          B1=x2\n",
        "          l2_ast=((N-j)*l1)/(N-(j-2))\n",
        "          j+=1\n",
        "\n",
        "        if not f1==f2:\n",
        "          A1=x1\n",
        "          B1=x2\n",
        "          l2_ast=(N-j)(B1-A1)/(N-(j-2))\n",
        "          j+=1\n",
        "\n",
        "        if not f1>f2:\n",
        "          A1=x1\n",
        "          l2_ast=((N-j)*l1)/(N-(j-2))\n",
        "          j+=1\n",
        "\n",
        "      if j==N:\n",
        "        print(A1,\",\",B1)\n",
        "        N=B1-A1\n",
        "        print(N)\n",
        "\n",
        "      else:\n",
        "        x1=A1+l2_ast\n",
        "        x2=B1-l2_ast\n",
        "        f1=f(x1)\n",
        "        f2=f(x2)\n",
        "\n",
        "    else:\n",
        "      print(\"el punto final no es un numero entero\")\n",
        "  else:\n",
        "    print(\"el punto inicial no es un numero entero\")\n",
        "else:\n",
        "  print(\"el numero de iteraciones no es un numero entero\")\n",
        "\n",
        "print(\"b) Demuestra que la reduccion del intervalo original L despues de n iteraciones esta dada por: L/F_(n+1)\")\n",
        "\n",
        "\n"
      ]
    },
    {
      "cell_type": "code",
      "execution_count": null,
      "metadata": {
        "colab": {
          "base_uri": "https://localhost:8080/"
        },
        "id": "PYbcnhuOtj0V",
        "outputId": "8e4d09dc-8946-4c10-d529-4d6de0743912"
      },
      "outputs": [
        {
          "name": "stdout",
          "output_type": "stream",
          "text": [
            "1 , 5\n"
          ]
        }
      ],
      "source": [
        "A=1\n",
        "B=5\n",
        "print(A,\",\",B)"
      ]
    }
  ],
  "metadata": {
    "colab": {
      "provenance": [],
      "authorship_tag": "ABX9TyOJjM00paPQVBT+oyGSfXII",
      "include_colab_link": true
    },
    "kernelspec": {
      "display_name": "Python 3",
      "name": "python3"
    },
    "language_info": {
      "name": "python"
    }
  },
  "nbformat": 4,
  "nbformat_minor": 0
}