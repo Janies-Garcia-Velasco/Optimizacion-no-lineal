{
  "nbformat": 4,
  "nbformat_minor": 0,
  "metadata": {
    "colab": {
      "provenance": [],
      "authorship_tag": "ABX9TyPM+TyvIN52Rq6ICbrmz3ZV",
      "include_colab_link": true
    },
    "kernelspec": {
      "name": "python3",
      "display_name": "Python 3"
    },
    "language_info": {
      "name": "python"
    }
  },
  "cells": [
    {
      "cell_type": "markdown",
      "metadata": {
        "id": "view-in-github",
        "colab_type": "text"
      },
      "source": [
        "<a href=\"https://colab.research.google.com/github/Janies-Garcia-Velasco/Optimizacion-no-lineal/blob/main/Corridas.ipynb\" target=\"_parent\"><img src=\"https://colab.research.google.com/assets/colab-badge.svg\" alt=\"Open In Colab\"/></a>"
      ]
    },
    {
      "cell_type": "code",
      "execution_count": 35,
      "metadata": {
        "colab": {
          "base_uri": "https://localhost:8080/"
        },
        "id": "_iwgRnro8xwp",
        "outputId": "6e8bdfe3-778a-4f77-d258-f2ae7404025b"
      },
      "outputs": [
        {
          "output_type": "stream",
          "name": "stdout",
          "text": [
            "16.333333333333332\n",
            "4.122222222222222\n",
            "-0.6567\n",
            "11\n",
            "13\n",
            "25\n"
          ]
        }
      ],
      "source": [
        "import numpy as np\n",
        "import openpyxl\n",
        "from tabulate import tabulate\n",
        "import tabulate\n",
        "from math import sqrt\n",
        "\n",
        "num_muestra=openpyxl.load_workbook(\"muestra3.xlsx\")#se manda a llamar al excel para leerlo desde los archivos de github\n",
        "muestra=num_muestra.active\n",
        "\n",
        "lista=[]\n",
        "lista1=[]\n",
        "lista0=[]\n",
        "listac=[]\n",
        "n=1\n",
        "\n",
        "for row in range(0,muestra.max_row):#leer las filas del excel\n",
        "  for col in muestra.iter_cols(1, muestra.max_column):#leer columna de excel\n",
        "\n",
        "    xi=(col[row].value)#darle valor a la x con la celda leida\n",
        "    lista.append(xi)\n",
        "\n",
        "\n",
        "while n<len(lista):\n",
        "  m=lista[n-1]\n",
        "  m1=lista[n]\n",
        "\n",
        "  if m<m1:\n",
        "    lista1.append(1)\n",
        "    listac.append(1)\n",
        "\n",
        "  elif m>m1:\n",
        "    lista0.append(0)\n",
        "    listac.append(0)\n",
        "\n",
        "  n+=1\n",
        "\n",
        "i=0\n",
        "c=0\n",
        "listap=[]\n",
        "lc=len(listac)+1\n",
        "co=15#hay que hacer el programa para las corridas\n",
        "#como contar las corridas?\n",
        "desv=sqrt(var)\n",
        "\n",
        "media=(2*(lc)-1)/3\n",
        "print(media)\n",
        "var=(16*(lc)-29)/90\n",
        "print(var)\n",
        "z0=(co-media)/(desv)\n",
        "print(round(z0,4))\n",
        "\n",
        "\n",
        "\n",
        "print(len(lista1))\n",
        "print(len(lista0))\n",
        "print(len(listac)+1)\n",
        "\n",
        "\n",
        "\n",
        ""
      ]
    }
  ]
}