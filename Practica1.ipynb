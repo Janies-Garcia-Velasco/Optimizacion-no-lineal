{
  "nbformat": 4,
  "nbformat_minor": 0,
  "metadata": {
    "colab": {
      "provenance": [],
      "authorship_tag": "ABX9TyNIKexmoat24ro9NXCAgD1s",
      "include_colab_link": true
    },
    "kernelspec": {
      "name": "python3",
      "display_name": "Python 3"
    },
    "language_info": {
      "name": "python"
    }
  },
  "cells": [
    {
      "cell_type": "markdown",
      "metadata": {
        "id": "view-in-github",
        "colab_type": "text"
      },
      "source": [
        "<a href=\"https://colab.research.google.com/github/Janies-Garcia-Velasco/Optimizacion-no-lineal/blob/main/Practica1.ipynb\" target=\"_parent\"><img src=\"https://colab.research.google.com/assets/colab-badge.svg\" alt=\"Open In Colab\"/></a>"
      ]
    },
    {
      "cell_type": "code",
      "execution_count": null,
      "metadata": {
        "colab": {
          "base_uri": "https://localhost:8080/"
        },
        "id": "ucl4mohrcYzE",
        "outputId": "9cbce2e5-b910-41f3-b385-399189ef0fbe"
      },
      "outputs": [
        {
          "output_type": "execute_result",
          "data": {
            "text/plain": [
              "(0.9998498827675096,\n",
              " 3.0000000225351835,\n",
              " 0.9996458619145517,\n",
              " 3.0000001254137834)"
            ]
          },
          "metadata": {},
          "execution_count": 9
        }
      ],
      "source": [
        "# JANIES MERARI GARCIA\n",
        "#creando la funcion\n",
        "def fun(x):\n",
        "  return (x-1)**2+3\n",
        "\n",
        "def funcion(f,a,b,n):\n",
        "  L=b-a\n",
        "  t=0.618\n",
        "  x1=a + t*L\n",
        "  x2=b - t*L\n",
        "  fx1=f(x1)\n",
        "  fx2=f(x2)\n",
        "\n",
        "  while L > n:\n",
        "    if  f(x1) < f(x2):\n",
        "      a=x2\n",
        "      L=b-a\n",
        "      x2=b-t*L\n",
        "    else:\n",
        "      b=x1\n",
        "      L=b-a\n",
        "      x1=a+t*L\n",
        "\n",
        "    L=b-a\n",
        "    t=0.618\n",
        "    x1=a + (t*L)\n",
        "    x2=b - (t*L)\n",
        "    fx1=f(x1)\n",
        "    fx2=f(x2)\n",
        "\n",
        "\n",
        "  return x1,fx1,x2,fx2\n",
        "\n",
        "funcion(fun, 0,5,0.001)\n"
      ]
    }
  ]
}