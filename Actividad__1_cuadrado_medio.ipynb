{
  "nbformat": 4,
  "nbformat_minor": 0,
  "metadata": {
    "colab": {
      "provenance": [],
      "authorship_tag": "ABX9TyN9VgTxXQmkRieHyDD1SSTm",
      "include_colab_link": true
    },
    "kernelspec": {
      "name": "python3",
      "display_name": "Python 3"
    },
    "language_info": {
      "name": "python"
    }
  },
  "cells": [
    {
      "cell_type": "markdown",
      "metadata": {
        "id": "view-in-github",
        "colab_type": "text"
      },
      "source": [
        "<a href=\"https://colab.research.google.com/github/Janies-Garcia-Velasco/Optimizacion-no-lineal/blob/main/Actividad__1_cuadrado_medio.ipynb\" target=\"_parent\"><img src=\"https://colab.research.google.com/assets/colab-badge.svg\" alt=\"Open In Colab\"/></a>"
      ]
    },
    {
      "cell_type": "markdown",
      "source": [
        "# Cuadrado medio\n"
      ],
      "metadata": {
        "id": "oiqDBUVd4VpP"
      }
    },
    {
      "cell_type": "code",
      "source": [
        "import sys\n",
        "\n",
        "x=int(input(\"escriba un numero entero de 4 digitos: \"))\n",
        "n=1\n",
        "\n",
        "while n<10:\n",
        "  num=str(x)\n",
        "  if len(num)==4:\n",
        "    x1=x**2\n",
        "    num1=str(x1)\n",
        "    if len(num1)==8:\n",
        "      numero=list(num1)\n",
        "      xlist=numero[2:6]\n",
        "      numfin=int(\"\".join(xlist))\n",
        "      x=numfin\n",
        "      print(x)\n",
        "      n=n+1\n",
        "    else:\n",
        "      numero=list(num1)\n",
        "      xlist=numero[1:5]\n",
        "      numfin=int(\"\".join(xlist))\n",
        "      x=numfin\n",
        "      print(x)\n",
        "      n=n+1\n",
        "  else:\n",
        "    print(\"el numero ingresado no tiene los digitos solicitados\")\n",
        "    n=10\n",
        "\n"
      ],
      "metadata": {
        "id": "msWk5Ixe4VYJ",
        "colab": {
          "base_uri": "https://localhost:8080/"
        },
        "outputId": "17a256e9-80b3-4283-e9e8-2ba172af974a"
      },
      "execution_count": null,
      "outputs": [
        {
          "output_type": "stream",
          "name": "stdout",
          "text": [
            "escriba un numero entero de 4 digitos: 4565\n",
            "8392\n",
            "4256\n",
            "1135\n",
            "2882\n",
            "3059\n",
            "3574\n",
            "7734\n",
            "8147\n",
            "3736\n"
          ]
        }
      ]
    },
    {
      "cell_type": "markdown",
      "source": [],
      "metadata": {
        "id": "SptqGocaxSCW"
      }
    }
  ]
}