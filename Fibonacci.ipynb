{
  "cells": [
    {
      "cell_type": "markdown",
      "metadata": {
        "id": "view-in-github",
        "colab_type": "text"
      },
      "source": [
        "<a href=\"https://colab.research.google.com/github/Janies-Garcia-Velasco/Optimizacion-no-lineal/blob/main/Fibonacci.ipynb\" target=\"_parent\"><img src=\"https://colab.research.google.com/assets/colab-badge.svg\" alt=\"Open In Colab\"/></a>"
      ]
    },
    {
      "cell_type": "markdown",
      "metadata": {
        "id": "3xvsSAV4gzW0"
      },
      "source": [
        "Métodos de búsqueda directa"
      ]
    },
    {
      "cell_type": "markdown",
      "metadata": {
        "id": "nFohLgEzvPl-"
      },
      "source": []
    },
    {
      "cell_type": "code",
      "execution_count": 51,
      "metadata": {
        "colab": {
          "base_uri": "https://localhost:8080/"
        },
        "id": "GGVpYrb1iAL8",
        "outputId": "e9a87678-319a-4900-9c6f-4e94d065092a"
      },
      "outputs": [
        {
          "output_type": "stream",
          "name": "stdout",
          "text": [
            "1.3454545454545455\n",
            "1.3454545454545455\n",
            "0.0\n"
          ]
        }
      ],
      "source": [
        "import math\n",
        "#N: numero de iteraciones\n",
        "#A1 y B1: es el intervalo inicial de busqueda\n",
        "\n",
        "#print(\"1. El Metodo de Busqueda de Fibonacci se describe en el diagrama de la Figura 1, en donde N es el numero de iteraciones y A1, B1 es el intervalo inicial de búsqueda.\")\n",
        "#print(\"a) Fibonacci\")\n",
        "def funcion(x):\n",
        "  return ((x**2))\n",
        "\n",
        "N=10#int(input(\"escribe el numero de iteraciones que desea: \"))\n",
        "\n",
        "if N>0:\n",
        "  A1=1#int(input(\"escriba el punto inicial: \"))\n",
        "  if A1>0:\n",
        "    B1=20#int(input(\"escriba el punto final: \"))\n",
        "    if B1>0:\n",
        "      F0=F1=1\n",
        "      l=0\n",
        "      Fl=[]\n",
        "\n",
        "      for i in range (N):\n",
        "        Fl.append(F1)\n",
        "        Fs=F1+F0\n",
        "        F1=F0\n",
        "        F0=Fs\n",
        "        l+=1\n",
        "\n",
        "      if l==N:\n",
        "        m=Fl[N-3]\n",
        "        p=Fl[N-1]\n",
        "\n",
        "        l2=(m/p)*(B1-A1)\n",
        "      J=2\n",
        "      while J<N:\n",
        "        L1=B1-A1\n",
        "        if l2>L1/2:\n",
        "          x1=B1-l2\n",
        "          x2=A1+l2\n",
        "\n",
        "          f1=funcion(x1)\n",
        "          f2=funcion(x2)\n",
        "\n",
        "        else:\n",
        "          x1=A1+l2\n",
        "          x2=B1-l2\n",
        "\n",
        "          f1=funcion(x1)\n",
        "          f2=funcion(x2)\n",
        "\n",
        "        #comparacion\n",
        "        if f2>f1:\n",
        "          m=Fl[(N-1)-J]\n",
        "          p=Fl[(N-1)-(J-2)]\n",
        "          B1=x2\n",
        "          l2=(m*L1)/p\n",
        "          J+=1\n",
        "\n",
        "        elif f1==f2:\n",
        "          m=Fl[(N-1)-J]\n",
        "          p=Fl[(N-1)-(J-2)]\n",
        "          A1=x1\n",
        "          B1=x2\n",
        "          l2=(m)*(B1-A1)/p\n",
        "          J+=1\n",
        "\n",
        "        else:\n",
        "          A1=x1\n",
        "          m=Fl[(N-1)-J]\n",
        "          p=Fl[(N-1)-(J-2)]\n",
        "          l2=(m*L1)/p\n",
        "          J+=1\n",
        "\n",
        "      if (N)==J:\n",
        "        print(A1)\n",
        "        print(B1)\n",
        "        Ln=B1-A1\n",
        "        print(Ln)\n",
        "\n",
        "    else:\n",
        "      print(\"el punto inicial no es un numero entero\")\n",
        "  else:\n",
        "    print(\"el numero de iteraciones no es un numero entero\")\n",
        "else:\n",
        "  print(\"caracter incorrecto\")\n",
        "\n",
        "\n",
        "\n"
      ]
    }
  ],
  "metadata": {
    "colab": {
      "provenance": [],
      "authorship_tag": "ABX9TyPwG5xqFsVDtFUYKE0V7bYC",
      "include_colab_link": true
    },
    "kernelspec": {
      "display_name": "Python 3",
      "name": "python3"
    },
    "language_info": {
      "name": "python"
    }
  },
  "nbformat": 4,
  "nbformat_minor": 0
}