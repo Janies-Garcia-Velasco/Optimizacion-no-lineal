{
  "nbformat": 4,
  "nbformat_minor": 0,
  "metadata": {
    "kernelspec": {
      "display_name": "Python 3",
      "language": "python",
      "name": "python3"
    },
    "language_info": {
      "codemirror_mode": {
        "name": "ipython",
        "version": 3
      },
      "file_extension": ".py",
      "mimetype": "text/x-python",
      "name": "python",
      "nbconvert_exporter": "python",
      "pygments_lexer": "ipython3",
      "version": "3.8.5"
    },
    "colab": {
      "provenance": [],
      "collapsed_sections": [
        "zsAgHrSC60zS",
        "DITaC59260zZ"
      ],
      "include_colab_link": true
    }
  },
  "cells": [
    {
      "cell_type": "markdown",
      "metadata": {
        "id": "view-in-github",
        "colab_type": "text"
      },
      "source": [
        "<a href=\"https://colab.research.google.com/github/Janies-Garcia-Velasco/Optimizacion-no-lineal/blob/main/OC_OptNL_Introduccion_Python.ipynb\" target=\"_parent\"><img src=\"https://colab.research.google.com/assets/colab-badge.svg\" alt=\"Open In Colab\"/></a>"
      ]
    },
    {
      "cell_type": "markdown",
      "metadata": {
        "id": "1khxUQoR60x5"
      },
      "source": [
        "# Introducción a Python\n",
        "\n",
        "**Oliver Cuate**\n",
        "\n",
        "*16 de febrero de 2023*\n",
        "\n",
        "---\n",
        "\n",
        "[Python](https://www.python.org) es un lenguaje de programación interpretado. Es multiparadigma (funcional, orientado a objetos, etc.) y multiplataforma. Es fuertemente tipado y presenta tipado dinámico. Fácil de usar debido al gran número de bibliotecas disponibles.\n"
      ]
    },
    {
      "cell_type": "markdown",
      "metadata": {
        "id": "QKve8Fm760x6"
      },
      "source": [
        "---\n",
        "### 1 Variables\n",
        "\n",
        "Definición:"
      ]
    },
    {
      "cell_type": "code",
      "metadata": {
        "id": "u4hRSNhc60x6",
        "colab": {
          "base_uri": "https://localhost:8080/"
        },
        "outputId": "62c43a74-caeb-4337-bdc8-1e60604c5014"
      },
      "source": [
        "# lógicos\n",
        "a = True     # bool\n",
        "b = False    # bool\n",
        "\n",
        "# numéricos\n",
        "i = 7        # int\n",
        "f = 3.141592 # float\n",
        "c = 1 + 1j   # complex\n",
        "\n",
        "a, b, i, f, c"
      ],
      "execution_count": null,
      "outputs": [
        {
          "output_type": "execute_result",
          "data": {
            "text/plain": [
              "(True, False, 7, 3.141592, (1+1j))"
            ]
          },
          "metadata": {},
          "execution_count": 2
        }
      ]
    },
    {
      "cell_type": "code",
      "metadata": {
        "id": "E9gtqPM060x-",
        "colab": {
          "base_uri": "https://localhost:8080/"
        },
        "outputId": "4c5c5d5b-af78-4de9-85af-cb15f5ddd1ec"
      },
      "source": [
        "# cadenas\n",
        "s = 'Curso de Optimizacion' # str\n",
        "\n",
        "# type(x) obtiene el tipo de x\n",
        "s, type(s)"
      ],
      "execution_count": null,
      "outputs": [
        {
          "output_type": "execute_result",
          "data": {
            "text/plain": [
              "('Curso de Optimizacion', str)"
            ]
          },
          "metadata": {},
          "execution_count": 2
        }
      ]
    },
    {
      "cell_type": "markdown",
      "metadata": {
        "id": "ge4PQwNr60yC"
      },
      "source": [
        "Aritmética y operadores:"
      ]
    },
    {
      "cell_type": "code",
      "metadata": {
        "id": "Z6rXGy9k60yC",
        "colab": {
          "base_uri": "https://localhost:8080/"
        },
        "outputId": "0b3e3fdf-1e67-4a3d-f224-6278791da6c5"
      },
      "source": [
        "# lógicos\n",
        "not a, a and b, a or b"
      ],
      "execution_count": null,
      "outputs": [
        {
          "output_type": "execute_result",
          "data": {
            "text/plain": [
              "(False, False, True)"
            ]
          },
          "metadata": {},
          "execution_count": 3
        }
      ]
    },
    {
      "cell_type": "code",
      "metadata": {
        "id": "Ra5B78Cv60yF",
        "colab": {
          "base_uri": "https://localhost:8080/"
        },
        "outputId": "373fa195-313e-4201-c145-d8f8a41b4dd0"
      },
      "source": [
        "# numéricos\n",
        "i + 1, f - 1, c * 2, f / 2, f // 2, i ** 2, i % 2"
      ],
      "execution_count": null,
      "outputs": [
        {
          "output_type": "execute_result",
          "data": {
            "text/plain": [
              "(8, 2.141592, (2+2j), 1.570796, 1.0, 49, 1)"
            ]
          },
          "metadata": {},
          "execution_count": 4
        }
      ]
    },
    {
      "cell_type": "code",
      "metadata": {
        "id": "YKxRxQty60yH",
        "colab": {
          "base_uri": "https://localhost:8080/"
        },
        "outputId": "ffbebab9-ff14-46d5-92db-91824f5080bf"
      },
      "source": [
        "# cadenas acceso\n",
        "s[11], s[4:], s[:10], s[6:9]"
      ],
      "execution_count": null,
      "outputs": [
        {
          "output_type": "execute_result",
          "data": {
            "text/plain": [
              "('t', 'o de Optimizacion', 'Curso de O', 'de ')"
            ]
          },
          "metadata": {},
          "execution_count": 5
        }
      ]
    },
    {
      "cell_type": "code",
      "metadata": {
        "id": "i964RezE60yJ",
        "colab": {
          "base_uri": "https://localhost:8080/"
        },
        "outputId": "a3679504-faee-44af-b11d-beb7c9d01a8f"
      },
      "source": [
        "# cadenas concatenación\n",
        "'Texto' + ' ' + '2', 'bla bla ' * 2"
      ],
      "execution_count": null,
      "outputs": [
        {
          "output_type": "execute_result",
          "data": {
            "text/plain": [
              "('Texto 2', 'bla bla bla bla ')"
            ]
          },
          "metadata": {},
          "execution_count": 6
        }
      ]
    },
    {
      "cell_type": "markdown",
      "metadata": {
        "id": "QNYJCsqp60yP"
      },
      "source": [
        "---\n",
        "### 2 Colecciones"
      ]
    },
    {
      "cell_type": "markdown",
      "metadata": {
        "id": "6YG4AEjg60yP"
      },
      "source": [
        "#### 2.1 Listas\n",
        "\n",
        "Colección de elementos con orden (indizado en <b>cero</b>), admite elementos repetidos y se puede modificar (mutable).\n",
        "\n",
        "Definición por extensión:"
      ]
    },
    {
      "cell_type": "code",
      "metadata": {
        "id": "1UbB1JpI60yQ",
        "colab": {
          "base_uri": "https://localhost:8080/"
        },
        "outputId": "49ffe85d-6324-4778-c10a-b4fae4f023ba"
      },
      "source": [
        "# lista de constantes\n",
        "l = [0, 1, 2, 3, 4]\n",
        "l"
      ],
      "execution_count": null,
      "outputs": [
        {
          "output_type": "execute_result",
          "data": {
            "text/plain": [
              "[0, 1, 2, 3, 4]"
            ]
          },
          "metadata": {},
          "execution_count": 7
        }
      ]
    },
    {
      "cell_type": "code",
      "metadata": {
        "id": "nD752c9S60yS",
        "colab": {
          "base_uri": "https://localhost:8080/"
        },
        "outputId": "7fa26036-b598-47a5-be94-071770cf63a9"
      },
      "source": [
        "# lista mixta\n",
        "l2 = [True, 7, 3.141592, 1 + 1j, 'texto']\n",
        "l2"
      ],
      "execution_count": null,
      "outputs": [
        {
          "output_type": "execute_result",
          "data": {
            "text/plain": [
              "[True, 7, 3.141592, (1+1j), 'texto']"
            ]
          },
          "metadata": {},
          "execution_count": 8
        }
      ]
    },
    {
      "cell_type": "code",
      "metadata": {
        "id": "8JOFNuns60yU",
        "colab": {
          "base_uri": "https://localhost:8080/"
        },
        "outputId": "18918240-428f-4caa-ee85-e313045e1b2c"
      },
      "source": [
        "# lista de variables\n",
        "l3 = [a, i, f, c, s]\n",
        "l3"
      ],
      "execution_count": null,
      "outputs": [
        {
          "output_type": "execute_result",
          "data": {
            "text/plain": [
              "[True, 7, 3.141592, (1+1j), 'Curso de Optimizacion']"
            ]
          },
          "metadata": {},
          "execution_count": 9
        }
      ]
    },
    {
      "cell_type": "code",
      "metadata": {
        "id": "SmouTaoy60yW",
        "colab": {
          "base_uri": "https://localhost:8080/"
        },
        "outputId": "5704ec7e-7c64-478b-f15b-43d2aa2107e1"
      },
      "source": [
        "# lista de listas (matriz)\n",
        "l4 = [[0, 1], [2, 3]]\n",
        "l4"
      ],
      "execution_count": null,
      "outputs": [
        {
          "output_type": "execute_result",
          "data": {
            "text/plain": [
              "[[0, 1], [2, 3]]"
            ]
          },
          "metadata": {},
          "execution_count": 10
        }
      ]
    },
    {
      "cell_type": "markdown",
      "metadata": {
        "id": "riN-hbIT60yY"
      },
      "source": [
        "Lectura:"
      ]
    },
    {
      "cell_type": "code",
      "metadata": {
        "id": "G2BvP1yP60yZ",
        "colab": {
          "base_uri": "https://localhost:8080/"
        },
        "outputId": "829022c1-3bd4-4534-824f-a48f5e9d284c"
      },
      "source": [
        "# acceso, indizado en cero e inverso\n",
        "l[0], l[2], l[-1]"
      ],
      "execution_count": null,
      "outputs": [
        {
          "output_type": "execute_result",
          "data": {
            "text/plain": [
              "(0, 2, 4)"
            ]
          },
          "metadata": {},
          "execution_count": 11
        }
      ]
    },
    {
      "cell_type": "code",
      "metadata": {
        "id": "D669IO-g60yb",
        "colab": {
          "base_uri": "https://localhost:8080/"
        },
        "outputId": "1efcb3cf-333a-4e15-def0-67c07cb61f12"
      },
      "source": [
        "# rebanadas: regresan una sublista nueva en el intervalo [a, b)\n",
        "# l = [0, 1, 2, 3, 4]\n",
        "l[1:3], l[2:], l[:2]"
      ],
      "execution_count": null,
      "outputs": [
        {
          "output_type": "execute_result",
          "data": {
            "text/plain": [
              "([1, 2], [2, 3, 4], [0, 1])"
            ]
          },
          "metadata": {},
          "execution_count": 12
        }
      ]
    },
    {
      "cell_type": "markdown",
      "metadata": {
        "id": "nEi_TiR160yd"
      },
      "source": [
        "Escritura"
      ]
    },
    {
      "cell_type": "code",
      "metadata": {
        "id": "bzYNgSE360yd",
        "colab": {
          "base_uri": "https://localhost:8080/"
        },
        "outputId": "77449b0f-15a2-4274-f077-6ec7cfcf612c"
      },
      "source": [
        "# modificación\n",
        "lm = list(l)  # crea una copia\n",
        "lm[0] = -1    # sobreescribe\n",
        "(l[0], lm[0]) # no se altera el valor original"
      ],
      "execution_count": null,
      "outputs": [
        {
          "output_type": "execute_result",
          "data": {
            "text/plain": [
              "(0, -1)"
            ]
          },
          "metadata": {},
          "execution_count": 13
        }
      ]
    },
    {
      "cell_type": "markdown",
      "metadata": {
        "id": "mAuNh-Ge60yg"
      },
      "source": [
        "Aritmética y operadores:"
      ]
    },
    {
      "cell_type": "code",
      "metadata": {
        "id": "Dk6n1Z2w60yg",
        "colab": {
          "base_uri": "https://localhost:8080/"
        },
        "outputId": "d48eaa21-bd8b-4c9b-adb8-901156138021"
      },
      "source": [
        "# concatenación y producto\n",
        "[0, 1] + [2, 3], [0] * 5"
      ],
      "execution_count": null,
      "outputs": [
        {
          "output_type": "execute_result",
          "data": {
            "text/plain": [
              "([0, 1, 2, 3], [0, 0, 0, 0, 0])"
            ]
          },
          "metadata": {},
          "execution_count": 14
        }
      ]
    },
    {
      "cell_type": "code",
      "metadata": {
        "id": "5n0PpYM560yj",
        "colab": {
          "base_uri": "https://localhost:8080/"
        },
        "outputId": "e99380e0-b061-47cb-a11f-933dbc4930ea"
      },
      "source": [
        "# tamaño y pertenencia\n",
        "len(l), 2 in l"
      ],
      "execution_count": null,
      "outputs": [
        {
          "output_type": "execute_result",
          "data": {
            "text/plain": [
              "(5, True)"
            ]
          },
          "metadata": {},
          "execution_count": 15
        }
      ]
    },
    {
      "cell_type": "markdown",
      "metadata": {
        "id": "n3MQyYb460yl"
      },
      "source": [
        "Métodos (funciones asociadas):"
      ]
    },
    {
      "cell_type": "code",
      "metadata": {
        "id": "523p3Cvh60ym",
        "colab": {
          "base_uri": "https://localhost:8080/"
        },
        "outputId": "0c453a17-b28b-4f68-c40c-54c06e48affc"
      },
      "source": [
        "l = [0, 1, 2, 3, 4]\n",
        "\n",
        "# append(x) agrega x al final de la lista\n",
        "l.append(-1)\n",
        "l"
      ],
      "execution_count": null,
      "outputs": [
        {
          "output_type": "execute_result",
          "data": {
            "text/plain": [
              "[0, 1, 2, 3, 4, -1]"
            ]
          },
          "metadata": {},
          "execution_count": 16
        }
      ]
    },
    {
      "cell_type": "code",
      "metadata": {
        "id": "0d3cIDkA60yo",
        "colab": {
          "base_uri": "https://localhost:8080/"
        },
        "outputId": "bf010f73-5d65-4e4c-d738-d66622c49ad7"
      },
      "source": [
        "# pop() elimina al final de la lista\n",
        "l.pop() # regresa el elemento\n",
        "l"
      ],
      "execution_count": null,
      "outputs": [
        {
          "output_type": "execute_result",
          "data": {
            "text/plain": [
              "[0, 1, 2, 3, 4]"
            ]
          },
          "metadata": {},
          "execution_count": 17
        }
      ]
    },
    {
      "cell_type": "code",
      "metadata": {
        "id": "i0Hh6mHR60yq",
        "colab": {
          "base_uri": "https://localhost:8080/"
        },
        "outputId": "900dc96b-e1ed-41ca-b5cc-53c96e921ad9"
      },
      "source": [
        "# insert(i, x) agrega x en la posición i\n",
        "l.insert(0, -1)\n",
        "l"
      ],
      "execution_count": null,
      "outputs": [
        {
          "output_type": "execute_result",
          "data": {
            "text/plain": [
              "[-1, 0, 1, 2, 3, 4]"
            ]
          },
          "metadata": {},
          "execution_count": 18
        }
      ]
    },
    {
      "cell_type": "code",
      "metadata": {
        "id": "6MQ-jccq60ys",
        "colab": {
          "base_uri": "https://localhost:8080/"
        },
        "outputId": "8e4b8e5d-3eaf-409d-eec5-bc267cc1fe9b"
      },
      "source": [
        "# pop(i) elimina en la posición i\n",
        "l.pop(0)\n",
        "l"
      ],
      "execution_count": null,
      "outputs": [
        {
          "output_type": "execute_result",
          "data": {
            "text/plain": [
              "[0, 1, 2, 3, 4]"
            ]
          },
          "metadata": {},
          "execution_count": 19
        }
      ]
    },
    {
      "cell_type": "code",
      "metadata": {
        "id": "8bbayIYC60yv",
        "colab": {
          "base_uri": "https://localhost:8080/"
        },
        "outputId": "49e12249-8f10-43f4-a8c3-6b0662fce103"
      },
      "source": [
        "# remove(x) remueve x de la lista\n",
        "l.remove(4)\n",
        "l"
      ],
      "execution_count": null,
      "outputs": [
        {
          "output_type": "execute_result",
          "data": {
            "text/plain": [
              "[0, 1, 2, 3]"
            ]
          },
          "metadata": {},
          "execution_count": 20
        }
      ]
    },
    {
      "cell_type": "code",
      "metadata": {
        "id": "Wk9cDDc060yx",
        "colab": {
          "base_uri": "https://localhost:8080/"
        },
        "outputId": "7ac74ace-90f6-48f5-f635-63b252d61b1e"
      },
      "source": [
        "# extend(l2) agrega los elementos de una segunda lista l2 (in situ)\n",
        "l.extend([9, 8, 7, 6, 5, 4])\n",
        "l"
      ],
      "execution_count": null,
      "outputs": [
        {
          "output_type": "execute_result",
          "data": {
            "text/plain": [
              "[0, 1, 2, 3, 9, 8, 7, 6, 5, 4]"
            ]
          },
          "metadata": {},
          "execution_count": 21
        }
      ]
    },
    {
      "cell_type": "code",
      "metadata": {
        "id": "nO7e1DcU60yz",
        "colab": {
          "base_uri": "https://localhost:8080/"
        },
        "outputId": "75defed7-88e3-4b5d-94eb-f80d24b410c9"
      },
      "source": [
        "# sort() ordena ascendente por defecto (in situ)\n",
        "l.sort()\n",
        "l"
      ],
      "execution_count": null,
      "outputs": [
        {
          "output_type": "execute_result",
          "data": {
            "text/plain": [
              "[0, 1, 2, 3, 4, 5, 6, 7, 8, 9]"
            ]
          },
          "metadata": {},
          "execution_count": 22
        }
      ]
    },
    {
      "cell_type": "code",
      "metadata": {
        "id": "R6xtzwbp60y1",
        "colab": {
          "base_uri": "https://localhost:8080/"
        },
        "outputId": "de4e5f2e-4cc4-4718-81d9-c206baf492d7"
      },
      "source": [
        "# reversed() invierte la lista (in situ)\n",
        "l.reverse()\n",
        "l"
      ],
      "execution_count": null,
      "outputs": [
        {
          "output_type": "execute_result",
          "data": {
            "text/plain": [
              "[9, 8, 7, 6, 5, 4, 3, 2, 1, 0]"
            ]
          },
          "metadata": {},
          "execution_count": 23
        }
      ]
    },
    {
      "cell_type": "markdown",
      "metadata": {
        "id": "NHacB7hG60y4"
      },
      "source": [
        "#### 2.2 Tuplas\n",
        "Colección de elementos con orden (indizado en cero), admite elementos repetidos y no se puede modificar (inmutable).\n",
        "\n",
        "Definición por extensión:"
      ]
    },
    {
      "cell_type": "code",
      "metadata": {
        "id": "ut42KR5T60y4",
        "colab": {
          "base_uri": "https://localhost:8080/"
        },
        "outputId": "8c61a73b-b007-484b-ee6a-55a67e1ab58f"
      },
      "source": [
        "t = (0, 1, 2, 3, 4)\n",
        "t, type(t)"
      ],
      "execution_count": null,
      "outputs": [
        {
          "output_type": "execute_result",
          "data": {
            "text/plain": [
              "((0, 1, 2, 3, 4), tuple)"
            ]
          },
          "metadata": {},
          "execution_count": 24
        }
      ]
    },
    {
      "cell_type": "markdown",
      "metadata": {
        "id": "4QgEAzIo60y7"
      },
      "source": [
        "Soporta las mismas operciones que una lista con excepción de las de escritura."
      ]
    },
    {
      "cell_type": "code",
      "metadata": {
        "id": "KuwPJNYC60y7",
        "colab": {
          "base_uri": "https://localhost:8080/"
        },
        "outputId": "f2855920-04c8-418b-ff45-d1d371155f5b"
      },
      "source": [
        "# asignación por intercambio (tuplas implícitas)\n",
        "a, b = 0, 1\n",
        "a, b = b, a\n",
        "a, b"
      ],
      "execution_count": null,
      "outputs": [
        {
          "output_type": "execute_result",
          "data": {
            "text/plain": [
              "(1, 0)"
            ]
          },
          "metadata": {},
          "execution_count": 25
        }
      ]
    },
    {
      "cell_type": "markdown",
      "metadata": {
        "id": "S-a8B_jP60y9"
      },
      "source": [
        "#### 2.3 Diccionarios\n",
        "\n",
        "Arreglo asociativo llave-valor (mutable), las llaves son únicas mientras que los valores se pueden repetir.\n",
        "\n",
        "Definición por extensión:"
      ]
    },
    {
      "cell_type": "code",
      "metadata": {
        "id": "8qm-198z60y9",
        "colab": {
          "base_uri": "https://localhost:8080/"
        },
        "outputId": "dc66f7e1-a2d5-4e5e-9e54-6001fe7abea1"
      },
      "source": [
        "d = {'a': 0, 'b': 1, 'c': 2, 'd': 3, 'e': -1}\n",
        "d"
      ],
      "execution_count": null,
      "outputs": [
        {
          "output_type": "execute_result",
          "data": {
            "text/plain": [
              "{'a': 0, 'b': 1, 'c': 2, 'd': 3, 'e': -1}"
            ]
          },
          "metadata": {},
          "execution_count": 26
        }
      ]
    },
    {
      "cell_type": "markdown",
      "metadata": {
        "id": "B-MUSfVV60y_"
      },
      "source": [
        "Lectura:"
      ]
    },
    {
      "cell_type": "code",
      "metadata": {
        "id": "QOUQDf6Q60y_",
        "colab": {
          "base_uri": "https://localhost:8080/"
        },
        "outputId": "f1da2440-40a4-4855-fd20-9920c0eb38c9"
      },
      "source": [
        "d['c']"
      ],
      "execution_count": null,
      "outputs": [
        {
          "output_type": "execute_result",
          "data": {
            "text/plain": [
              "2"
            ]
          },
          "metadata": {},
          "execution_count": 27
        }
      ]
    },
    {
      "cell_type": "markdown",
      "metadata": {
        "id": "yqDtdBa960zC"
      },
      "source": [
        "Escritura:"
      ]
    },
    {
      "cell_type": "code",
      "metadata": {
        "id": "clsRMXpm60zC",
        "colab": {
          "base_uri": "https://localhost:8080/"
        },
        "outputId": "d08394ad-c931-4c62-bb4d-8273b642c1db"
      },
      "source": [
        "# modificar\n",
        "d['e'] = 4\n",
        "# agregar\n",
        "d['f'] = 5\n",
        "d, d['a']"
      ],
      "execution_count": null,
      "outputs": [
        {
          "output_type": "execute_result",
          "data": {
            "text/plain": [
              "({'a': 0, 'b': 1, 'c': 2, 'd': 3, 'e': 4, 'f': 5}, 0)"
            ]
          },
          "metadata": {},
          "execution_count": 28
        }
      ]
    },
    {
      "cell_type": "code",
      "metadata": {
        "id": "hunt5Ftj60zE",
        "colab": {
          "base_uri": "https://localhost:8080/"
        },
        "outputId": "a8334e4d-3b04-47e3-a217-67cdf409556f"
      },
      "source": [
        "# elimiar un elemento\n",
        "del d['f']\n",
        "d"
      ],
      "execution_count": null,
      "outputs": [
        {
          "output_type": "execute_result",
          "data": {
            "text/plain": [
              "{'a': 0, 'b': 1, 'c': 2, 'd': 3, 'e': 4}"
            ]
          },
          "metadata": {},
          "execution_count": 29
        }
      ]
    },
    {
      "cell_type": "code",
      "metadata": {
        "id": "IzAi9WXP60zG",
        "colab": {
          "base_uri": "https://localhost:8080/"
        },
        "outputId": "d132d6e3-0230-4134-ed67-e2aa80caf7ed"
      },
      "source": [
        "# tamaño y pertenencia\n",
        "len(d), 'c' in d"
      ],
      "execution_count": null,
      "outputs": [
        {
          "output_type": "execute_result",
          "data": {
            "text/plain": [
              "(5, True)"
            ]
          },
          "metadata": {},
          "execution_count": 30
        }
      ]
    },
    {
      "cell_type": "markdown",
      "metadata": {
        "id": "0X2fFa2S60zI"
      },
      "source": [
        "Métodos:"
      ]
    },
    {
      "cell_type": "code",
      "metadata": {
        "id": "3-xfQYNF60zI",
        "colab": {
          "base_uri": "https://localhost:8080/"
        },
        "outputId": "14a7c7f5-bd71-45ca-c4c7-d18d2fdd7aa3"
      },
      "source": [
        "# keys() regresa una lista de las llaves\n",
        "d.keys()"
      ],
      "execution_count": null,
      "outputs": [
        {
          "output_type": "execute_result",
          "data": {
            "text/plain": [
              "dict_keys(['a', 'b', 'c', 'd', 'e'])"
            ]
          },
          "metadata": {},
          "execution_count": 31
        }
      ]
    },
    {
      "cell_type": "code",
      "metadata": {
        "id": "KrgkGC2S60zK",
        "colab": {
          "base_uri": "https://localhost:8080/"
        },
        "outputId": "83285c47-14aa-4e88-b5ea-f6d7a2c5acce"
      },
      "source": [
        "# values() regresa una lista de los valores\n",
        "d.values()"
      ],
      "execution_count": null,
      "outputs": [
        {
          "output_type": "execute_result",
          "data": {
            "text/plain": [
              "dict_values([0, 1, 2, 3, 4])"
            ]
          },
          "metadata": {},
          "execution_count": 32
        }
      ]
    },
    {
      "cell_type": "code",
      "metadata": {
        "id": "zmfDO-Eb60zM",
        "colab": {
          "base_uri": "https://localhost:8080/"
        },
        "outputId": "4cb2c51b-9c4c-4424-ae22-5cf4bba64001"
      },
      "source": [
        "# items() regresa una lista de pares llave-valor\n",
        "d.items()"
      ],
      "execution_count": null,
      "outputs": [
        {
          "output_type": "execute_result",
          "data": {
            "text/plain": [
              "dict_items([('a', 0), ('b', 1), ('c', 2), ('d', 3), ('e', 4)])"
            ]
          },
          "metadata": {},
          "execution_count": 33
        }
      ]
    },
    {
      "cell_type": "code",
      "metadata": {
        "id": "8dzE6gm460zO",
        "colab": {
          "base_uri": "https://localhost:8080/"
        },
        "outputId": "ed63b3ca-48e4-4304-a075-3dfa1b867dd3"
      },
      "source": [
        "# get() obtiene un valor para una llave dada,\n",
        "# acepta un valor por defecto en caso de una llave inexistente\n",
        "d.get('a'), d.get('z', 26)"
      ],
      "execution_count": null,
      "outputs": [
        {
          "output_type": "execute_result",
          "data": {
            "text/plain": [
              "(0, 26)"
            ]
          },
          "metadata": {},
          "execution_count": 34
        }
      ]
    },
    {
      "cell_type": "markdown",
      "metadata": {
        "id": "e_tMQKcb60zQ"
      },
      "source": [
        "---\n",
        "### 3 Condicionales y ciclos\n",
        "\n",
        "#### 3.1 ``if``, ``elif`` y ``else``"
      ]
    },
    {
      "cell_type": "code",
      "metadata": {
        "id": "mZqeIrcp60zQ",
        "colab": {
          "base_uri": "https://localhost:8080/"
        },
        "outputId": "5ae57a85-4ac8-4b10-b319-ddff6ce08448"
      },
      "source": [
        "predicado = True\n",
        "\n",
        "# condicional simple\n",
        "if predicado:\n",
        "    print(\"condicional simple 1\")\n",
        "if not predicado:\n",
        "    print(\"condicional simple 2\")\n",
        "\n",
        "# condicional par\n",
        "if predicado:\n",
        "    print(\"condicional par 1\")\n",
        "else:\n",
        "    print(\"condicional par 2\")\n",
        "\n",
        "# condicional múltiple\n",
        "if predicado and not predicado:\n",
        "    print(\"condicional múltiple 1\")\n",
        "elif predicado and predicado:\n",
        "    print(\"condicional múltiple 2\")\n",
        "else:\n",
        "    print(\"condicional múltiple 3\")"
      ],
      "execution_count": null,
      "outputs": [
        {
          "output_type": "stream",
          "name": "stdout",
          "text": [
            "condicional simple 1\n",
            "condicional par 1\n",
            "condicional múltiple 2\n"
          ]
        }
      ]
    },
    {
      "cell_type": "markdown",
      "metadata": {
        "id": "zsAgHrSC60zS"
      },
      "source": [
        "#### 3.2 ``for``"
      ]
    },
    {
      "cell_type": "code",
      "metadata": {
        "id": "-5_GEIF-60zS",
        "colab": {
          "base_uri": "https://localhost:8080/"
        },
        "outputId": "67159cdc-8046-41ea-df2e-443cdb01179e"
      },
      "source": [
        "# recorriendo una lista/tupla\n",
        "for x in l:\n",
        "    print(x)"
      ],
      "execution_count": null,
      "outputs": [
        {
          "output_type": "stream",
          "name": "stdout",
          "text": [
            "9\n",
            "8\n",
            "7\n",
            "6\n",
            "5\n",
            "4\n",
            "3\n",
            "2\n",
            "1\n",
            "0\n"
          ]
        }
      ]
    },
    {
      "cell_type": "code",
      "metadata": {
        "id": "Q1BRnMxN60zU",
        "colab": {
          "base_uri": "https://localhost:8080/"
        },
        "outputId": "8f441587-6fd6-422e-c11b-eeca61fc29c1"
      },
      "source": [
        "# recorriendo un diccionario\n",
        "for k, v in d.items():\n",
        "    print(k, v)"
      ],
      "execution_count": null,
      "outputs": [
        {
          "output_type": "stream",
          "name": "stdout",
          "text": [
            "a 0\n",
            "b 1\n",
            "c 2\n",
            "d 3\n",
            "e 4\n"
          ]
        }
      ]
    },
    {
      "cell_type": "code",
      "metadata": {
        "id": "qptkxsij60zX",
        "colab": {
          "base_uri": "https://localhost:8080/"
        },
        "outputId": "fef1b53f-d55f-48d3-ceff-e079d5dac684"
      },
      "source": [
        "# for tipo C\n",
        "for i in range(0, 10, 2):\n",
        "    print(i)"
      ],
      "execution_count": null,
      "outputs": [
        {
          "output_type": "stream",
          "name": "stdout",
          "text": [
            "0\n",
            "2\n",
            "4\n",
            "6\n",
            "8\n"
          ]
        }
      ]
    },
    {
      "cell_type": "markdown",
      "metadata": {
        "id": "DITaC59260zZ"
      },
      "source": [
        "#### 3.3 ``while``"
      ]
    },
    {
      "cell_type": "code",
      "metadata": {
        "id": "B7k_ctRn60zZ",
        "colab": {
          "base_uri": "https://localhost:8080/"
        },
        "outputId": "4490c578-f7dc-4260-e819-d9f3743cefef"
      },
      "source": [
        "# importamos un módulo\n",
        "import random\n",
        "\n",
        "# fijamos la semilla\n",
        "random.seed(10)\n",
        "\n",
        "condicion = True\n",
        "while condicion:\n",
        "    # r es un pseudo aleatorio en [0, 1)\n",
        "    r = random.random()\n",
        "    print(r)\n",
        "    if r > 0.75:\n",
        "        condicion = False"
      ],
      "execution_count": null,
      "outputs": [
        {
          "output_type": "stream",
          "name": "stdout",
          "text": [
            "0.5714025946899135\n",
            "0.4288890546751146\n",
            "0.5780913011344704\n",
            "0.20609823213950174\n",
            "0.81332125135732\n"
          ]
        }
      ]
    },
    {
      "cell_type": "markdown",
      "metadata": {
        "id": "496B9G5060zd"
      },
      "source": [
        "---\n",
        "### 4 Funciones\n",
        "\n",
        "Función sin argumentos y sin retorno:"
      ]
    },
    {
      "cell_type": "code",
      "metadata": {
        "id": "UaJ8iw0E60ze",
        "colab": {
          "base_uri": "https://localhost:8080/"
        },
        "outputId": "c9eef16e-f431-4fb9-b226-e6da53bc53df"
      },
      "source": [
        "def saludar():\n",
        "    print('Oliver!')\n",
        "\n",
        "saludar()"
      ],
      "execution_count": null,
      "outputs": [
        {
          "output_type": "stream",
          "name": "stdout",
          "text": [
            "Oliver!\n"
          ]
        }
      ]
    },
    {
      "cell_type": "markdown",
      "metadata": {
        "id": "Ieh03q1760zh"
      },
      "source": [
        "Función con un argumento y un valor de retorno:"
      ]
    },
    {
      "cell_type": "code",
      "metadata": {
        "id": "vvesWx9z60zi",
        "colab": {
          "base_uri": "https://localhost:8080/"
        },
        "outputId": "daf0e904-6966-4c5c-c5ea-864ca1e86177"
      },
      "source": [
        "def cuadrado(x):\n",
        "    return x ** 2\n",
        "\n",
        "cuadrado(5)"
      ],
      "execution_count": null,
      "outputs": [
        {
          "output_type": "execute_result",
          "data": {
            "text/plain": [
              "25"
            ]
          },
          "metadata": {},
          "execution_count": 41
        }
      ]
    },
    {
      "cell_type": "markdown",
      "metadata": {
        "id": "2iYX3kBP60zl"
      },
      "source": [
        "Función con múltiples argumentos y valores de retorno:"
      ]
    },
    {
      "cell_type": "code",
      "metadata": {
        "id": "xJDT41vu60zn",
        "colab": {
          "base_uri": "https://localhost:8080/"
        },
        "outputId": "1815c9f9-8da7-4679-bd02-82c61e0958da"
      },
      "source": [
        "def suma_y_resta(x, y):\n",
        "    return x + y, x - y\n",
        "\n",
        "suma_y_resta(1, 2)"
      ],
      "execution_count": null,
      "outputs": [
        {
          "output_type": "execute_result",
          "data": {
            "text/plain": [
              "(3, -1)"
            ]
          },
          "metadata": {},
          "execution_count": 42
        }
      ]
    },
    {
      "cell_type": "markdown",
      "metadata": {
        "id": "FlHxDSP060zp"
      },
      "source": [
        "Función con argumento por defecto:"
      ]
    },
    {
      "cell_type": "code",
      "metadata": {
        "id": "QoedlPnD60zq",
        "colab": {
          "base_uri": "https://localhost:8080/"
        },
        "outputId": "af58781e-8954-4875-cfb9-08cbc3f2bea5"
      },
      "source": [
        "def cuadrado_o_raiz(x, op='raiz'):\n",
        "    if op == 'cuadrado':\n",
        "        return x ** 2\n",
        "    else:\n",
        "        return x ** .5\n",
        "\n",
        "cuadrado_o_raiz(4, 'cuadrado'), cuadrado_o_raiz(4)"
      ],
      "execution_count": null,
      "outputs": [
        {
          "output_type": "execute_result",
          "data": {
            "text/plain": [
              "(16, 2.0)"
            ]
          },
          "metadata": {},
          "execution_count": 43
        }
      ]
    },
    {
      "cell_type": "markdown",
      "metadata": {
        "id": "u9D2y7LB60zs"
      },
      "source": [
        "Función recursiva que suma una lista:"
      ]
    },
    {
      "cell_type": "code",
      "metadata": {
        "id": "B4xf9z6G60zs",
        "colab": {
          "base_uri": "https://localhost:8080/"
        },
        "outputId": "f862b76c-6b3b-400f-d3e3-bd923829bc31"
      },
      "source": [
        "def list_rec_sum(l):\n",
        "    n = len(l)\n",
        "    if n == 0:\n",
        "        return 0\n",
        "    elif n == 1:\n",
        "        return l[0]\n",
        "    else:\n",
        "        m = n // 2\n",
        "        return list_rec_sum(l[:m]) + list_rec_sum(l[m:])\n",
        "\n",
        "list_rec_sum([0, 1, 2, 3, 4])"
      ],
      "execution_count": null,
      "outputs": [
        {
          "output_type": "execute_result",
          "data": {
            "text/plain": [
              "10"
            ]
          },
          "metadata": {},
          "execution_count": 44
        }
      ]
    },
    {
      "cell_type": "markdown",
      "metadata": {
        "id": "JdV6Osei60zu"
      },
      "source": [
        "Función con una función como argumento:"
      ]
    },
    {
      "cell_type": "code",
      "metadata": {
        "id": "2LrIOEf-60zu",
        "colab": {
          "base_uri": "https://localhost:8080/"
        },
        "outputId": "91c03964-84fb-4755-9c14-2caf09939ae6"
      },
      "source": [
        "def fmap(fn, l):\n",
        "    r = []\n",
        "    for x in l:\n",
        "        r.append(fn(x))\n",
        "    return r\n",
        "\n",
        "fmap(cuadrado, [0, 1, 2])"
      ],
      "execution_count": null,
      "outputs": [
        {
          "output_type": "execute_result",
          "data": {
            "text/plain": [
              "[0, 1, 4]"
            ]
          },
          "metadata": {},
          "execution_count": 45
        }
      ]
    },
    {
      "cell_type": "markdown",
      "metadata": {
        "id": "PVGzamUF60z2"
      },
      "source": [
        "---\n",
        "### 5 Comprensión de Listas\n",
        "\n",
        "Definición de colecciones similar a la definición matemática de conjuntos."
      ]
    },
    {
      "cell_type": "code",
      "metadata": {
        "id": "HPfpI9ul60z2",
        "colab": {
          "base_uri": "https://localhost:8080/"
        },
        "outputId": "64dd0e3c-5a94-4214-bf53-f3bb955b16c6"
      },
      "source": [
        "l.sort()\n",
        "# comprensión de lista sencilla\n",
        "[x**2 for x in l]"
      ],
      "execution_count": null,
      "outputs": [
        {
          "output_type": "execute_result",
          "data": {
            "text/plain": [
              "[0, 1, 4, 9, 16, 25, 36, 49, 64, 81]"
            ]
          },
          "metadata": {},
          "execution_count": 46
        }
      ]
    },
    {
      "cell_type": "code",
      "metadata": {
        "id": "EX_QZtiY60z3",
        "colab": {
          "base_uri": "https://localhost:8080/"
        },
        "outputId": "b497af35-2b78-4fa2-aed5-88cda670ff26"
      },
      "source": [
        "# comprensión de lista con condición\n",
        "[x**2 for x in l if x < 5]"
      ],
      "execution_count": null,
      "outputs": [
        {
          "output_type": "execute_result",
          "data": {
            "text/plain": [
              "[0, 1, 4, 9, 16]"
            ]
          },
          "metadata": {},
          "execution_count": 47
        }
      ]
    },
    {
      "cell_type": "code",
      "metadata": {
        "id": "AM45EfV860z6",
        "colab": {
          "base_uri": "https://localhost:8080/"
        },
        "outputId": "9c0691de-c662-4d0e-96e5-5ae356a7fd12"
      },
      "source": [
        "# comprensión de tupla\n",
        "tuple(x**2 for x in t if x < 5)"
      ],
      "execution_count": null,
      "outputs": [
        {
          "output_type": "execute_result",
          "data": {
            "text/plain": [
              "(0, 1, 4, 9, 16)"
            ]
          },
          "metadata": {},
          "execution_count": 48
        }
      ]
    },
    {
      "cell_type": "code",
      "metadata": {
        "id": "JgP6fSux60z7",
        "colab": {
          "base_uri": "https://localhost:8080/"
        },
        "outputId": "4b30f890-26d3-4751-fe05-4b42e781afeb"
      },
      "source": [
        "# comprensión de diccionario\n",
        "{i: chr(65 + i) for i in l}"
      ],
      "execution_count": null,
      "outputs": [
        {
          "output_type": "execute_result",
          "data": {
            "text/plain": [
              "{0: 'A',\n",
              " 1: 'B',\n",
              " 2: 'C',\n",
              " 3: 'D',\n",
              " 4: 'E',\n",
              " 5: 'F',\n",
              " 6: 'G',\n",
              " 7: 'H',\n",
              " 8: 'I',\n",
              " 9: 'J'}"
            ]
          },
          "metadata": {},
          "execution_count": 49
        }
      ]
    },
    {
      "cell_type": "markdown",
      "metadata": {
        "id": "mFcDrR3A60z-"
      },
      "source": [
        "### 6 Funciones integradas\n",
        "\n",
        "Python provee de un conjunto de funciones integradas (built-ins)"
      ]
    },
    {
      "cell_type": "code",
      "metadata": {
        "id": "02Qyf_TV60z_",
        "colab": {
          "base_uri": "https://localhost:8080/"
        },
        "outputId": "f9143468-418f-402f-86d4-e0799d2e2687"
      },
      "source": [
        "min(l), max(l), sum(l)"
      ],
      "execution_count": null,
      "outputs": [
        {
          "output_type": "execute_result",
          "data": {
            "text/plain": [
              "(0, 9, 45)"
            ]
          },
          "metadata": {},
          "execution_count": 50
        }
      ]
    },
    {
      "cell_type": "code",
      "metadata": {
        "id": "VN0uLfbV600B",
        "colab": {
          "base_uri": "https://localhost:8080/"
        },
        "outputId": "8ab5ff44-d03b-4cbd-a788-7a5a58fd6793"
      },
      "source": [
        "# range(n) genera la secuencia de enteros [0, ... , n)\n",
        "[x ** 2 for x in range(10) if x % 2 != 0]"
      ],
      "execution_count": null,
      "outputs": [
        {
          "output_type": "execute_result",
          "data": {
            "text/plain": [
              "[1, 9, 25, 49, 81]"
            ]
          },
          "metadata": {},
          "execution_count": 51
        }
      ]
    },
    {
      "cell_type": "code",
      "metadata": {
        "id": "ks1r0dRs600C",
        "colab": {
          "base_uri": "https://localhost:8080/"
        },
        "outputId": "ce0d15e4-9ee2-4103-a221-6846ce2be8a7"
      },
      "source": [
        "# zip() empareja colecciones\n",
        "ALPHA = ['Α', 'Β', 'Γ', 'Δ', 'Ε']\n",
        "alpha = ['α', 'β', 'γ', 'δ', 'ε']\n",
        "for c, C in zip(ALPHA, alpha):\n",
        "    print(c, C)"
      ],
      "execution_count": null,
      "outputs": [
        {
          "output_type": "stream",
          "name": "stdout",
          "text": [
            "Α α\n",
            "Β β\n",
            "Γ γ\n",
            "Δ δ\n",
            "Ε ε\n"
          ]
        }
      ]
    },
    {
      "cell_type": "code",
      "metadata": {
        "id": "l9ZbXDaI600E",
        "colab": {
          "base_uri": "https://localhost:8080/"
        },
        "outputId": "6b5e0782-e156-4763-e646-57965f761e90"
      },
      "source": [
        "# enumerate() agrega un indice\n",
        "for i, c in enumerate(s):\n",
        "    print(i, c)"
      ],
      "execution_count": null,
      "outputs": [
        {
          "output_type": "stream",
          "name": "stdout",
          "text": [
            "0 C\n",
            "1 u\n",
            "2 r\n",
            "3 s\n",
            "4 o\n",
            "5  \n",
            "6 d\n",
            "7 e\n",
            "8  \n",
            "9 O\n",
            "10 p\n",
            "11 t\n",
            "12 i\n",
            "13 m\n",
            "14 i\n",
            "15 z\n",
            "16 a\n",
            "17 c\n",
            "18 i\n",
            "19 o\n",
            "20 n\n"
          ]
        }
      ]
    }
  ]
}