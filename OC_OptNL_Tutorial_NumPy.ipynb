{
  "cells": [
    {
      "cell_type": "markdown",
      "metadata": {
        "id": "view-in-github",
        "colab_type": "text"
      },
      "source": [
        "<a href=\"https://colab.research.google.com/github/Janies-Garcia-Velasco/Optimizacion-no-lineal/blob/main/OC_OptNL_Tutorial_NumPy.ipynb\" target=\"_parent\"><img src=\"https://colab.research.google.com/assets/colab-badge.svg\" alt=\"Open In Colab\"/></a>"
      ]
    },
    {
      "cell_type": "markdown",
      "id": "personalized-applicant",
      "metadata": {
        "id": "personalized-applicant"
      },
      "source": [
        "# NumPy: Arreglos y Computación Vectorizada\n",
        "\n",
        "<p>&nbsp;</p>\n",
        "\n",
        "## Introducción\n",
        "\n",
        "<p>&nbsp;</p>\n",
        "\n",
        "\n",
        "Numerical Python, es uno de los paquetes más importantes para la computación numérica en Python.\n",
        "La mayoría de los paquetes computacionales para aplicaciones científicas utilizan los arreglos de NumPy para el intercambio de datos.\n",
        "\n",
        "\n",
        "NumPy proporciona:\n",
        "\n",
        "  * ndarray, un arreglo multidimensional eficiente que proporciona operaciones aritméticas rápidas orientadas a arreglos y capacidades de transmisión flexibles.\n",
        "  \n",
        "  \n",
        "  * Funciones matemáticas para operaciones rápidas en arreglos enteros de datos sin tener que escribir bucles.\n",
        "  \n",
        "  \n",
        "  * Herramientas para leer/escribir datos de arreglo en el disco y trabajar con archivos mapeados en memoria.\n",
        "  \n",
        "  \n",
        "* Álgebra lineal, generación de números aleatorios y transformada de Fourier.\n",
        "\n",
        "\n",
        "* Una API de C para conectar NumPy con bibliotecas escritas en C, C++ o FORTRAN.\n",
        "\n",
        "<p>&nbsp;</p>\n",
        "<p>&nbsp;</p>\n",
        "\n",
        "\n",
        "\n",
        "Si bien NumPy por sí solo no proporciona modelado o funcionalidad científica, comprender los arreglos NumPy y la computación orientada a arreglos nos ayudará a usar herramientas con semántica orientada a arreglos &nbsp; –––como pandas–––, de manera más efectiva.\n",
        "\n",
        "\n",
        "\n",
        "Para darnos una idea de la diferencia de rendimiento, consideremos un arreglo NumPy y una lista equivalente de Python, ambos de un millón de enteros &nbsp; –––[0, 1, 2, 3, ... ,999997, 999998, 999999]:\n",
        "\n",
        "<p>&nbsp;</p>"
      ]
    },
    {
      "cell_type": "code",
      "execution_count": null,
      "id": "norman-physiology",
      "metadata": {
        "id": "norman-physiology"
      },
      "outputs": [],
      "source": [
        "import numpy as np"
      ]
    },
    {
      "cell_type": "code",
      "execution_count": null,
      "id": "designed-spouse",
      "metadata": {
        "id": "designed-spouse",
        "colab": {
          "base_uri": "https://localhost:8080/"
        },
        "outputId": "0668aaad-83b6-4e30-96b6-8f54e63e9305"
      },
      "outputs": [
        {
          "output_type": "execute_result",
          "data": {
            "text/plain": [
              "array([     0,      1,      2, ..., 999997, 999998, 999999])"
            ]
          },
          "metadata": {},
          "execution_count": 3
        }
      ],
      "source": [
        "mi_arreglo = np.arange(1000000)\n",
        "mi_arreglo"
      ]
    },
    {
      "cell_type": "code",
      "execution_count": null,
      "id": "serial-satin",
      "metadata": {
        "id": "serial-satin"
      },
      "outputs": [],
      "source": [
        "mi_lista = list(range(1000000))"
      ]
    },
    {
      "cell_type": "markdown",
      "id": "entertaining-virginia",
      "metadata": {
        "id": "entertaining-virginia"
      },
      "source": [
        "<p>&nbsp;</p>\n",
        "\n",
        "Multipliquemos cada elemento de las secuencias por 2:\n",
        "\n",
        "<p>&nbsp;</p>"
      ]
    },
    {
      "cell_type": "code",
      "execution_count": null,
      "id": "desperate-quilt",
      "metadata": {
        "id": "desperate-quilt",
        "outputId": "67cd1e79-e8db-4b9d-dbb1-e122b97b9aa6",
        "colab": {
          "base_uri": "https://localhost:8080/"
        }
      },
      "outputs": [
        {
          "output_type": "stream",
          "name": "stdout",
          "text": [
            "CPU times: user 34.7 ms, sys: 3.91 ms, total: 38.7 ms\n",
            "Wall time: 38.7 ms\n"
          ]
        }
      ],
      "source": [
        "%time for _ in range(100): mi_arrx2 = mi_arreglo * 2"
      ]
    },
    {
      "cell_type": "code",
      "source": [
        "mi_arrx2"
      ],
      "metadata": {
        "colab": {
          "base_uri": "https://localhost:8080/"
        },
        "id": "fIfZ8ngeFNcP",
        "outputId": "16231c84-840f-446a-85eb-08d89594c38d"
      },
      "id": "fIfZ8ngeFNcP",
      "execution_count": null,
      "outputs": [
        {
          "output_type": "execute_result",
          "data": {
            "text/plain": [
              "array([      0,       2,       4, ..., 1999994, 1999996, 1999998])"
            ]
          },
          "metadata": {},
          "execution_count": 7
        }
      ]
    },
    {
      "cell_type": "code",
      "execution_count": null,
      "id": "studied-professional",
      "metadata": {
        "id": "studied-professional",
        "outputId": "6afad952-50ba-4dee-d76d-4fb582f369cc",
        "colab": {
          "base_uri": "https://localhost:8080/"
        }
      },
      "outputs": [
        {
          "output_type": "stream",
          "name": "stdout",
          "text": [
            "CPU times: user 3.42 s, sys: 712 ms, total: 4.13 s\n",
            "Wall time: 4.14 s\n"
          ]
        }
      ],
      "source": [
        "%time for _ in range(100): mi_lisx2 = [x * 2 for x in mi_lista]"
      ]
    },
    {
      "cell_type": "markdown",
      "id": "domestic-vacuum",
      "metadata": {
        "id": "domestic-vacuum"
      },
      "source": [
        "<p>&nbsp;</p>\n",
        "\n",
        "Los algoritmos basados en NumPy son generalmente de 10 a 100 veces más rápidos (o más) que sus equivalentes de Python puro y usan significativamente menos memoria.\n",
        "\n",
        "\n",
        "<p>&nbsp;</p>\n",
        "<p>&nbsp;</p>\n",
        "\n",
        "## El ndarray de NumPy\n",
        "\n",
        "<p>&nbsp;</p>\n",
        "\n",
        "\n",
        "Una de las características clave de NumPy es su objeto de arreglo N-dimensional, o ndarray, que es un contenedor rápido y flexible para grandes conjuntos de datos en Python. Los arreglos le permiten realizar operaciones matemáticas en bloques completos de datos utilizando una sintaxis similar a las operaciones equivalentes entre elementos escalares.\n",
        "\n",
        "Para darnos una idea de cómo NumPy habilita los cálculos por bloques con una sintaxis similar a los valores escalares en los objetos internos de Python, primero importamos NumPy y generamos un pequeño arreglo de datos aleatorios:\n",
        "\n",
        "<p>&nbsp;</p>"
      ]
    },
    {
      "cell_type": "code",
      "execution_count": null,
      "id": "understood-nickel",
      "metadata": {
        "id": "understood-nickel"
      },
      "outputs": [],
      "source": [
        "import numpy as np"
      ]
    },
    {
      "cell_type": "code",
      "execution_count": null,
      "id": "regulation-mainstream",
      "metadata": {
        "id": "regulation-mainstream"
      },
      "outputs": [],
      "source": [
        "datos = np.random.randn(2, 3)"
      ]
    },
    {
      "cell_type": "code",
      "execution_count": null,
      "id": "magnetic-option",
      "metadata": {
        "id": "magnetic-option",
        "outputId": "6dfe1e01-2cb8-42c9-e95d-08a2e4473064",
        "colab": {
          "base_uri": "https://localhost:8080/"
        }
      },
      "outputs": [
        {
          "output_type": "execute_result",
          "data": {
            "text/plain": [
              "array([[ 0.21056318, -1.32129013, -0.32830026],\n",
              "       [-1.50290709,  0.22673469,  0.39878138]])"
            ]
          },
          "metadata": {},
          "execution_count": 11
        }
      ],
      "source": [
        "datos"
      ]
    },
    {
      "cell_type": "markdown",
      "id": "indirect-casting",
      "metadata": {
        "id": "indirect-casting"
      },
      "source": [
        "<p>&nbsp;</p>\n",
        "\n",
        "Hacemos las siguientes Operaciones matemáticas con datos:\n",
        "\n",
        "<p>&nbsp;</p>"
      ]
    },
    {
      "cell_type": "code",
      "execution_count": null,
      "id": "sudden-fantasy",
      "metadata": {
        "id": "sudden-fantasy",
        "outputId": "8cbfd9df-8f3e-4d68-fd8c-c7aa1263042d",
        "colab": {
          "base_uri": "https://localhost:8080/"
        }
      },
      "outputs": [
        {
          "output_type": "execute_result",
          "data": {
            "text/plain": [
              "array([[  2.1056318 , -13.21290128,  -3.28300265],\n",
              "       [-15.02907088,   2.26734689,   3.98781384]])"
            ]
          },
          "metadata": {},
          "execution_count": 12
        }
      ],
      "source": [
        "datos * 10"
      ]
    },
    {
      "cell_type": "code",
      "execution_count": null,
      "id": "incredible-indonesian",
      "metadata": {
        "id": "incredible-indonesian",
        "outputId": "e255502e-e81b-43a0-ed2e-9c41e47926b7",
        "colab": {
          "base_uri": "https://localhost:8080/"
        }
      },
      "outputs": [
        {
          "output_type": "execute_result",
          "data": {
            "text/plain": [
              "array([[ 0.42112636, -2.64258026, -0.65660053],\n",
              "       [-3.00581418,  0.45346938,  0.79756277]])"
            ]
          },
          "metadata": {},
          "execution_count": 13
        }
      ],
      "source": [
        "datos + datos"
      ]
    },
    {
      "cell_type": "code",
      "source": [
        "vector = np.array( [2.0, 5.0, 2.0] )\n",
        "vector"
      ],
      "metadata": {
        "colab": {
          "base_uri": "https://localhost:8080/"
        },
        "id": "bxRYX6DIGUyS",
        "outputId": "88471221-40a2-43c1-e514-ad8c77ceb910"
      },
      "id": "bxRYX6DIGUyS",
      "execution_count": null,
      "outputs": [
        {
          "output_type": "execute_result",
          "data": {
            "text/plain": [
              "array([2., 5., 2.])"
            ]
          },
          "metadata": {},
          "execution_count": 23
        }
      ]
    },
    {
      "cell_type": "code",
      "source": [
        "datos + vector"
      ],
      "metadata": {
        "colab": {
          "base_uri": "https://localhost:8080/"
        },
        "id": "LZXRtvpAGcr5",
        "outputId": "12797bbc-a0bb-4ef5-a56c-8464cdbb6071"
      },
      "id": "LZXRtvpAGcr5",
      "execution_count": null,
      "outputs": [
        {
          "output_type": "execute_result",
          "data": {
            "text/plain": [
              "array([[2.21056318, 3.67870987, 1.67169974],\n",
              "       [0.49709291, 5.22673469, 2.39878138]])"
            ]
          },
          "metadata": {},
          "execution_count": 24
        }
      ]
    },
    {
      "cell_type": "markdown",
      "id": "distributed-indian",
      "metadata": {
        "id": "distributed-indian"
      },
      "source": [
        "<p>&nbsp;</p>\n",
        "\n",
        "En el primer ejemplo, todos los elementos se han multiplicado por 10. En el segundo,\n",
        "los valores correspondientes en cada \"celda\" del arreglo se han sumado a si mismos.\n",
        "\n",
        "\n",
        "Un ndarray es un contenedor multidimensional genérico para datos homogéneos; es decir, todos los elementos deben ser del mismo tipo. Cada arreglo tiene un `shape`, una tupla que indica el tamaño de cada dimensión y un `dtype`, un objeto que describe el *tipo de datos* del arreglo:\n",
        "\n",
        "<p>&nbsp;</p>"
      ]
    },
    {
      "cell_type": "code",
      "execution_count": null,
      "id": "professional-stylus",
      "metadata": {
        "id": "professional-stylus",
        "outputId": "b42d3416-a4c7-4c5c-adf8-4c8cdcbf1710",
        "colab": {
          "base_uri": "https://localhost:8080/"
        }
      },
      "outputs": [
        {
          "output_type": "execute_result",
          "data": {
            "text/plain": [
              "(2, 3)"
            ]
          },
          "metadata": {},
          "execution_count": 25
        }
      ],
      "source": [
        "datos.shape"
      ]
    },
    {
      "cell_type": "code",
      "execution_count": null,
      "id": "color-spider",
      "metadata": {
        "id": "color-spider",
        "outputId": "8f517ece-cbf6-493f-e50e-241105389b4a",
        "colab": {
          "base_uri": "https://localhost:8080/"
        }
      },
      "outputs": [
        {
          "output_type": "execute_result",
          "data": {
            "text/plain": [
              "dtype('float64')"
            ]
          },
          "metadata": {},
          "execution_count": 26
        }
      ],
      "source": [
        "datos.dtype"
      ]
    },
    {
      "cell_type": "markdown",
      "id": "capital-skating",
      "metadata": {
        "id": "capital-skating"
      },
      "source": [
        "<p>&nbsp;</p>\n",
        "<p>&nbsp;</p>\n",
        "\n",
        "### Creación de ndarrays\n",
        "\n",
        "<p>&nbsp;</p>\n",
        "\n",
        "La forma más fácil de crear un arreglo es usar la función `array`. Esta acepta cualquier objeto similar a una secuencia (incluidos otros arreglos) y produce un nuevo arreglo NumPy que contiene los datos pasados. Por ejemplo, una lista es un buen candidato para la conversión:\n",
        "\n",
        "<p>&nbsp;</p>"
      ]
    },
    {
      "cell_type": "code",
      "execution_count": null,
      "id": "caroline-screening",
      "metadata": {
        "id": "caroline-screening"
      },
      "outputs": [],
      "source": [
        "datos1 = [6, 7.5, 8, 0, 1]"
      ]
    },
    {
      "cell_type": "code",
      "execution_count": null,
      "id": "hungarian-swing",
      "metadata": {
        "id": "hungarian-swing"
      },
      "outputs": [],
      "source": [
        "arreglo1 = np.array(datos1)"
      ]
    },
    {
      "cell_type": "code",
      "execution_count": null,
      "id": "aggregate-florence",
      "metadata": {
        "id": "aggregate-florence",
        "outputId": "25e9648c-e867-4773-9c41-cfb57c8cbd56",
        "colab": {
          "base_uri": "https://localhost:8080/"
        }
      },
      "outputs": [
        {
          "output_type": "execute_result",
          "data": {
            "text/plain": [
              "array([6. , 7.5, 8. , 0. , 1. ])"
            ]
          },
          "metadata": {},
          "execution_count": 15
        }
      ],
      "source": [
        "arreglo1"
      ]
    },
    {
      "cell_type": "markdown",
      "id": "fabulous-collins",
      "metadata": {
        "id": "fabulous-collins"
      },
      "source": [
        "\n",
        "<p>&nbsp;</p>\n",
        "\n",
        "\n",
        "Las secuencias anidadas, como una lista de listas de igual longitud, se convertirán en un arreglo multidimensional:\n",
        "\n",
        "<p>&nbsp;</p>\n"
      ]
    },
    {
      "cell_type": "code",
      "execution_count": null,
      "id": "competent-jacket",
      "metadata": {
        "id": "competent-jacket",
        "colab": {
          "base_uri": "https://localhost:8080/"
        },
        "outputId": "da1b95b6-2c73-4822-fd23-c7cfd9f46216"
      },
      "outputs": [
        {
          "output_type": "execute_result",
          "data": {
            "text/plain": [
              "[[1, 2, 3, 4], [5, 6, 7, 8]]"
            ]
          },
          "metadata": {},
          "execution_count": 28
        }
      ],
      "source": [
        "datos2 = [[1, 2, 3, 4], [5, 6, 7, 8]]\n",
        "datos2"
      ]
    },
    {
      "cell_type": "code",
      "execution_count": null,
      "id": "authorized-incentive",
      "metadata": {
        "id": "authorized-incentive"
      },
      "outputs": [],
      "source": [
        "arreglo2 = np.array(datos2)"
      ]
    },
    {
      "cell_type": "code",
      "execution_count": null,
      "id": "separated-doubt",
      "metadata": {
        "id": "separated-doubt",
        "outputId": "a0542d68-a162-4538-9ef9-234f61931ebe",
        "colab": {
          "base_uri": "https://localhost:8080/"
        }
      },
      "outputs": [
        {
          "output_type": "execute_result",
          "data": {
            "text/plain": [
              "array([[1, 2, 3, 4],\n",
              "       [5, 6, 7, 8]])"
            ]
          },
          "metadata": {},
          "execution_count": 30
        }
      ],
      "source": [
        "arreglo2"
      ]
    },
    {
      "cell_type": "markdown",
      "id": "judicial-barbados",
      "metadata": {
        "id": "judicial-barbados"
      },
      "source": [
        "           \n",
        "<p>&nbsp;</p>            \n",
        "\n",
        "Como `datos2` era una lista de listas, el arreglo NumPy `arreglo2` tiene dos dimensiones con forma inferida de los datos. Podemos confirmar esto inspeccionando los atributos `ndim` y `shape`:\n",
        "\n",
        "<p>&nbsp;</p>\n"
      ]
    },
    {
      "cell_type": "code",
      "execution_count": null,
      "id": "manual-introduction",
      "metadata": {
        "id": "manual-introduction",
        "outputId": "17f7466e-8c33-42d7-a969-f64de628f541",
        "colab": {
          "base_uri": "https://localhost:8080/"
        }
      },
      "outputs": [
        {
          "output_type": "execute_result",
          "data": {
            "text/plain": [
              "2"
            ]
          },
          "metadata": {},
          "execution_count": 31
        }
      ],
      "source": [
        "arreglo2.ndim"
      ]
    },
    {
      "cell_type": "code",
      "execution_count": null,
      "id": "aerial-vancouver",
      "metadata": {
        "id": "aerial-vancouver",
        "outputId": "4e95bf92-a93b-4a97-a426-ccbf624e5d97",
        "colab": {
          "base_uri": "https://localhost:8080/"
        }
      },
      "outputs": [
        {
          "output_type": "execute_result",
          "data": {
            "text/plain": [
              "(2, 4)"
            ]
          },
          "metadata": {},
          "execution_count": 32
        }
      ],
      "source": [
        "arreglo2.shape"
      ]
    },
    {
      "cell_type": "markdown",
      "id": "equal-motor",
      "metadata": {
        "id": "equal-motor"
      },
      "source": [
        "\n",
        "<p>&nbsp;</p>\n",
        "\n",
        "A menos que se especifique explícitamente, `np.array` intenta inferir un tipo adecuado de datos para el arreglo que crea. El tipo de datos se almacena en un objeto de metadatos `dtype` especial; por ejemplo, en los dos ejemplos anteriores tenemos:\n",
        "\n",
        "<p>&nbsp;</p>\n"
      ]
    },
    {
      "cell_type": "code",
      "execution_count": null,
      "id": "civic-belize",
      "metadata": {
        "id": "civic-belize",
        "outputId": "a01606e1-86a9-4555-ed69-74a3c29e7723",
        "colab": {
          "base_uri": "https://localhost:8080/"
        }
      },
      "outputs": [
        {
          "output_type": "execute_result",
          "data": {
            "text/plain": [
              "dtype('float64')"
            ]
          },
          "metadata": {},
          "execution_count": 21
        }
      ],
      "source": [
        "arreglo1.dtype"
      ]
    },
    {
      "cell_type": "code",
      "execution_count": null,
      "id": "jewish-education",
      "metadata": {
        "id": "jewish-education",
        "outputId": "98ff4bbf-af67-427b-fc49-83f8ad99cc1a",
        "colab": {
          "base_uri": "https://localhost:8080/"
        }
      },
      "outputs": [
        {
          "output_type": "execute_result",
          "data": {
            "text/plain": [
              "dtype('int64')"
            ]
          },
          "metadata": {},
          "execution_count": 22
        }
      ],
      "source": [
        "arreglo2.dtype"
      ]
    },
    {
      "cell_type": "markdown",
      "id": "controlled-silver",
      "metadata": {
        "id": "controlled-silver"
      },
      "source": [
        "\n",
        "<p>&nbsp;</p>\n",
        "\n",
        "\n",
        "Además de `np.array`, existen otras funciones para crear nuevos arreglos.\n",
        "\n",
        "  * `zeros` y `ones` crean arreglos de 0s o 1s, respectivamente, con una longitud o forma dada.\n",
        "  * `empty` crea un arreglo sin inicializar sus valores a algún valor en particular.\n",
        "  \n",
        "<p>&nbsp;</p>\n",
        "  \n",
        "Para crear un arreglo de mayor dimensión usando estos métodos, pasamos una tupla para la forma:\n",
        "\n",
        "<p>&nbsp;</p>\n"
      ]
    },
    {
      "cell_type": "code",
      "execution_count": null,
      "id": "wired-poetry",
      "metadata": {
        "id": "wired-poetry",
        "outputId": "ca4ee76a-3abf-4439-b878-7d685c56caf0",
        "colab": {
          "base_uri": "https://localhost:8080/"
        }
      },
      "outputs": [
        {
          "output_type": "execute_result",
          "data": {
            "text/plain": [
              "array([0., 0., 0., 0., 0., 0., 0., 0., 0., 0.])"
            ]
          },
          "metadata": {},
          "execution_count": 33
        }
      ],
      "source": [
        "np.zeros(10)"
      ]
    },
    {
      "cell_type": "code",
      "execution_count": null,
      "id": "hollywood-journalist",
      "metadata": {
        "id": "hollywood-journalist",
        "outputId": "2ddc7106-0dd3-4e9a-b520-08eabdc780f3",
        "colab": {
          "base_uri": "https://localhost:8080/"
        }
      },
      "outputs": [
        {
          "output_type": "execute_result",
          "data": {
            "text/plain": [
              "array([[0., 0., 0., 0., 0., 0.],\n",
              "       [0., 0., 0., 0., 0., 0.],\n",
              "       [0., 0., 0., 0., 0., 0.]])"
            ]
          },
          "metadata": {},
          "execution_count": 34
        }
      ],
      "source": [
        "np.zeros((3, 6))"
      ]
    },
    {
      "cell_type": "code",
      "execution_count": null,
      "id": "simplified-glucose",
      "metadata": {
        "id": "simplified-glucose",
        "outputId": "63afb18c-9f0b-4a0c-de66-4c6c37531909",
        "colab": {
          "base_uri": "https://localhost:8080/"
        }
      },
      "outputs": [
        {
          "output_type": "execute_result",
          "data": {
            "text/plain": [
              "array([[[4.84526271e-310, 0.00000000e+000],\n",
              "        [0.00000000e+000, 0.00000000e+000],\n",
              "        [0.00000000e+000, 0.00000000e+000]],\n",
              "\n",
              "       [[0.00000000e+000, 0.00000000e+000],\n",
              "        [0.00000000e+000, 0.00000000e+000],\n",
              "        [0.00000000e+000, 0.00000000e+000]]])"
            ]
          },
          "metadata": {},
          "execution_count": 35
        }
      ],
      "source": [
        "np.empty((2, 3, 2))"
      ]
    },
    {
      "cell_type": "markdown",
      "id": "opposed-surge",
      "metadata": {
        "id": "opposed-surge"
      },
      "source": [
        "\n",
        "<p>&nbsp;</p>\n",
        "\n",
        "\n",
        "`arange` es una versión para arreglos de la función interna `range` de Python:\n",
        "\n",
        "<p>&nbsp;</p>\n"
      ]
    },
    {
      "cell_type": "code",
      "execution_count": null,
      "id": "genuine-ideal",
      "metadata": {
        "id": "genuine-ideal",
        "outputId": "e6429e75-aeba-4251-ca0f-5de39e387051",
        "colab": {
          "base_uri": "https://localhost:8080/"
        }
      },
      "outputs": [
        {
          "output_type": "execute_result",
          "data": {
            "text/plain": [
              "array([ 0,  1,  2,  3,  4,  5,  6,  7,  8,  9, 10, 11, 12, 13, 14])"
            ]
          },
          "metadata": {},
          "execution_count": 36
        }
      ],
      "source": [
        "np.arange(15)"
      ]
    },
    {
      "cell_type": "markdown",
      "id": "continuing-washington",
      "metadata": {
        "id": "continuing-washington"
      },
      "source": [
        "\n",
        "\n",
        "<p>&nbsp;</p>\n",
        "\n",
        "La siguiete tabla muestra una lista breve de las rutinas para crear arreglos. Dado que NumPy se centra en la computación numérica, el tipo de datos, si no se especifica, en muchos casos será `float64`.\n",
        "\n",
        "\n",
        "\n",
        "\n",
        "<p>&nbsp;</p>\n",
        "\n",
        "|Rutina|  Descripción |\n",
        "| :--- | :------------   |\n",
        "| arange   |  Retorna valores espaciados uniformemente dentro de un intervalo dado. |\n",
        "| array   | Crea un arreglo.  |\n",
        "| asarray   |  Convierte la entrada a un arreglo. |\n",
        "| asmatrix   | Interpreta la entrada como una arreglo.  |\n",
        "| empty   | Retorna un nuevo arreglo de forma y tipo dados, sin inicializar entradas.  |\n",
        "| eye   |  Retorna un arreglo 2-D con unos en la diagonal y ceros en los otros lugares. |\n",
        "| full   |  Retorna un nuevo arreglo de forma y tipo dados, relleno con fill_value. |\n",
        "| identity   | Retorna el arreglo identidad.  |\n",
        "| ones   | Retorna un nuevo arreglo de forma y tipo dados, inicializado a unos.  |\n",
        "| zeros   |  Retorna un nuevo arreglo de forma y tipo dados, inicializado a zeros. |\n",
        "\n",
        "\n",
        "<p>&nbsp;</p>\n",
        "<p>&nbsp;</p>\n",
        "\n",
        "### Tipos de datos para ndarrays\n",
        "<p>&nbsp;</p>\n",
        "\n",
        "El *tipo de datos* o `dtype` es un objeto especial que contiene la información &nbsp; –––o *metadatos*, datos sobre los datos––– &nbsp; que el ndarray necesita para interpretar una porción de memoria como un tipo particular de datos:\n",
        "\n",
        "<p>&nbsp;</p>\n"
      ]
    },
    {
      "cell_type": "code",
      "execution_count": null,
      "id": "assigned-petroleum",
      "metadata": {
        "id": "assigned-petroleum",
        "colab": {
          "base_uri": "https://localhost:8080/"
        },
        "outputId": "df96fb13-b812-4897-ac75-e3efb13462e0"
      },
      "outputs": [
        {
          "output_type": "execute_result",
          "data": {
            "text/plain": [
              "array([1., 2., 3.])"
            ]
          },
          "metadata": {},
          "execution_count": 27
        }
      ],
      "source": [
        "arreglo1 = np.array([1, 2, 3], dtype=np.float64)\n",
        "arreglo1"
      ]
    },
    {
      "cell_type": "code",
      "execution_count": null,
      "id": "expected-disclosure",
      "metadata": {
        "id": "expected-disclosure",
        "colab": {
          "base_uri": "https://localhost:8080/"
        },
        "outputId": "55025d17-25cf-4505-e8a8-e1966d745323"
      },
      "outputs": [
        {
          "output_type": "execute_result",
          "data": {
            "text/plain": [
              "array([1, 2, 3], dtype=int32)"
            ]
          },
          "metadata": {},
          "execution_count": 28
        }
      ],
      "source": [
        "arreglo2 = np.array([1, 2, 3], dtype=np.int32)\n",
        "arreglo2"
      ]
    },
    {
      "cell_type": "code",
      "execution_count": null,
      "id": "julian-suite",
      "metadata": {
        "id": "julian-suite",
        "outputId": "7bdd71d3-a5d7-4f4c-ef68-898b5e2f6b9e",
        "colab": {
          "base_uri": "https://localhost:8080/"
        }
      },
      "outputs": [
        {
          "output_type": "execute_result",
          "data": {
            "text/plain": [
              "dtype('float64')"
            ]
          },
          "metadata": {},
          "execution_count": 29
        }
      ],
      "source": [
        "arreglo1.dtype"
      ]
    },
    {
      "cell_type": "code",
      "execution_count": null,
      "id": "martial-antarctica",
      "metadata": {
        "id": "martial-antarctica",
        "outputId": "61f2c039-5660-449e-d20f-7dc76ca73188",
        "colab": {
          "base_uri": "https://localhost:8080/"
        }
      },
      "outputs": [
        {
          "output_type": "execute_result",
          "data": {
            "text/plain": [
              "dtype('int32')"
            ]
          },
          "metadata": {},
          "execution_count": 30
        }
      ],
      "source": [
        "arreglo2.dtype"
      ]
    },
    {
      "cell_type": "markdown",
      "id": "forbidden-italian",
      "metadata": {
        "id": "forbidden-italian"
      },
      "source": [
        "\n",
        "<p>&nbsp;</p>\n",
        "<p>&nbsp;</p>\n",
        "\n",
        "|Numpy: tipo|  C: tipo |  Descripción  |\n",
        "| :----- | :----   |:-------------------|\n",
        "|  np.bool_  |  bool  |  Booleano (verdadero o falso) almacenado como un byte\n",
        "|  np.byte  |  signed char  |  Dependiente de plataforma\n",
        "|  np.ubyte  |  unsigned char  |  Dependiente de plataforma\n",
        "|  np.short  |  short  |  Dependiente de plataforma\n",
        "|  np.ushort  |  unsigned short  |  Dependiente de plataforma\n",
        "|  np.intc  |  int  |  Dependiente de plataforma\n",
        "|  np.uintc  |  unsigned int  |  Dependiente de plataforma\n",
        "|  np.int_  |  long  |  Dependiente de plataforma\n",
        "|  np.uint  |  unsigned long  |  Dependiente de plataforma\n",
        "|  np.longlong  |  long long  |  Dependiente de plataforma\n",
        "|  np.ulonglong  |  unsigned long long  |  Dependiente de plataforma\n",
        "|  np.half / np.float16|     |   Flotante de media precisión: bit de signo, exponente de 5 bits, mantisa de 10 bits.\n",
        "|  np.single|  float|  Flotante de precisión simple definido por la plataforma: típicamente bit de signo, exponente de 8 bits, mantisa de 23 bits.\n",
        "|  np.double|  double|  Flotante de doble precisión definido por la plataforma: típicamente bit de signo, exponente de 11 bits, mantisa de 52 bits.\n",
        "|  np.longdouble|  long double|  Flotante de precisión extendida definido por la plataforma.\n",
        "|  np.csingle|  float complex|  Número complejo, representado por dos flotantes de precisión simple (componentes real e imaginaria)\n",
        "|  np.cdouble|  double complex|  Número complejo, representado por dos flotantes de doble precisión (componentes real e imaginaria).\n",
        "|  np.clongdouble|  long double complex|  Número complejo, representado por dos flotantes de precisión extendida (componentes real e imaginaria).\n",
        "|  np.int8|  int8_t|  Byte (-128 a 127).\n",
        "|  np.int16|  int16_t|  Entero (-32768 a 32767).\n",
        "|  np.int32|  int32_t|  Entero (-2147483648 a 2147483647).\n",
        "|  np.int64|  int64_t|  Entero (-9223372036854775808 a 9223372036854775807).\n",
        "|  np.uint8|  uint8_t|  Entero sin signo (0 a 255).\n",
        "|  np.uint16|  uint16_t|  Entero sin signo (0 a 65535).\n",
        "|  np.uint32|  uint32_t|  Entero sin signo (0 a 4294967295).\n",
        "|  np.uint64|  uint64_t|  Entero sin signo (0 a 18446744073709551615).\n",
        "|  np.intp|  intptr_t|  Entero utilizado para indexación, generalmente igual que ssize_t.\n",
        "|  np.uintp|  uintptr_t|  Integer large enough to hold a pointer Entero lo suficientemente grande como para contener un punter.\n",
        "|  np.float32|  float   |    |\n",
        "|  np.float64 / np.float_|  double|  Note que esto coincide con la precisión del float interno de pitón.\n",
        "|  np.complex64|  float complex|  Número complejo, representado por dos flotantes de 32 bits (componentes real e imaginaria).\n",
        "|  np.complex128 / np.complex_|  double complex|  Note that this matches the precision of the builtin python complex. Note que esto coincide con la precisión del complex  interno de Python.\n",
        "\n",
        "\n",
        "<p>&nbsp;</p>\n",
        "<p>&nbsp;</p>\n",
        "\n",
        "Podemos convertir un arreglo de un dtype a otro utilizando el método `astype` de ndarray:\n",
        "\n",
        "<p>&nbsp;</p>\n"
      ]
    },
    {
      "cell_type": "code",
      "execution_count": null,
      "id": "needed-ribbon",
      "metadata": {
        "id": "needed-ribbon"
      },
      "outputs": [],
      "source": [
        "arreglo = np.array([1, 2, 3, 4, 5])"
      ]
    },
    {
      "cell_type": "code",
      "execution_count": null,
      "id": "fiscal-clear",
      "metadata": {
        "id": "fiscal-clear",
        "outputId": "a89b109f-28de-4006-965f-7e37ba63ab75",
        "colab": {
          "base_uri": "https://localhost:8080/"
        }
      },
      "outputs": [
        {
          "output_type": "execute_result",
          "data": {
            "text/plain": [
              "dtype('int64')"
            ]
          },
          "metadata": {},
          "execution_count": 32
        }
      ],
      "source": [
        "arreglo.dtype"
      ]
    },
    {
      "cell_type": "code",
      "execution_count": null,
      "id": "restricted-guinea",
      "metadata": {
        "id": "restricted-guinea"
      },
      "outputs": [],
      "source": [
        "float_arreglo = arreglo.astype(np.float64)"
      ]
    },
    {
      "cell_type": "code",
      "execution_count": null,
      "id": "embedded-professional",
      "metadata": {
        "id": "embedded-professional",
        "outputId": "e0e97961-e97a-4cd4-dca0-f9c076dbfc95",
        "colab": {
          "base_uri": "https://localhost:8080/"
        }
      },
      "outputs": [
        {
          "output_type": "execute_result",
          "data": {
            "text/plain": [
              "dtype('float64')"
            ]
          },
          "metadata": {},
          "execution_count": 34
        }
      ],
      "source": [
        "float_arreglo.dtype"
      ]
    },
    {
      "cell_type": "markdown",
      "id": "whole-butterfly",
      "metadata": {
        "id": "whole-butterfly"
      },
      "source": [
        "\n",
        "\n",
        "\n",
        "\n",
        "<p>&nbsp;</p>\n",
        "\n",
        "En este ejemplo, los enteros se convirtieron a punto flotante.\n",
        "\n",
        "\n",
        "\n",
        "\n",
        "\n",
        "Al convertir números de punto flotante a tipo entero, la parte decimal se truncará:\n",
        "\n",
        "<p>&nbsp;</p>\n"
      ]
    },
    {
      "cell_type": "code",
      "execution_count": null,
      "id": "accredited-prophet",
      "metadata": {
        "id": "accredited-prophet"
      },
      "outputs": [],
      "source": [
        "arreglo = np.array([3.7, -1.2, -2.6, 0.5, 12.9, 10.1])"
      ]
    },
    {
      "cell_type": "code",
      "execution_count": null,
      "id": "british-aurora",
      "metadata": {
        "id": "british-aurora",
        "outputId": "61c29394-0f4a-4b2a-d93d-3ebb3a555724",
        "colab": {
          "base_uri": "https://localhost:8080/"
        }
      },
      "outputs": [
        {
          "output_type": "execute_result",
          "data": {
            "text/plain": [
              "array([ 3.7, -1.2, -2.6,  0.5, 12.9, 10.1])"
            ]
          },
          "metadata": {},
          "execution_count": 36
        }
      ],
      "source": [
        "arreglo"
      ]
    },
    {
      "cell_type": "code",
      "execution_count": null,
      "id": "indian-priority",
      "metadata": {
        "id": "indian-priority",
        "outputId": "0584807e-d740-406a-a587-0a0d853ea009",
        "colab": {
          "base_uri": "https://localhost:8080/"
        }
      },
      "outputs": [
        {
          "output_type": "execute_result",
          "data": {
            "text/plain": [
              "array([ 3, -1, -2,  0, 12, 10], dtype=int32)"
            ]
          },
          "metadata": {},
          "execution_count": 37
        }
      ],
      "source": [
        "arreglo.astype(np.int32)"
      ]
    },
    {
      "cell_type": "code",
      "source": [
        "enteros = np.array([5,3,2])\n",
        "print(enteros, enteros.dtype)"
      ],
      "metadata": {
        "colab": {
          "base_uri": "https://localhost:8080/"
        },
        "id": "EMdI7wbFI4Lp",
        "outputId": "ec24145b-bde5-4548-f449-fc7a57416df2"
      },
      "id": "EMdI7wbFI4Lp",
      "execution_count": null,
      "outputs": [
        {
          "output_type": "stream",
          "name": "stdout",
          "text": [
            "[5 3 2] int64\n"
          ]
        }
      ]
    },
    {
      "cell_type": "code",
      "source": [
        "flotantes = np.array([5,3,2.0])\n",
        "print(flotantes, flotantes.dtype)"
      ],
      "metadata": {
        "colab": {
          "base_uri": "https://localhost:8080/"
        },
        "id": "_lM2AzoDJKpE",
        "outputId": "5c14bacc-54c8-40c7-9e05-6e646b1d5a26"
      },
      "id": "_lM2AzoDJKpE",
      "execution_count": null,
      "outputs": [
        {
          "output_type": "stream",
          "name": "stdout",
          "text": [
            "[5. 3. 2.] float64\n"
          ]
        }
      ]
    },
    {
      "cell_type": "markdown",
      "id": "light-grass",
      "metadata": {
        "id": "light-grass"
      },
      "source": [
        "\n",
        "<p>&nbsp;</p>\n",
        "\n",
        "\n",
        "\n",
        "Si tenemos un arreglo de cadenas que representan números, podemos usar `astype` para convertirlas a forma numérica:\n",
        "\n",
        "<p>&nbsp;</p>\n"
      ]
    },
    {
      "cell_type": "code",
      "execution_count": null,
      "id": "celtic-omaha",
      "metadata": {
        "id": "celtic-omaha"
      },
      "outputs": [],
      "source": [
        "cadenas_numéricas = np.array(['1.25', '-9.6', '42'], dtype=np.string_)"
      ]
    },
    {
      "cell_type": "code",
      "execution_count": null,
      "id": "fiscal-theology",
      "metadata": {
        "id": "fiscal-theology",
        "outputId": "b3264602-c040-4e0e-b6b9-e58780edddc3",
        "colab": {
          "base_uri": "https://localhost:8080/"
        }
      },
      "outputs": [
        {
          "output_type": "execute_result",
          "data": {
            "text/plain": [
              "array([ 1.25, -9.6 , 42.  ])"
            ]
          },
          "metadata": {},
          "execution_count": 39
        }
      ],
      "source": [
        "cadenas_numéricas.astype(float)"
      ]
    },
    {
      "cell_type": "code",
      "source": [
        "cadenas_numéricas[1] = 'hdhedndg'"
      ],
      "metadata": {
        "id": "RXLiqnj6Ekr8"
      },
      "id": "RXLiqnj6Ekr8",
      "execution_count": null,
      "outputs": []
    },
    {
      "cell_type": "code",
      "source": [
        "cadenas_numéricas"
      ],
      "metadata": {
        "colab": {
          "base_uri": "https://localhost:8080/"
        },
        "id": "kcYaba5zEqB1",
        "outputId": "bd59a317-2d22-41d1-c3e7-6118248007e1"
      },
      "id": "kcYaba5zEqB1",
      "execution_count": null,
      "outputs": [
        {
          "output_type": "execute_result",
          "data": {
            "text/plain": [
              "array([b'1.25', b'hdhe', b'42'], dtype='|S4')"
            ]
          },
          "metadata": {},
          "execution_count": 41
        }
      ]
    },
    {
      "cell_type": "markdown",
      "id": "occasional-thousand",
      "metadata": {
        "id": "occasional-thousand"
      },
      "source": [
        "\n",
        "<p>&nbsp;</p>\n",
        "\n",
        "NOTA: Es importante tener cuidado al usar el tipo `numpy.string_`, ya que los datos de cadena en NumPy tienen un tamaño fijo y pueden truncar la entrada sin previo aviso. pandas tiene un comportamiento más intuitivo y listo para usar en datos no numéricos.\n",
        "\n",
        "<p>&nbsp;</p>\n",
        "\n",
        "Si la conversión fallara por alguna razón (como una cadena que no se puede convertir a `float64`), se generará un ValueError. Aquí escribimos `float` en lugar de `np.float64`; NumPy \"aliases\" &nbsp; –––cambia––– &nbsp; los tipos de Python a sus propios tipos de datos equivalentes.\n",
        "\n",
        "<p>&nbsp;</p>\n",
        "\n",
        "También podemos usar el atributo dtype de otro arreglo:\n",
        "\n",
        "<p>&nbsp;</p>\n"
      ]
    },
    {
      "cell_type": "code",
      "execution_count": null,
      "id": "electrical-warrior",
      "metadata": {
        "id": "electrical-warrior"
      },
      "outputs": [],
      "source": [
        "int_arreglo= np.arange(10)"
      ]
    },
    {
      "cell_type": "code",
      "execution_count": null,
      "id": "diverse-renewal",
      "metadata": {
        "id": "diverse-renewal"
      },
      "outputs": [],
      "source": [
        "calibres = np.array([.22, .270, .357, .380, .44, .50], dtype=np.float64)"
      ]
    },
    {
      "cell_type": "code",
      "execution_count": null,
      "id": "integral-dodge",
      "metadata": {
        "id": "integral-dodge",
        "outputId": "7e2db110-e18d-4fe3-e2d6-1d612c710538",
        "colab": {
          "base_uri": "https://localhost:8080/"
        }
      },
      "outputs": [
        {
          "output_type": "execute_result",
          "data": {
            "text/plain": [
              "array([0., 1., 2., 3., 4., 5., 6., 7., 8., 9.])"
            ]
          },
          "metadata": {},
          "execution_count": 44
        }
      ],
      "source": [
        "int_arreglo.astype(calibres.dtype)"
      ]
    },
    {
      "cell_type": "markdown",
      "id": "under-sector",
      "metadata": {
        "id": "under-sector"
      },
      "source": [
        "\n",
        "<p>&nbsp;</p>\n",
        "\n",
        "Podemos usar cadenas de código de tipo abreviado para referirse a un dtype:\n",
        "\n",
        "<p>&nbsp;</p>\n"
      ]
    },
    {
      "cell_type": "code",
      "execution_count": null,
      "id": "incoming-running",
      "metadata": {
        "id": "incoming-running"
      },
      "outputs": [],
      "source": [
        "uint32_vacio = np.empty(8, dtype='u4')"
      ]
    },
    {
      "cell_type": "code",
      "execution_count": null,
      "id": "binding-clothing",
      "metadata": {
        "id": "binding-clothing",
        "outputId": "0636b8ea-c06a-46f7-ac5b-86140a558fd8",
        "colab": {
          "base_uri": "https://localhost:8080/"
        }
      },
      "outputs": [
        {
          "output_type": "execute_result",
          "data": {
            "text/plain": [
              "array([         0, 1075314688,          0, 1075707904,          0,\n",
              "       1075838976,          0, 1072693248], dtype=uint32)"
            ]
          },
          "metadata": {},
          "execution_count": 46
        }
      ],
      "source": [
        "uint32_vacio"
      ]
    },
    {
      "cell_type": "markdown",
      "id": "objective-aircraft",
      "metadata": {
        "id": "objective-aircraft"
      },
      "source": [
        "\n",
        "<p>&nbsp;</p>\n",
        "\n",
        "Llamar a `astype` siempre crea un nuevo arreglo (una copia de los datos), incluso si el nuevo tipo es el mismo que el anterior.\n",
        "\n",
        "\n",
        "Los arreglos son importantes porque permiten expresar operaciones por lotes en datos sin escribir ningun `for loop`. Los usuarios de NumPy llaman a esto *vectorización*.\n",
        "Cualquier operación aritmética entre matrices de igual tamaño aplica la operación por elementos:\n",
        "\n",
        "\n",
        "<p>&nbsp;</p>\n"
      ]
    },
    {
      "cell_type": "code",
      "execution_count": null,
      "id": "stable-ballot",
      "metadata": {
        "id": "stable-ballot"
      },
      "outputs": [],
      "source": [
        "arreglo = np.array([[1., 2., 3.], [4., 5., 6.]])"
      ]
    },
    {
      "cell_type": "code",
      "execution_count": null,
      "id": "collaborative-marriage",
      "metadata": {
        "id": "collaborative-marriage",
        "outputId": "3a887f8c-b7b7-4ba3-fa8e-4777b312b067",
        "colab": {
          "base_uri": "https://localhost:8080/"
        }
      },
      "outputs": [
        {
          "output_type": "execute_result",
          "data": {
            "text/plain": [
              "array([[1., 2., 3.],\n",
              "       [4., 5., 6.]])"
            ]
          },
          "metadata": {},
          "execution_count": 46
        }
      ],
      "source": [
        "arreglo"
      ]
    },
    {
      "cell_type": "code",
      "execution_count": null,
      "id": "annoying-intervention",
      "metadata": {
        "id": "annoying-intervention",
        "outputId": "7ad99d34-c46f-4dba-c84b-9fb5d36ddc03",
        "colab": {
          "base_uri": "https://localhost:8080/"
        }
      },
      "outputs": [
        {
          "output_type": "execute_result",
          "data": {
            "text/plain": [
              "array([[ 1.,  4.,  9.],\n",
              "       [16., 25., 36.]])"
            ]
          },
          "metadata": {},
          "execution_count": 47
        }
      ],
      "source": [
        "arreglo * arreglo"
      ]
    },
    {
      "cell_type": "code",
      "execution_count": null,
      "id": "collaborative-answer",
      "metadata": {
        "id": "collaborative-answer",
        "outputId": "821d7821-1e2b-4f14-fab6-345ea040fe60",
        "colab": {
          "base_uri": "https://localhost:8080/"
        }
      },
      "outputs": [
        {
          "output_type": "execute_result",
          "data": {
            "text/plain": [
              "array([[0., 0., 0.],\n",
              "       [0., 0., 0.]])"
            ]
          },
          "metadata": {},
          "execution_count": 48
        }
      ],
      "source": [
        "arreglo - arreglo"
      ]
    },
    {
      "cell_type": "markdown",
      "id": "german-wells",
      "metadata": {
        "id": "german-wells"
      },
      "source": [
        "\n",
        "<p>&nbsp;</p>\n",
        "\n",
        "Las operaciones aritméticas con escalares propagan el argumento escalar a cada elemento de la matriz:\n",
        "\n",
        "<p>&nbsp;</p>\n"
      ]
    },
    {
      "cell_type": "code",
      "execution_count": null,
      "id": "consistent-mistake",
      "metadata": {
        "id": "consistent-mistake",
        "outputId": "3c942a81-ae10-4597-a872-99beb0efc9ea",
        "colab": {
          "base_uri": "https://localhost:8080/"
        }
      },
      "outputs": [
        {
          "output_type": "execute_result",
          "data": {
            "text/plain": [
              "array([[1.        , 0.5       , 0.33333333],\n",
              "       [0.25      , 0.2       , 0.16666667]])"
            ]
          },
          "metadata": {},
          "execution_count": 49
        }
      ],
      "source": [
        "1 / arreglo"
      ]
    },
    {
      "cell_type": "code",
      "execution_count": null,
      "id": "absent-barrier",
      "metadata": {
        "id": "absent-barrier",
        "outputId": "d88b0619-862b-4d92-a53f-9ee7e3627f5e",
        "colab": {
          "base_uri": "https://localhost:8080/"
        }
      },
      "outputs": [
        {
          "output_type": "execute_result",
          "data": {
            "text/plain": [
              "array([[1.        , 1.41421356, 1.73205081],\n",
              "       [2.        , 2.23606798, 2.44948974]])"
            ]
          },
          "metadata": {},
          "execution_count": 50
        }
      ],
      "source": [
        "arreglo ** 0.5"
      ]
    },
    {
      "cell_type": "markdown",
      "id": "revised-headline",
      "metadata": {
        "id": "revised-headline"
      },
      "source": [
        "\n",
        "<p>&nbsp;</p>\n",
        "\n",
        "\n",
        "Las comparaciones entre arreglos del mismo tamaño producen arreglos booleanos:\n",
        "\n",
        "<p>&nbsp;</p>\n",
        "\n"
      ]
    },
    {
      "cell_type": "code",
      "execution_count": null,
      "id": "architectural-andorra",
      "metadata": {
        "id": "architectural-andorra",
        "outputId": "a3a1b9f1-3395-40ca-ddc9-d8dd98ae72b2",
        "colab": {
          "base_uri": "https://localhost:8080/"
        }
      },
      "outputs": [
        {
          "output_type": "execute_result",
          "data": {
            "text/plain": [
              "array([[1., 2., 3.],\n",
              "       [4., 5., 6.]])"
            ]
          },
          "metadata": {},
          "execution_count": 51
        }
      ],
      "source": [
        "arreglo"
      ]
    },
    {
      "cell_type": "code",
      "execution_count": null,
      "id": "pursuant-frank",
      "metadata": {
        "id": "pursuant-frank"
      },
      "outputs": [],
      "source": [
        "arreglo2 = np.array([[0., 4., 1.], [7., 2., 12.]])"
      ]
    },
    {
      "cell_type": "code",
      "execution_count": null,
      "id": "designed-hamburg",
      "metadata": {
        "id": "designed-hamburg",
        "outputId": "19716b12-bdbf-4993-b487-bc2134b5a6f9",
        "colab": {
          "base_uri": "https://localhost:8080/"
        }
      },
      "outputs": [
        {
          "output_type": "execute_result",
          "data": {
            "text/plain": [
              "array([[ 0.,  4.,  1.],\n",
              "       [ 7.,  2., 12.]])"
            ]
          },
          "metadata": {},
          "execution_count": 55
        }
      ],
      "source": [
        "arreglo2"
      ]
    },
    {
      "cell_type": "code",
      "execution_count": null,
      "id": "growing-painting",
      "metadata": {
        "id": "growing-painting",
        "outputId": "92def64a-c3dd-4c61-c8d0-1d5f39f62d13",
        "colab": {
          "base_uri": "https://localhost:8080/"
        }
      },
      "outputs": [
        {
          "output_type": "execute_result",
          "data": {
            "text/plain": [
              "array([[False,  True, False],\n",
              "       [ True, False,  True]])"
            ]
          },
          "metadata": {},
          "execution_count": 56
        }
      ],
      "source": [
        "arreglo2 > arreglo"
      ]
    },
    {
      "cell_type": "code",
      "source": [
        "arreglo @ arreglo.T"
      ],
      "metadata": {
        "colab": {
          "base_uri": "https://localhost:8080/"
        },
        "id": "jkfcYZ48FUaE",
        "outputId": "69b0f0eb-c5f8-4604-b621-cf52a43505de"
      },
      "id": "jkfcYZ48FUaE",
      "execution_count": null,
      "outputs": [
        {
          "output_type": "execute_result",
          "data": {
            "text/plain": [
              "array([[14., 32.],\n",
              "       [32., 77.]])"
            ]
          },
          "metadata": {},
          "execution_count": 52
        }
      ]
    },
    {
      "cell_type": "markdown",
      "id": "metallic-status",
      "metadata": {
        "id": "metallic-status"
      },
      "source": [
        "\n",
        "<p>&nbsp;</p>\n",
        "\n",
        "A las operaciones entre arreglos de diferentes tamaños se se les denomina *broadcasting*.\n",
        "\n",
        "<p>&nbsp;</p>\n",
        "\n",
        "\n",
        "### Indexación y segmentación\n",
        "<p>&nbsp;</p>\n",
        "\n",
        "\n",
        "La indexación de arreglos NumPy es un tema rico en el sentido de que hay muchas formas en que podemos seleccionar un subconjunto de sus datos o elementos individuales.\n",
        "Los arreglos unidimensionales son muy simples, superficialmente actúan de manera similar a las listas de Python:\n",
        "\n",
        "<p>&nbsp;</p>\n",
        "\n"
      ]
    },
    {
      "cell_type": "code",
      "execution_count": null,
      "id": "brilliant-continent",
      "metadata": {
        "id": "brilliant-continent"
      },
      "outputs": [],
      "source": [
        "arreglo = np.arange(10)"
      ]
    },
    {
      "cell_type": "code",
      "execution_count": null,
      "id": "narrative-festival",
      "metadata": {
        "id": "narrative-festival",
        "outputId": "219e80b7-9b0d-4dd0-951b-8c26595339af",
        "colab": {
          "base_uri": "https://localhost:8080/"
        }
      },
      "outputs": [
        {
          "output_type": "execute_result",
          "data": {
            "text/plain": [
              "array([0, 1, 2, 3, 4, 5, 6, 7, 8, 9])"
            ]
          },
          "metadata": {},
          "execution_count": 54
        }
      ],
      "source": [
        "arreglo"
      ]
    },
    {
      "cell_type": "code",
      "source": [
        "np.arange(-5, 6,2.5)"
      ],
      "metadata": {
        "colab": {
          "base_uri": "https://localhost:8080/"
        },
        "id": "TdDUcQYRyz9L",
        "outputId": "8a79d1c8-3872-4625-b52d-fff2267ed11d"
      },
      "id": "TdDUcQYRyz9L",
      "execution_count": null,
      "outputs": [
        {
          "output_type": "execute_result",
          "data": {
            "text/plain": [
              "array([-5. , -2.5,  0. ,  2.5,  5. ])"
            ]
          },
          "metadata": {},
          "execution_count": 60
        }
      ]
    },
    {
      "cell_type": "code",
      "execution_count": null,
      "id": "former-anatomy",
      "metadata": {
        "id": "former-anatomy",
        "outputId": "2c88bfd6-2191-4fb2-f749-4ce5b0e256ac",
        "colab": {
          "base_uri": "https://localhost:8080/"
        }
      },
      "outputs": [
        {
          "output_type": "execute_result",
          "data": {
            "text/plain": [
              "5"
            ]
          },
          "metadata": {},
          "execution_count": 58
        }
      ],
      "source": [
        "arreglo[5]"
      ]
    },
    {
      "cell_type": "code",
      "execution_count": null,
      "id": "velvet-period",
      "metadata": {
        "id": "velvet-period",
        "outputId": "9675e59d-e899-4a9e-c674-5efe5a6a9518",
        "colab": {
          "base_uri": "https://localhost:8080/"
        }
      },
      "outputs": [
        {
          "output_type": "execute_result",
          "data": {
            "text/plain": [
              "array([5, 6, 7])"
            ]
          },
          "metadata": {},
          "execution_count": 59
        }
      ],
      "source": [
        "arreglo[5:8]"
      ]
    },
    {
      "cell_type": "code",
      "execution_count": null,
      "id": "indirect-extra",
      "metadata": {
        "id": "indirect-extra"
      },
      "outputs": [],
      "source": [
        "arreglo[5:8] = 12"
      ]
    },
    {
      "cell_type": "code",
      "execution_count": null,
      "id": "owned-polyester",
      "metadata": {
        "id": "owned-polyester",
        "outputId": "1c4b5e83-5966-405f-88f8-1524288189ec",
        "colab": {
          "base_uri": "https://localhost:8080/"
        }
      },
      "outputs": [
        {
          "output_type": "execute_result",
          "data": {
            "text/plain": [
              "array([ 0,  1,  2,  3,  4, 12, 12, 12,  8,  9])"
            ]
          },
          "metadata": {},
          "execution_count": 61
        }
      ],
      "source": [
        "arreglo"
      ]
    },
    {
      "cell_type": "markdown",
      "id": "irish-switch",
      "metadata": {
        "id": "irish-switch"
      },
      "source": [
        "\n",
        "<p>&nbsp;</p>\n",
        "\n",
        "\n",
        "Como vemos, si asignamos un valor escalar a un segmento, como en `arr[5:8] = 12`, el valor se propaga (*broadcast*) a toda la selección. Una primera distinción importante de los segmentos de arreglo con referencia a las listas internas de Python es que los segmentos de arreglo son *vistas* del arreglo original. Esto significa que los datos no se copian y cualquier modificación de la vista se reflejará en el arreglo de origen.\n",
        "\n",
        "\n",
        "\n",
        "Para dar un ejemplo de esto, primero creamos una partición de `arr`:\n",
        "\n",
        "<p>&nbsp;</p>\n"
      ]
    },
    {
      "cell_type": "code",
      "execution_count": null,
      "id": "european-nerve",
      "metadata": {
        "id": "european-nerve"
      },
      "outputs": [],
      "source": [
        "arreglo_slice = arreglo[5:8]"
      ]
    },
    {
      "cell_type": "code",
      "execution_count": null,
      "id": "collect-brown",
      "metadata": {
        "id": "collect-brown",
        "outputId": "3794372f-fd42-4001-b723-a4d980a94990",
        "colab": {
          "base_uri": "https://localhost:8080/"
        }
      },
      "outputs": [
        {
          "output_type": "execute_result",
          "data": {
            "text/plain": [
              "array([12, 12, 12])"
            ]
          },
          "metadata": {},
          "execution_count": 63
        }
      ],
      "source": [
        "arreglo_slice"
      ]
    },
    {
      "cell_type": "markdown",
      "id": "optical-allergy",
      "metadata": {
        "id": "optical-allergy"
      },
      "source": [
        "<p>&nbsp;</p>\n",
        "\n",
        "Ahora, cuando cambiamos los valores en `arr_slice`, las mutaciones se reflejan en el arreglo original `arr`:\n",
        "\n",
        "<p>&nbsp;</p>\n"
      ]
    },
    {
      "cell_type": "code",
      "execution_count": null,
      "id": "occupied-progress",
      "metadata": {
        "id": "occupied-progress"
      },
      "outputs": [],
      "source": [
        "arreglo_slice[1] = 12345"
      ]
    },
    {
      "cell_type": "code",
      "execution_count": null,
      "id": "broad-legislation",
      "metadata": {
        "id": "broad-legislation",
        "outputId": "e3ff5eeb-ee51-41b8-f9dd-f16c90f108a4",
        "colab": {
          "base_uri": "https://localhost:8080/"
        }
      },
      "outputs": [
        {
          "output_type": "execute_result",
          "data": {
            "text/plain": [
              "array([    0,     1,     2,     3,     4,    12, 12345,    12,     8,\n",
              "           9])"
            ]
          },
          "metadata": {},
          "execution_count": 65
        }
      ],
      "source": [
        "arreglo"
      ]
    },
    {
      "cell_type": "markdown",
      "id": "thrown-subscriber",
      "metadata": {
        "id": "thrown-subscriber"
      },
      "source": [
        "<p>&nbsp;</p>\n",
        "\n",
        "\n",
        "La partición “vacia” `[:]`  hace referencia a todos los elementos del arreglo, por lo tanto si hacemos una asignación usando la referencia vacía el valor se asignará a todos los valores del arreglo:\n",
        "\n",
        "\n",
        "<p>&nbsp;</p>\n"
      ]
    },
    {
      "cell_type": "code",
      "execution_count": null,
      "id": "utility-lawyer",
      "metadata": {
        "id": "utility-lawyer",
        "outputId": "fd1d7afe-516c-4666-e060-c5bc680ef5d0",
        "colab": {
          "base_uri": "https://localhost:8080/"
        }
      },
      "outputs": [
        {
          "output_type": "execute_result",
          "data": {
            "text/plain": [
              "array([   12, 12345,    12])"
            ]
          },
          "metadata": {},
          "execution_count": 66
        }
      ],
      "source": [
        "arreglo_slice"
      ]
    },
    {
      "cell_type": "code",
      "execution_count": null,
      "id": "registered-syndrome",
      "metadata": {
        "id": "registered-syndrome"
      },
      "outputs": [],
      "source": [
        "arreglo_slice[:] = 77"
      ]
    },
    {
      "cell_type": "code",
      "execution_count": null,
      "id": "biblical-deposit",
      "metadata": {
        "id": "biblical-deposit",
        "outputId": "2a277936-1e0b-421d-cf2d-95e2ac59dede",
        "colab": {
          "base_uri": "https://localhost:8080/"
        }
      },
      "outputs": [
        {
          "output_type": "execute_result",
          "data": {
            "text/plain": [
              "array([77, 77, 77])"
            ]
          },
          "metadata": {},
          "execution_count": 68
        }
      ],
      "source": [
        "arreglo_slice"
      ]
    },
    {
      "cell_type": "code",
      "execution_count": null,
      "id": "eight-penny",
      "metadata": {
        "id": "eight-penny",
        "outputId": "6a362372-8708-4b3f-8985-4f9648b59013",
        "colab": {
          "base_uri": "https://localhost:8080/"
        }
      },
      "outputs": [
        {
          "output_type": "execute_result",
          "data": {
            "text/plain": [
              "array([ 0,  1,  2,  3,  4, 77, 77, 77,  8,  9])"
            ]
          },
          "metadata": {},
          "execution_count": 69
        }
      ],
      "source": [
        "arreglo"
      ]
    },
    {
      "cell_type": "markdown",
      "id": "statutory-simon",
      "metadata": {
        "id": "statutory-simon"
      },
      "source": [
        "<p>&nbsp;</p>\n",
        "\n",
        "\n",
        "NumPy ha sido diseñado para poder trabajar con arreglos muy grandes. Imaginemos los problemas de rendimiento y memoria si NumPy siempre copiara los datos.\n",
        "\n",
        "Si deseamos una copia de una porción de un ndarray en lugar de una vista, debemos copiar explícitamente el arreglo, por ejemplo, `arr[5:8].copy()`.\n",
        "\n",
        "\n",
        "Con arreglos de mayor dimensión, se tienen muchas más opciones. En un arreglo bidimensional, los elementos en cada índice ya no son escalares sino más bien arreglos unidimensionales:\n",
        "\n",
        "\n",
        "<p>&nbsp;</p>\n"
      ]
    },
    {
      "cell_type": "code",
      "execution_count": null,
      "id": "elder-output",
      "metadata": {
        "id": "elder-output"
      },
      "outputs": [],
      "source": [
        "arreglo2d = np.array([[1, 2, 3], [4, 5, 6], [7, 8, 9]])"
      ]
    },
    {
      "cell_type": "code",
      "execution_count": null,
      "id": "outside-stand",
      "metadata": {
        "id": "outside-stand",
        "outputId": "a4ad6b59-ddbe-44ad-e241-0847932dc689",
        "colab": {
          "base_uri": "https://localhost:8080/"
        }
      },
      "outputs": [
        {
          "output_type": "execute_result",
          "data": {
            "text/plain": [
              "array([[1, 2, 3],\n",
              "       [4, 5, 6],\n",
              "       [7, 8, 9]])"
            ]
          },
          "metadata": {},
          "execution_count": 73
        }
      ],
      "source": [
        "arreglo2d"
      ]
    },
    {
      "cell_type": "code",
      "execution_count": null,
      "id": "potential-acrobat",
      "metadata": {
        "id": "potential-acrobat",
        "outputId": "fc1a48f5-9274-4d84-d040-35f7176ffd5d",
        "colab": {
          "base_uri": "https://localhost:8080/"
        }
      },
      "outputs": [
        {
          "output_type": "execute_result",
          "data": {
            "text/plain": [
              "array([7, 8, 9])"
            ]
          },
          "metadata": {},
          "execution_count": 74
        }
      ],
      "source": [
        "arreglo2d[2]"
      ]
    },
    {
      "cell_type": "markdown",
      "id": "restricted-fossil",
      "metadata": {
        "id": "restricted-fossil"
      },
      "source": [
        "<p>&nbsp;</p>\n",
        "\n",
        "\n",
        "Por lo tanto podemos acceder de forma recursiva a los elementos individuales. Esto implica demasiado trabajo, por lo que podemos pasar una lista de índices separados por comas para seleccionar elementos individuales. Las formas siguientes son equivalentes:\n",
        "\n",
        "<p>&nbsp;</p>"
      ]
    },
    {
      "cell_type": "code",
      "execution_count": null,
      "id": "split-uniform",
      "metadata": {
        "id": "split-uniform",
        "outputId": "35047ddb-17ba-460b-e4ff-3ec9184707d1",
        "colab": {
          "base_uri": "https://localhost:8080/"
        }
      },
      "outputs": [
        {
          "output_type": "execute_result",
          "data": {
            "text/plain": [
              "3"
            ]
          },
          "metadata": {},
          "execution_count": 75
        }
      ],
      "source": [
        "arreglo2d[0][2]"
      ]
    },
    {
      "cell_type": "code",
      "execution_count": null,
      "id": "severe-thriller",
      "metadata": {
        "id": "severe-thriller",
        "outputId": "eccaa387-648a-4694-cdc8-7263c6d1a7cc",
        "colab": {
          "base_uri": "https://localhost:8080/"
        }
      },
      "outputs": [
        {
          "output_type": "execute_result",
          "data": {
            "text/plain": [
              "3"
            ]
          },
          "metadata": {},
          "execution_count": 77
        }
      ],
      "source": [
        "arreglo2d[0, 2]"
      ]
    },
    {
      "cell_type": "markdown",
      "id": "violent-relationship",
      "metadata": {
        "id": "violent-relationship"
      },
      "source": [
        "<p>&nbsp;</p>\n",
        "\n",
        "\n",
        "Resulta útil pensar en el eje 0 como las \"filas\" del arreglo y el eje 1 como las \"columnas\".\n",
        "\n",
        "\n",
        "<p>&nbsp;</p>\n",
        "\n",
        "En matrices multidimensionales, si omitimos los índices posteriores, el objeto devuelto será un ndarray de dimensiones inferiores que constará de todos los datos a lo largo de las dimensiones superiores. Entonces, en la matriz 2 × 2 × 3 arr3d:\n",
        "\n",
        "<p>&nbsp;</p>"
      ]
    },
    {
      "cell_type": "code",
      "execution_count": null,
      "id": "latter-magazine",
      "metadata": {
        "id": "latter-magazine"
      },
      "outputs": [],
      "source": [
        "arreglo3d = np.array([[[1, 2, 3], [4, 5, 6]], [[7, 8, 9], [10, 11, 12]]])"
      ]
    },
    {
      "cell_type": "code",
      "execution_count": null,
      "id": "thousand-worst",
      "metadata": {
        "id": "thousand-worst",
        "outputId": "b618b666-fdf3-45f3-9613-3787cbda0785",
        "colab": {
          "base_uri": "https://localhost:8080/"
        }
      },
      "outputs": [
        {
          "output_type": "execute_result",
          "data": {
            "text/plain": [
              "array([[[ 1,  2,  3],\n",
              "        [ 4,  5,  6]],\n",
              "\n",
              "       [[ 7,  8,  9],\n",
              "        [10, 11, 12]]])"
            ]
          },
          "metadata": {},
          "execution_count": 80
        }
      ],
      "source": [
        "arreglo3d"
      ]
    },
    {
      "cell_type": "markdown",
      "id": "presidential-isaac",
      "metadata": {
        "id": "presidential-isaac"
      },
      "source": [
        "<p>&nbsp;</p>\n",
        "\n",
        "`arr3d [0]` es una matriz de 2 × 3:\n",
        "\n",
        "<p>&nbsp;</p>"
      ]
    },
    {
      "cell_type": "code",
      "execution_count": null,
      "id": "fancy-argentina",
      "metadata": {
        "id": "fancy-argentina",
        "outputId": "ba3d0835-a8c7-4dd5-f52e-f178bc325c89",
        "colab": {
          "base_uri": "https://localhost:8080/"
        }
      },
      "outputs": [
        {
          "output_type": "execute_result",
          "data": {
            "text/plain": [
              "array([[1, 2, 3],\n",
              "       [4, 5, 6]])"
            ]
          },
          "metadata": {},
          "execution_count": 81
        }
      ],
      "source": [
        "arreglo3d[0]"
      ]
    },
    {
      "cell_type": "markdown",
      "id": "animal-cisco",
      "metadata": {
        "id": "animal-cisco"
      },
      "source": [
        "<p>&nbsp;</p>\n",
        "\n",
        "Tanto valores escalares como arreglos se pueden asignar a `arr3d[0]`:\n",
        "\n",
        "<p>&nbsp;</p>"
      ]
    },
    {
      "cell_type": "code",
      "execution_count": null,
      "id": "spatial-louisville",
      "metadata": {
        "id": "spatial-louisville"
      },
      "outputs": [],
      "source": [
        "valores_anteriores = arreglo3d[0].copy()"
      ]
    },
    {
      "cell_type": "code",
      "execution_count": null,
      "id": "chemical-yeast",
      "metadata": {
        "id": "chemical-yeast"
      },
      "outputs": [],
      "source": [
        "arreglo3d[0] = 42"
      ]
    },
    {
      "cell_type": "code",
      "execution_count": null,
      "id": "tough-macintosh",
      "metadata": {
        "id": "tough-macintosh",
        "outputId": "d781f477-c336-4408-f86e-a6bea79f26df",
        "colab": {
          "base_uri": "https://localhost:8080/"
        }
      },
      "outputs": [
        {
          "output_type": "execute_result",
          "data": {
            "text/plain": [
              "array([[[42, 42, 42],\n",
              "        [42, 42, 42]],\n",
              "\n",
              "       [[ 7,  8,  9],\n",
              "        [10, 11, 12]]])"
            ]
          },
          "metadata": {},
          "execution_count": 83
        }
      ],
      "source": [
        "arreglo3d"
      ]
    },
    {
      "cell_type": "code",
      "execution_count": null,
      "id": "maritime-chester",
      "metadata": {
        "id": "maritime-chester"
      },
      "outputs": [],
      "source": [
        "arreglo3d[0] = valores_anteriores"
      ]
    },
    {
      "cell_type": "code",
      "execution_count": null,
      "id": "straight-trade",
      "metadata": {
        "id": "straight-trade",
        "outputId": "731b5a05-c7cf-404d-a3ec-aa3daf3021b2",
        "colab": {
          "base_uri": "https://localhost:8080/"
        }
      },
      "outputs": [
        {
          "output_type": "execute_result",
          "data": {
            "text/plain": [
              "array([[[ 1,  2,  3],\n",
              "        [ 4,  5,  6]],\n",
              "\n",
              "       [[ 7,  8,  9],\n",
              "        [10, 11, 12]]])"
            ]
          },
          "metadata": {},
          "execution_count": 85
        }
      ],
      "source": [
        "arreglo3d"
      ]
    },
    {
      "cell_type": "markdown",
      "id": "stock-stress",
      "metadata": {
        "id": "stock-stress"
      },
      "source": [
        "<p>&nbsp;</p>\n",
        "\n",
        "Del mismo modo, `arr3d[1, 0]` proporciona todos los valores cuyos índices comienzan con `(1, 0)`, formando un arreglo unidimensional:\n",
        "\n",
        "<p>&nbsp;</p>"
      ]
    },
    {
      "cell_type": "code",
      "execution_count": null,
      "id": "black-indonesia",
      "metadata": {
        "id": "black-indonesia",
        "outputId": "e9a3e10b-1e68-4b10-c300-e06bee932f5b",
        "colab": {
          "base_uri": "https://localhost:8080/"
        }
      },
      "outputs": [
        {
          "output_type": "execute_result",
          "data": {
            "text/plain": [
              "array([7, 8, 9])"
            ]
          },
          "metadata": {},
          "execution_count": 86
        }
      ],
      "source": [
        "arreglo3d[1, 0]"
      ]
    },
    {
      "cell_type": "markdown",
      "id": "greek-tracker",
      "metadata": {
        "id": "greek-tracker"
      },
      "source": [
        "<p>&nbsp;</p>\n",
        "\n",
        "\n",
        "Esta expresión es la misma que si hubiéramos indexado en dos pasos:\n",
        "\n",
        "<p>&nbsp;</p>"
      ]
    },
    {
      "cell_type": "code",
      "execution_count": null,
      "id": "laden-individual",
      "metadata": {
        "id": "laden-individual"
      },
      "outputs": [],
      "source": [
        "x = arreglo3d[1]"
      ]
    },
    {
      "cell_type": "code",
      "execution_count": null,
      "id": "antique-modern",
      "metadata": {
        "id": "antique-modern",
        "outputId": "21c2d6f1-32e6-42d6-b356-b9d60c849e2c",
        "colab": {
          "base_uri": "https://localhost:8080/"
        }
      },
      "outputs": [
        {
          "output_type": "execute_result",
          "data": {
            "text/plain": [
              "array([[ 7,  8,  9],\n",
              "       [10, 11, 12]])"
            ]
          },
          "metadata": {},
          "execution_count": 88
        }
      ],
      "source": [
        "x"
      ]
    },
    {
      "cell_type": "code",
      "execution_count": null,
      "id": "attractive-ebony",
      "metadata": {
        "id": "attractive-ebony",
        "outputId": "6b58827e-a599-4e58-b9ae-c19439805f1b",
        "colab": {
          "base_uri": "https://localhost:8080/"
        }
      },
      "outputs": [
        {
          "output_type": "execute_result",
          "data": {
            "text/plain": [
              "array([7, 8, 9])"
            ]
          },
          "metadata": {},
          "execution_count": 89
        }
      ],
      "source": [
        "x[0]"
      ]
    },
    {
      "cell_type": "markdown",
      "id": "human-vermont",
      "metadata": {
        "id": "human-vermont"
      },
      "source": [
        "<p>&nbsp;</p>\n",
        "\n",
        "\n",
        "Notemos que en todos estos casos donde se han seleccionado subsecciones del arreglo, los arreglos retornados son vistas.\n",
        "\n",
        "<p>&nbsp;</p>\n",
        "<p>&nbsp;</p>\n",
        "\n",
        "#### Indexación con particiones\n",
        "\n",
        "<p>&nbsp;</p>\n",
        "\n",
        "Al igual que los objetos unidimensionales &nbsp; &nbsp; –––como las listas ––– &nbsp;, los ndarrays se pueden dividir con la sintaxis familiar:\n",
        "\n",
        "<p>&nbsp;</p>"
      ]
    },
    {
      "cell_type": "code",
      "execution_count": null,
      "id": "historic-millennium",
      "metadata": {
        "id": "historic-millennium",
        "outputId": "ed3e5929-3710-47b0-e506-f30626420f9f",
        "colab": {
          "base_uri": "https://localhost:8080/"
        }
      },
      "outputs": [
        {
          "output_type": "execute_result",
          "data": {
            "text/plain": [
              "array([ 0,  1,  2,  3,  4, 77, 77, 77,  8,  9])"
            ]
          },
          "metadata": {},
          "execution_count": 90
        }
      ],
      "source": [
        "arreglo"
      ]
    },
    {
      "cell_type": "code",
      "execution_count": null,
      "id": "stable-wellington",
      "metadata": {
        "id": "stable-wellington",
        "outputId": "b6a46323-1fab-42b1-9e8c-f104a5ba0e52",
        "colab": {
          "base_uri": "https://localhost:8080/"
        }
      },
      "outputs": [
        {
          "output_type": "execute_result",
          "data": {
            "text/plain": [
              "array([ 1,  2,  3,  4, 77])"
            ]
          },
          "metadata": {},
          "execution_count": 91
        }
      ],
      "source": [
        "arreglo[1:6]"
      ]
    },
    {
      "cell_type": "markdown",
      "id": "rotary-zoning",
      "metadata": {
        "id": "rotary-zoning"
      },
      "source": [
        "<p>&nbsp;</p>\n",
        "\n",
        "Consideremos el arreglo bidimensional anterior, `arr2d`. Seccionar este arreglo es un poco diferente:\n",
        "\n",
        "<p>&nbsp;</p>"
      ]
    },
    {
      "cell_type": "code",
      "execution_count": null,
      "id": "fatal-oxygen",
      "metadata": {
        "id": "fatal-oxygen"
      },
      "outputs": [],
      "source": [
        "arreglo2d = np.array([[1, 2, 3], [4, 5, 6], [7, 8, 9]])"
      ]
    },
    {
      "cell_type": "code",
      "execution_count": null,
      "id": "unlimited-passport",
      "metadata": {
        "id": "unlimited-passport",
        "outputId": "cd67ad9e-eb6e-4cbb-b026-d0883644f969",
        "colab": {
          "base_uri": "https://localhost:8080/"
        }
      },
      "outputs": [
        {
          "output_type": "execute_result",
          "data": {
            "text/plain": [
              "array([[1, 2, 3],\n",
              "       [4, 5, 6],\n",
              "       [7, 8, 9]])"
            ]
          },
          "metadata": {},
          "execution_count": 92
        }
      ],
      "source": [
        "arreglo2d"
      ]
    },
    {
      "cell_type": "code",
      "execution_count": null,
      "id": "extended-integer",
      "metadata": {
        "id": "extended-integer",
        "outputId": "177a2746-d109-4a6f-a825-f382b1cce267",
        "colab": {
          "base_uri": "https://localhost:8080/"
        }
      },
      "outputs": [
        {
          "output_type": "execute_result",
          "data": {
            "text/plain": [
              "array([[1, 2, 3],\n",
              "       [4, 5, 6]])"
            ]
          },
          "metadata": {},
          "execution_count": 93
        }
      ],
      "source": [
        "arreglo2d[:2]"
      ]
    },
    {
      "cell_type": "code",
      "source": [
        "arreglo2d[:,1]"
      ],
      "metadata": {
        "colab": {
          "base_uri": "https://localhost:8080/"
        },
        "id": "GvnhWZGMMvx8",
        "outputId": "02d2645d-4438-441c-dc23-3381769bbcd3"
      },
      "id": "GvnhWZGMMvx8",
      "execution_count": null,
      "outputs": [
        {
          "output_type": "execute_result",
          "data": {
            "text/plain": [
              "array([2, 5, 8])"
            ]
          },
          "metadata": {},
          "execution_count": 94
        }
      ]
    },
    {
      "cell_type": "code",
      "source": [
        "arreglo2d @ arreglo2d[:,1]"
      ],
      "metadata": {
        "colab": {
          "base_uri": "https://localhost:8080/"
        },
        "id": "fyRchb11NKy8",
        "outputId": "2d0e9436-7ee7-4de8-e5bb-1096bbd39a16"
      },
      "id": "fyRchb11NKy8",
      "execution_count": null,
      "outputs": [
        {
          "output_type": "execute_result",
          "data": {
            "text/plain": [
              "array([ 36,  81, 126])"
            ]
          },
          "metadata": {},
          "execution_count": 97
        }
      ]
    },
    {
      "cell_type": "markdown",
      "id": "aquatic-zealand",
      "metadata": {
        "id": "aquatic-zealand"
      },
      "source": [
        "<p>&nbsp;</p>\n",
        "\n",
        "Como vemos, se ha seccionado a lo largo del eje 0, el primer eje. Una sección, por lo tanto, selecciona un rango de elementos a lo largo de un eje. Puede ser útil leer la expresión `arr2d[:2]` como \"seleccione las dos primeras filas de `arr2d`\".\n",
        "\n",
        "<p>&nbsp;</p>\n",
        "\n",
        "Podemos pasar varias secciones lo mismo que pasar varios índices:\n",
        "\n",
        "<p>&nbsp;</p>"
      ]
    },
    {
      "cell_type": "code",
      "execution_count": null,
      "id": "lined-ceiling",
      "metadata": {
        "id": "lined-ceiling",
        "outputId": "11f2721e-dc1f-4fb5-da4f-e596949d4ada",
        "colab": {
          "base_uri": "https://localhost:8080/"
        }
      },
      "outputs": [
        {
          "output_type": "execute_result",
          "data": {
            "text/plain": [
              "array([[2, 3],\n",
              "       [5, 6]])"
            ]
          },
          "metadata": {},
          "execution_count": 95
        }
      ],
      "source": [
        "arreglo2d[:2, 1:]"
      ]
    },
    {
      "cell_type": "markdown",
      "id": "diagnostic-bubble",
      "metadata": {
        "id": "diagnostic-bubble"
      },
      "source": [
        "<p>&nbsp;</p>\n",
        "\n",
        "Al seccionar de esta forma, siempre obtenemos vistas de arreglo del mismo número de dimensiones. Al mezclar índices y sectores enteros, obtenemos sectores de dimensiones más bajas.\n",
        "\n",
        "<p>&nbsp;</p>\n",
        "\n",
        "Por ejemplo, podemos seleccionar la segunda fila pero solo las dos primeras columnas de esta manera:\n",
        "\n",
        "<p>&nbsp;</p>"
      ]
    },
    {
      "cell_type": "code",
      "execution_count": null,
      "id": "structural-missouri",
      "metadata": {
        "id": "structural-missouri",
        "outputId": "f5b3d7df-ded9-4c6a-9f8a-dd885361bca4",
        "colab": {
          "base_uri": "https://localhost:8080/"
        }
      },
      "outputs": [
        {
          "output_type": "execute_result",
          "data": {
            "text/plain": [
              "array([4, 5])"
            ]
          },
          "metadata": {},
          "execution_count": 96
        }
      ],
      "source": [
        "arreglo2d[1, :2]"
      ]
    },
    {
      "cell_type": "markdown",
      "id": "attractive-blackjack",
      "metadata": {
        "id": "attractive-blackjack"
      },
      "source": [
        "<p>&nbsp;</p>\n",
        "\n",
        "Del mismo modo, podemos seleccionar la tercera columna, pero solo las dos primeras filas:\n",
        "\n",
        "<p>&nbsp;</p>"
      ]
    },
    {
      "cell_type": "code",
      "execution_count": null,
      "id": "facial-syndication",
      "metadata": {
        "id": "facial-syndication",
        "outputId": "9719d858-8147-49c8-f000-99a19cefb3c3",
        "colab": {
          "base_uri": "https://localhost:8080/"
        }
      },
      "outputs": [
        {
          "output_type": "execute_result",
          "data": {
            "text/plain": [
              "array([3, 6])"
            ]
          },
          "metadata": {},
          "execution_count": 97
        }
      ],
      "source": [
        "arreglo2d[:2, 2]"
      ]
    },
    {
      "cell_type": "markdown",
      "id": "pharmaceutical-school",
      "metadata": {
        "id": "pharmaceutical-school"
      },
      "source": [
        "<p>&nbsp;</p>\n",
        "\n",
        "\n",
        "\n",
        "Notemos que dos puntos por sí solo significa tomar todo el eje, por lo que podemos seccionar solo ejes de dimensiones superiores de la siguiente manera:\n",
        "\n",
        "<p>&nbsp;</p>"
      ]
    },
    {
      "cell_type": "code",
      "execution_count": null,
      "id": "piano-approach",
      "metadata": {
        "id": "piano-approach",
        "outputId": "4033a8de-1644-4f5c-8057-6d7b85236039",
        "colab": {
          "base_uri": "https://localhost:8080/"
        }
      },
      "outputs": [
        {
          "output_type": "execute_result",
          "data": {
            "text/plain": [
              "array([[1],\n",
              "       [4],\n",
              "       [7]])"
            ]
          },
          "metadata": {},
          "execution_count": 98
        }
      ],
      "source": [
        "arreglo2d[:, :1]"
      ]
    },
    {
      "cell_type": "markdown",
      "id": "attempted-insight",
      "metadata": {
        "id": "attempted-insight"
      },
      "source": [
        "<p>&nbsp;</p>\n",
        "\n",
        "Por supuesto, la asignación de un valor a una expresión de seccionamiento le asignará el valor a a toda la sección seleccionada:\n",
        "\n",
        "<p>&nbsp;</p>"
      ]
    },
    {
      "cell_type": "code",
      "execution_count": null,
      "id": "overall-catch",
      "metadata": {
        "id": "overall-catch"
      },
      "outputs": [],
      "source": [
        "arreglo2d[:2, 1:] = 0"
      ]
    },
    {
      "cell_type": "code",
      "execution_count": null,
      "id": "deluxe-vietnamese",
      "metadata": {
        "id": "deluxe-vietnamese",
        "outputId": "c9c8a22c-9bb3-4a65-d4d0-7a030cb40c12",
        "colab": {
          "base_uri": "https://localhost:8080/"
        }
      },
      "outputs": [
        {
          "output_type": "execute_result",
          "data": {
            "text/plain": [
              "array([[1, 0, 0],\n",
              "       [4, 0, 0],\n",
              "       [7, 8, 9]])"
            ]
          },
          "metadata": {},
          "execution_count": 100
        }
      ],
      "source": [
        "arreglo2d"
      ]
    },
    {
      "cell_type": "markdown",
      "id": "absolute-arrow",
      "metadata": {
        "id": "absolute-arrow"
      },
      "source": [
        "<p>&nbsp;</p>\n",
        "<p>&nbsp;</p>\n",
        "\n",
        "\n",
        "#### Indexación booleana\n",
        "\n",
        "<p>&nbsp;</p>\n",
        "\n",
        "Consideremos un ejemplo en el que tenemos algunos datos en un arreglo y un arreglo de nombres con duplicados. Usamos la función `randn` en `numpy.random` para generar algunos datos aleatorios normalmente distribuidos:\n",
        "\n",
        "<p>&nbsp;</p>"
      ]
    },
    {
      "cell_type": "code",
      "execution_count": null,
      "id": "historic-military",
      "metadata": {
        "id": "historic-military"
      },
      "outputs": [],
      "source": [
        "nombres = np.array(['Bob', 'Joe', 'Will', 'Bob', 'Will', 'Joe', 'Joe'])"
      ]
    },
    {
      "cell_type": "code",
      "execution_count": null,
      "id": "aerial-tribute",
      "metadata": {
        "id": "aerial-tribute"
      },
      "outputs": [],
      "source": [
        "datos = np.random.randn(7, 4)"
      ]
    },
    {
      "cell_type": "code",
      "execution_count": null,
      "id": "diverse-hazard",
      "metadata": {
        "id": "diverse-hazard",
        "outputId": "d2312d09-9ca7-498f-8c0e-b0e864225fcb",
        "colab": {
          "base_uri": "https://localhost:8080/"
        }
      },
      "outputs": [
        {
          "output_type": "execute_result",
          "data": {
            "text/plain": [
              "array(['Bob', 'Joe', 'Will', 'Bob', 'Will', 'Joe', 'Joe'], dtype='<U4')"
            ]
          },
          "metadata": {},
          "execution_count": 103
        }
      ],
      "source": [
        "nombres"
      ]
    },
    {
      "cell_type": "code",
      "execution_count": null,
      "id": "narrative-cruise",
      "metadata": {
        "id": "narrative-cruise",
        "outputId": "367cbbf4-0e22-4498-d4f5-410334aed138",
        "colab": {
          "base_uri": "https://localhost:8080/"
        }
      },
      "outputs": [
        {
          "output_type": "execute_result",
          "data": {
            "text/plain": [
              "array([[ 0.24816541, -0.05666179,  0.04167634, -0.81304566],\n",
              "       [-0.66566697,  0.59794313, -0.60708474, -0.38122303],\n",
              "       [ 0.38308313, -0.07778506, -0.9597546 ,  0.97272923],\n",
              "       [ 0.8656103 ,  0.72113929,  0.18101969,  0.88122103],\n",
              "       [-1.46011282,  1.44552582, -0.53056619,  0.63018759],\n",
              "       [-0.0064421 , -0.01208621, -0.81595564,  0.39209417],\n",
              "       [-1.0079143 , -0.16733957,  1.24678545, -1.47168971]])"
            ]
          },
          "metadata": {},
          "execution_count": 104
        }
      ],
      "source": [
        "datos"
      ]
    },
    {
      "cell_type": "markdown",
      "id": "architectural-induction",
      "metadata": {
        "id": "architectural-induction"
      },
      "source": [
        "<p>&nbsp;</p>\n",
        "\n",
        "\n",
        "Supongamos que cada nombre corresponde a una fila en el arreglo `datos` y queremos seleccionar todas las filas con el nombre correspondiente a `'Bob'`. Al igual que las operaciones aritméticas, las comparaciones (como ==) con arreglos también son vectorizadas. Por lo tanto, al comparar `nombres` con la cadena `'Bob'` se obtiene un arreglo booleano:\n",
        "\n",
        "<p>&nbsp;</p>"
      ]
    },
    {
      "cell_type": "code",
      "execution_count": null,
      "id": "initial-layout",
      "metadata": {
        "id": "initial-layout",
        "outputId": "c9c17bea-fc1e-49d8-b0c2-bb1ab4301950",
        "colab": {
          "base_uri": "https://localhost:8080/"
        }
      },
      "outputs": [
        {
          "output_type": "execute_result",
          "data": {
            "text/plain": [
              "array([ True, False, False,  True, False, False, False])"
            ]
          },
          "metadata": {},
          "execution_count": 105
        }
      ],
      "source": [
        "nombres == 'Bob'"
      ]
    },
    {
      "cell_type": "markdown",
      "id": "consolidated-wings",
      "metadata": {
        "id": "consolidated-wings"
      },
      "source": [
        "<p>&nbsp;</p>\n",
        "\n",
        "Este arreglo booleano se puede pasar al indexar el arreglo:\n",
        "\n",
        "<p>&nbsp;</p>"
      ]
    },
    {
      "cell_type": "code",
      "execution_count": null,
      "id": "ancient-thompson",
      "metadata": {
        "id": "ancient-thompson",
        "outputId": "0de869c5-2ff1-465e-9ef8-75c2df700875",
        "colab": {
          "base_uri": "https://localhost:8080/"
        }
      },
      "outputs": [
        {
          "output_type": "execute_result",
          "data": {
            "text/plain": [
              "array([[ 0.24816541, -0.05666179,  0.04167634, -0.81304566],\n",
              "       [ 0.8656103 ,  0.72113929,  0.18101969,  0.88122103]])"
            ]
          },
          "metadata": {},
          "execution_count": 106
        }
      ],
      "source": [
        "datos[nombres == 'Bob']"
      ]
    },
    {
      "cell_type": "markdown",
      "id": "listed-inflation",
      "metadata": {
        "id": "listed-inflation"
      },
      "source": [
        "<p>&nbsp;</p>\n",
        "\n",
        "\n",
        "El arreglo booleano debe tener la misma longitud que el eje del arreglo que está indexando. Incluso podemos mezclar y combinar arreglos booleanos con sectores o enteros (o secuencias de enteros).\n",
        "\n",
        "La selección booleana no fallará si el arreglo booleano no tiene la longitud correcta, por lo que hay que tener cuidado al usar esta función.\n",
        "\n",
        "\n",
        "En estos ejemplos, seleccionamos de las filas donde nombres `== 'Bob'` e indexamos las columnas también:\n",
        "\n",
        "<p>&nbsp;</p>"
      ]
    },
    {
      "cell_type": "code",
      "execution_count": null,
      "id": "binding-counter",
      "metadata": {
        "id": "binding-counter",
        "outputId": "5742c272-a367-4aad-b6e0-90ff6c010e70",
        "colab": {
          "base_uri": "https://localhost:8080/"
        }
      },
      "outputs": [
        {
          "output_type": "execute_result",
          "data": {
            "text/plain": [
              "array([[ 0.04167634, -0.81304566],\n",
              "       [ 0.18101969,  0.88122103]])"
            ]
          },
          "metadata": {},
          "execution_count": 107
        }
      ],
      "source": [
        "datos[nombres == 'Bob', 2:]"
      ]
    },
    {
      "cell_type": "code",
      "execution_count": null,
      "id": "average-adoption",
      "metadata": {
        "id": "average-adoption",
        "outputId": "31bc55fe-52d2-4475-9cb1-1cd2a000949c",
        "colab": {
          "base_uri": "https://localhost:8080/"
        }
      },
      "outputs": [
        {
          "output_type": "execute_result",
          "data": {
            "text/plain": [
              "array([-0.81304566,  0.88122103])"
            ]
          },
          "metadata": {},
          "execution_count": 108
        }
      ],
      "source": [
        "datos[nombres == 'Bob', 3]"
      ]
    },
    {
      "cell_type": "markdown",
      "id": "exciting-saint",
      "metadata": {
        "id": "exciting-saint"
      },
      "source": [
        "<p>&nbsp;</p>\n",
        "\n",
        "\n",
        "Para seleccionar todo menos `'Bob'`, podemos usar `!=` o negar la condición usando `~`:\n",
        "\n",
        "<p>&nbsp;</p>"
      ]
    },
    {
      "cell_type": "code",
      "execution_count": null,
      "id": "closing-costa",
      "metadata": {
        "id": "closing-costa",
        "outputId": "44349035-15e5-451d-b5bf-7ddb5de1fde8",
        "colab": {
          "base_uri": "https://localhost:8080/"
        }
      },
      "outputs": [
        {
          "output_type": "execute_result",
          "data": {
            "text/plain": [
              "array([False,  True,  True, False,  True,  True,  True])"
            ]
          },
          "metadata": {},
          "execution_count": 109
        }
      ],
      "source": [
        "nombres != 'Bob'"
      ]
    },
    {
      "cell_type": "code",
      "execution_count": null,
      "id": "romance-maintenance",
      "metadata": {
        "id": "romance-maintenance",
        "outputId": "0bad21a3-e399-4b6d-d7d9-ffff1617319f",
        "colab": {
          "base_uri": "https://localhost:8080/"
        }
      },
      "outputs": [
        {
          "output_type": "execute_result",
          "data": {
            "text/plain": [
              "array([[-0.66566697,  0.59794313, -0.60708474, -0.38122303],\n",
              "       [ 0.38308313, -0.07778506, -0.9597546 ,  0.97272923],\n",
              "       [-1.46011282,  1.44552582, -0.53056619,  0.63018759],\n",
              "       [-0.0064421 , -0.01208621, -0.81595564,  0.39209417],\n",
              "       [-1.0079143 , -0.16733957,  1.24678545, -1.47168971]])"
            ]
          },
          "metadata": {},
          "execution_count": 110
        }
      ],
      "source": [
        "datos[~(nombres == 'Bob')]"
      ]
    },
    {
      "cell_type": "markdown",
      "id": "associate-temple",
      "metadata": {
        "id": "associate-temple"
      },
      "source": [
        "<p>&nbsp;</p>\n",
        "\n",
        "\n",
        "El operador `~` puede ser útil cuando deseamos invertir una condición general:\n",
        "\n",
        "<p>&nbsp;</p>"
      ]
    },
    {
      "cell_type": "code",
      "execution_count": null,
      "id": "smooth-principal",
      "metadata": {
        "id": "smooth-principal"
      },
      "outputs": [],
      "source": [
        "cond = nombres == 'Bob'"
      ]
    },
    {
      "cell_type": "code",
      "execution_count": null,
      "id": "foster-manual",
      "metadata": {
        "id": "foster-manual",
        "outputId": "17d43210-dec5-4da5-f364-9b7ac3d5eb90",
        "colab": {
          "base_uri": "https://localhost:8080/"
        }
      },
      "outputs": [
        {
          "output_type": "execute_result",
          "data": {
            "text/plain": [
              "array([[-0.66566697,  0.59794313, -0.60708474, -0.38122303],\n",
              "       [ 0.38308313, -0.07778506, -0.9597546 ,  0.97272923],\n",
              "       [-1.46011282,  1.44552582, -0.53056619,  0.63018759],\n",
              "       [-0.0064421 , -0.01208621, -0.81595564,  0.39209417],\n",
              "       [-1.0079143 , -0.16733957,  1.24678545, -1.47168971]])"
            ]
          },
          "metadata": {},
          "execution_count": 112
        }
      ],
      "source": [
        "datos[~cond]"
      ]
    },
    {
      "cell_type": "markdown",
      "id": "constitutional-indianapolis",
      "metadata": {
        "id": "constitutional-indianapolis"
      },
      "source": [
        "<p>&nbsp;</p>\n",
        "\n",
        "Para seleccionar dos de los tres nombres para combinar varias condiciones booleanas utilizamos operadores aritméticos booleanos como `&` (and) y `|` (or):\n",
        "\n",
        "<p>&nbsp;</p>"
      ]
    },
    {
      "cell_type": "code",
      "execution_count": null,
      "id": "stopped-adrian",
      "metadata": {
        "id": "stopped-adrian"
      },
      "outputs": [],
      "source": [
        "mascara = (nombres == 'Bob') | (nombres == 'Will')"
      ]
    },
    {
      "cell_type": "code",
      "execution_count": null,
      "id": "aerial-engagement",
      "metadata": {
        "id": "aerial-engagement",
        "outputId": "e29b02c5-d4fb-4a64-9855-a86305e7dc0a",
        "colab": {
          "base_uri": "https://localhost:8080/"
        }
      },
      "outputs": [
        {
          "output_type": "execute_result",
          "data": {
            "text/plain": [
              "array([ True, False,  True,  True,  True, False, False])"
            ]
          },
          "metadata": {},
          "execution_count": 114
        }
      ],
      "source": [
        "mascara"
      ]
    },
    {
      "cell_type": "code",
      "execution_count": null,
      "id": "lesbian-married",
      "metadata": {
        "id": "lesbian-married",
        "outputId": "b2107c77-83e5-4a80-db45-bd807326b822",
        "colab": {
          "base_uri": "https://localhost:8080/"
        }
      },
      "outputs": [
        {
          "output_type": "execute_result",
          "data": {
            "text/plain": [
              "array([[ 0.24816541, -0.05666179,  0.04167634, -0.81304566],\n",
              "       [ 0.38308313, -0.07778506, -0.9597546 ,  0.97272923],\n",
              "       [ 0.8656103 ,  0.72113929,  0.18101969,  0.88122103],\n",
              "       [-1.46011282,  1.44552582, -0.53056619,  0.63018759]])"
            ]
          },
          "metadata": {},
          "execution_count": 115
        }
      ],
      "source": [
        "datos[mascara]"
      ]
    },
    {
      "cell_type": "markdown",
      "id": "terminal-shade",
      "metadata": {
        "id": "terminal-shade"
      },
      "source": [
        "<p>&nbsp;</p>\n",
        "\n",
        "La selección de datos de un arreglo mediante indexación booleana *siempre* crea una *copia* de los datos, incluso si el arreglo retornado no ha cambiado.\n",
        "\n",
        "Las palabras clave de Python `and` y `or` no funcionan con arreglos booleanos. Para esto usamos `&` (and) y `|` (or).\n",
        "\n",
        "\n",
        "\n",
        "\n",
        "El inicializar valores en los arreglos booleanos funciona en modo de sentido común.\n",
        "Para inicializar a 0 todos los valores negativos en el arreglo `datos` hacemos:\n",
        "\n",
        "<p>&nbsp;</p>"
      ]
    },
    {
      "cell_type": "code",
      "execution_count": null,
      "id": "finnish-ecology",
      "metadata": {
        "id": "finnish-ecology"
      },
      "outputs": [],
      "source": [
        "datos[datos < 0] = 0"
      ]
    },
    {
      "cell_type": "code",
      "execution_count": null,
      "id": "congressional-plate",
      "metadata": {
        "id": "congressional-plate",
        "outputId": "7e9c2c51-a5fb-492d-b8e0-6ba748fcd9d2",
        "colab": {
          "base_uri": "https://localhost:8080/"
        }
      },
      "outputs": [
        {
          "output_type": "execute_result",
          "data": {
            "text/plain": [
              "array([[0.24816541, 0.        , 0.04167634, 0.        ],\n",
              "       [0.        , 0.59794313, 0.        , 0.        ],\n",
              "       [0.38308313, 0.        , 0.        , 0.97272923],\n",
              "       [0.8656103 , 0.72113929, 0.18101969, 0.88122103],\n",
              "       [0.        , 1.44552582, 0.        , 0.63018759],\n",
              "       [0.        , 0.        , 0.        , 0.39209417],\n",
              "       [0.        , 0.        , 1.24678545, 0.        ]])"
            ]
          },
          "metadata": {},
          "execution_count": 117
        }
      ],
      "source": [
        "datos"
      ]
    },
    {
      "cell_type": "markdown",
      "id": "organizational-guide",
      "metadata": {
        "id": "organizational-guide"
      },
      "source": [
        "<p>&nbsp;</p>\n",
        "\n",
        "\n",
        "Fácilmente podemos configurar filas o columnas enteras utilizando un arreglo booleano unidimensional:\n",
        "\n",
        "<p>&nbsp;</p>"
      ]
    },
    {
      "cell_type": "code",
      "execution_count": null,
      "id": "killing-heart",
      "metadata": {
        "id": "killing-heart"
      },
      "outputs": [],
      "source": [
        "datos[nombres != 'Joe'] = 7"
      ]
    },
    {
      "cell_type": "code",
      "execution_count": null,
      "id": "gentle-march",
      "metadata": {
        "id": "gentle-march",
        "outputId": "9bae749d-9ce4-4372-f5b2-d2ffc0cc0d26",
        "colab": {
          "base_uri": "https://localhost:8080/"
        }
      },
      "outputs": [
        {
          "output_type": "execute_result",
          "data": {
            "text/plain": [
              "array([[7.        , 7.        , 7.        , 7.        ],\n",
              "       [0.        , 0.59794313, 0.        , 0.        ],\n",
              "       [7.        , 7.        , 7.        , 7.        ],\n",
              "       [7.        , 7.        , 7.        , 7.        ],\n",
              "       [7.        , 7.        , 7.        , 7.        ],\n",
              "       [0.        , 0.        , 0.        , 0.39209417],\n",
              "       [0.        , 0.        , 1.24678545, 0.        ]])"
            ]
          },
          "metadata": {},
          "execution_count": 119
        }
      ],
      "source": [
        "datos"
      ]
    },
    {
      "cell_type": "markdown",
      "id": "typical-geology",
      "metadata": {
        "id": "typical-geology"
      },
      "source": [
        "<p>&nbsp;</p>\n",
        "\n",
        "\n",
        "`pandas` es más apropiado para este tipo de operaciones en datos bidimensionales.\n",
        "\n",
        "\n",
        "<p>&nbsp;</p>\n",
        "<p>&nbsp;</p>\n",
        "\n",
        "### Fancy Indexing\n",
        "\n",
        "<p>&nbsp;</p>\n",
        "\n",
        "\n",
        "*Fancy Indexing* es un término adoptado por NumPy para describir la indexación utilizando arreglos de enteros.\n",
        "Supongamos que tenemos un arreglo de 8 × 4:\n",
        "\n",
        "<p>&nbsp;</p>"
      ]
    },
    {
      "cell_type": "code",
      "execution_count": null,
      "id": "stock-football",
      "metadata": {
        "id": "stock-football"
      },
      "outputs": [],
      "source": [
        "arreglo = np.empty((8, 4))"
      ]
    },
    {
      "cell_type": "code",
      "execution_count": null,
      "id": "interior-blanket",
      "metadata": {
        "id": "interior-blanket"
      },
      "outputs": [],
      "source": [
        "for i in range(8):\n",
        "    arreglo[i] = i\n"
      ]
    },
    {
      "cell_type": "code",
      "execution_count": null,
      "id": "conditional-string",
      "metadata": {
        "id": "conditional-string",
        "outputId": "f70480d2-4f06-442d-f3c0-121fad51019f",
        "colab": {
          "base_uri": "https://localhost:8080/"
        }
      },
      "outputs": [
        {
          "output_type": "execute_result",
          "data": {
            "text/plain": [
              "array([[0., 0., 0., 0.],\n",
              "       [1., 1., 1., 1.],\n",
              "       [2., 2., 2., 2.],\n",
              "       [3., 3., 3., 3.],\n",
              "       [4., 4., 4., 4.],\n",
              "       [5., 5., 5., 5.],\n",
              "       [6., 6., 6., 6.],\n",
              "       [7., 7., 7., 7.]])"
            ]
          },
          "metadata": {},
          "execution_count": 122
        }
      ],
      "source": [
        "arreglo"
      ]
    },
    {
      "cell_type": "markdown",
      "id": "signed-dominican",
      "metadata": {
        "id": "signed-dominican"
      },
      "source": [
        "<p>&nbsp;</p>\n",
        "\n",
        "Para seleccionar un subconjunto de las filas en un orden particular, simplemente pasamos una lista o un ndarray de números enteros que especifique el orden deseado:\n",
        "\n",
        "<p>&nbsp;</p>"
      ]
    },
    {
      "cell_type": "code",
      "execution_count": null,
      "id": "communist-temple",
      "metadata": {
        "id": "communist-temple",
        "outputId": "77ff473c-cef1-4d88-cf4f-94973cda461f",
        "colab": {
          "base_uri": "https://localhost:8080/"
        }
      },
      "outputs": [
        {
          "output_type": "execute_result",
          "data": {
            "text/plain": [
              "array([[4., 4., 4., 4.],\n",
              "       [3., 3., 3., 3.],\n",
              "       [0., 0., 0., 0.],\n",
              "       [6., 6., 6., 6.]])"
            ]
          },
          "metadata": {},
          "execution_count": 123
        }
      ],
      "source": [
        "arreglo[[4, 3, 0, 6]]"
      ]
    },
    {
      "cell_type": "markdown",
      "id": "thick-effort",
      "metadata": {
        "id": "thick-effort"
      },
      "source": [
        "<p>&nbsp;</p>\n",
        "\n",
        "Los índices negativos seleccionan filas tomando como referencia el final:\n",
        "\n",
        "<p>&nbsp;</p>"
      ]
    },
    {
      "cell_type": "code",
      "execution_count": null,
      "id": "located-passion",
      "metadata": {
        "id": "located-passion",
        "outputId": "4adb3ebc-ac38-4539-bed2-4c44f8f9a209",
        "colab": {
          "base_uri": "https://localhost:8080/"
        }
      },
      "outputs": [
        {
          "output_type": "execute_result",
          "data": {
            "text/plain": [
              "array([[5., 5., 5., 5.],\n",
              "       [3., 3., 3., 3.],\n",
              "       [1., 1., 1., 1.]])"
            ]
          },
          "metadata": {},
          "execution_count": 124
        }
      ],
      "source": [
        "arreglo[[-3, -5, -7]]"
      ]
    },
    {
      "cell_type": "markdown",
      "id": "speaking-conflict",
      "metadata": {
        "id": "speaking-conflict"
      },
      "source": [
        "<p>&nbsp;</p>\n",
        "\n",
        "El pasar múltiples arreglos de índice hace algo ligeramente diferente; selecciona un arreglo unidimensional de elementos correspondientes a cada tupla de índices:\n",
        "\n",
        "<p>&nbsp;</p>"
      ]
    },
    {
      "cell_type": "code",
      "execution_count": null,
      "id": "indirect-wealth",
      "metadata": {
        "id": "indirect-wealth"
      },
      "outputs": [],
      "source": [
        "arreglo = np.arange(32).reshape((8, 4))"
      ]
    },
    {
      "cell_type": "code",
      "execution_count": null,
      "id": "respiratory-surrey",
      "metadata": {
        "id": "respiratory-surrey",
        "outputId": "8c695c7d-244b-4c12-887f-297c2dfd75dc",
        "colab": {
          "base_uri": "https://localhost:8080/"
        }
      },
      "outputs": [
        {
          "output_type": "execute_result",
          "data": {
            "text/plain": [
              "array([[ 0,  1,  2,  3],\n",
              "       [ 4,  5,  6,  7],\n",
              "       [ 8,  9, 10, 11],\n",
              "       [12, 13, 14, 15],\n",
              "       [16, 17, 18, 19],\n",
              "       [20, 21, 22, 23],\n",
              "       [24, 25, 26, 27],\n",
              "       [28, 29, 30, 31]])"
            ]
          },
          "metadata": {},
          "execution_count": 126
        }
      ],
      "source": [
        "arreglo"
      ]
    },
    {
      "cell_type": "code",
      "execution_count": null,
      "id": "sunrise-injury",
      "metadata": {
        "id": "sunrise-injury",
        "outputId": "9acffe6d-424c-409d-c918-9c07faac150e",
        "colab": {
          "base_uri": "https://localhost:8080/"
        }
      },
      "outputs": [
        {
          "output_type": "execute_result",
          "data": {
            "text/plain": [
              "array([ 4, 23, 29, 10])"
            ]
          },
          "metadata": {},
          "execution_count": 127
        }
      ],
      "source": [
        "arreglo[[1, 5, 7, 2], [0, 3, 1, 2]]"
      ]
    },
    {
      "cell_type": "markdown",
      "id": "wooden-intelligence",
      "metadata": {
        "id": "wooden-intelligence"
      },
      "source": [
        "<p>&nbsp;</p>\n",
        "\n",
        "Se seleccionaron los elementos `(1, 0), (5, 3), (7, 1) y (2, 2)`. Independientemente de cuántas dimensiones tenga el arreglo &nbsp; –––en este caso solo 2––– &nbsp; el resultado de fancy Indexing siempre es unidimensional.\n",
        "\n",
        "El comportamiento de fancy Indexing  en este caso es un poco diferente de lo que algunos usuarios pudieran esperar, que es la región rectangular formada al seleccionar un subconjunto de las filas y columnas de la matriz. Una manera de conseguir esto es la siguiente:\n",
        "\n",
        "<p>&nbsp;</p>"
      ]
    },
    {
      "cell_type": "code",
      "execution_count": null,
      "id": "independent-validity",
      "metadata": {
        "id": "independent-validity",
        "outputId": "1d882342-06b8-4060-a7a7-6f2148c047c6",
        "colab": {
          "base_uri": "https://localhost:8080/"
        }
      },
      "outputs": [
        {
          "output_type": "execute_result",
          "data": {
            "text/plain": [
              "array([[ 4,  7,  5,  6],\n",
              "       [20, 23, 21, 22],\n",
              "       [28, 31, 29, 30],\n",
              "       [ 8, 11,  9, 10]])"
            ]
          },
          "metadata": {},
          "execution_count": 128
        }
      ],
      "source": [
        "In [10]: arreglo[[1, 5, 7, 2]][:, [0, 3, 1, 2]]"
      ]
    },
    {
      "cell_type": "markdown",
      "id": "possible-colony",
      "metadata": {
        "id": "possible-colony"
      },
      "source": [
        "<p>&nbsp;</p>\n",
        "\n",
        "Hay que tener en cuenta que fancy Indexing &nbsp; –––a diferencia del seccionamiento––– &nbsp; siempre copia los datos en un nuevo arreglo.\n",
        "\n",
        "<p>&nbsp;</p>\n",
        "<p>&nbsp;</p>\n",
        "\n",
        "### Transposición de Arreglos e Intercambio de Ejes\n",
        "\n",
        "<p>&nbsp;</p>\n",
        "\n",
        "La transposición es una forma especial de remodelación que de manera similar retorna una vista de los datos subyacentes sin copiar nada. Las arreglos tienen el método `transpose` y también el atributo especial `T`:\n",
        "\n",
        "\n",
        "<p>&nbsp;</p>"
      ]
    },
    {
      "cell_type": "code",
      "execution_count": null,
      "id": "elect-desire",
      "metadata": {
        "id": "elect-desire"
      },
      "outputs": [],
      "source": [
        "arreglo = np.arange(15).reshape((3, 5))"
      ]
    },
    {
      "cell_type": "code",
      "execution_count": null,
      "id": "spare-holiday",
      "metadata": {
        "id": "spare-holiday",
        "outputId": "4b27807b-3c18-4514-d119-67665cd0d6df",
        "colab": {
          "base_uri": "https://localhost:8080/"
        }
      },
      "outputs": [
        {
          "output_type": "execute_result",
          "data": {
            "text/plain": [
              "array([[ 0,  1,  2,  3,  4],\n",
              "       [ 5,  6,  7,  8,  9],\n",
              "       [10, 11, 12, 13, 14]])"
            ]
          },
          "metadata": {},
          "execution_count": 130
        }
      ],
      "source": [
        "arreglo"
      ]
    },
    {
      "cell_type": "code",
      "execution_count": null,
      "id": "raised-mentor",
      "metadata": {
        "id": "raised-mentor",
        "outputId": "6750a52a-9f7c-4c29-b8d0-af73acea18f6",
        "colab": {
          "base_uri": "https://localhost:8080/"
        }
      },
      "outputs": [
        {
          "output_type": "execute_result",
          "data": {
            "text/plain": [
              "array([[ 0,  5, 10],\n",
              "       [ 1,  6, 11],\n",
              "       [ 2,  7, 12],\n",
              "       [ 3,  8, 13],\n",
              "       [ 4,  9, 14]])"
            ]
          },
          "metadata": {},
          "execution_count": 131
        }
      ],
      "source": [
        "arreglo.T"
      ]
    },
    {
      "cell_type": "markdown",
      "id": "agreed-pizza",
      "metadata": {
        "id": "agreed-pizza"
      },
      "source": [
        "<p>&nbsp;</p>\n",
        "\n",
        "Esta operación se puede usar muy a menudo al hacer cálculos matriciales, por ejemplo al calcular el producto interno de una matriz usando `np.dot`:\n",
        "\n",
        "<p>&nbsp;</p>\n",
        "<p>&nbsp;</p>\n",
        "\n",
        "###### EJEMPLO 4.1\n",
        "\n",
        "<p>&nbsp;</p>\n",
        "\n",
        "Creamos un arreglo de 2 renglones por 3 columnas:\n",
        "\n",
        "<p>&nbsp;</p>"
      ]
    },
    {
      "cell_type": "code",
      "execution_count": null,
      "id": "earlier-biology",
      "metadata": {
        "id": "earlier-biology"
      },
      "outputs": [],
      "source": [
        "arreglo = np.arange(6).reshape((2, 3))"
      ]
    },
    {
      "cell_type": "code",
      "execution_count": null,
      "id": "honey-marketplace",
      "metadata": {
        "id": "honey-marketplace",
        "outputId": "25703583-cbcc-44e4-ffdb-afe14df1dfe7",
        "colab": {
          "base_uri": "https://localhost:8080/"
        }
      },
      "outputs": [
        {
          "output_type": "execute_result",
          "data": {
            "text/plain": [
              "array([[0, 1, 2],\n",
              "       [3, 4, 5]])"
            ]
          },
          "metadata": {},
          "execution_count": 133
        }
      ],
      "source": [
        "arreglo"
      ]
    },
    {
      "cell_type": "markdown",
      "id": "intellectual-application",
      "metadata": {
        "id": "intellectual-application"
      },
      "source": [
        "<p>&nbsp;</p>\n",
        "\n",
        "Generamos su transpuesta:\n",
        "\n",
        "<p>&nbsp;</p>"
      ]
    },
    {
      "cell_type": "code",
      "execution_count": null,
      "id": "former-coating",
      "metadata": {
        "id": "former-coating",
        "outputId": "8dc4a548-60f8-46f6-993d-99b6b7ff5409",
        "colab": {
          "base_uri": "https://localhost:8080/"
        }
      },
      "outputs": [
        {
          "output_type": "execute_result",
          "data": {
            "text/plain": [
              "array([[0, 3],\n",
              "       [1, 4],\n",
              "       [2, 5]])"
            ]
          },
          "metadata": {},
          "execution_count": 134
        }
      ],
      "source": [
        "arreglo.T"
      ]
    },
    {
      "cell_type": "markdown",
      "id": "interstate-norwegian",
      "metadata": {
        "id": "interstate-norwegian"
      },
      "source": [
        "<p>&nbsp;</p>\n",
        "\n",
        "Multiplicamos `arreglo` por `arreglo.T`\n",
        "\n",
        "<p>&nbsp;</p>"
      ]
    },
    {
      "cell_type": "code",
      "execution_count": null,
      "id": "global-perfume",
      "metadata": {
        "id": "global-perfume",
        "outputId": "52750f9f-b7e0-4e46-eae5-e557c7b956da",
        "colab": {
          "base_uri": "https://localhost:8080/"
        }
      },
      "outputs": [
        {
          "output_type": "execute_result",
          "data": {
            "text/plain": [
              "array([[ 5, 14],\n",
              "       [14, 50]])"
            ]
          },
          "metadata": {},
          "execution_count": 135
        }
      ],
      "source": [
        "np.dot(arreglo, arreglo.T)"
      ]
    },
    {
      "cell_type": "markdown",
      "id": "spare-vinyl",
      "metadata": {
        "id": "spare-vinyl"
      },
      "source": [
        "<p>&nbsp;</p>\n",
        "\n",
        "Multiplicamos `arreglo.T` por `arreglo`\n",
        "\n",
        "<p>&nbsp;</p>"
      ]
    },
    {
      "cell_type": "code",
      "execution_count": null,
      "id": "graphic-reminder",
      "metadata": {
        "id": "graphic-reminder",
        "outputId": "1f45bae7-a0cb-4dd3-ee68-154f92d0c878",
        "colab": {
          "base_uri": "https://localhost:8080/"
        }
      },
      "outputs": [
        {
          "output_type": "execute_result",
          "data": {
            "text/plain": [
              "array([[ 9, 12, 15],\n",
              "       [12, 17, 22],\n",
              "       [15, 22, 29]])"
            ]
          },
          "metadata": {},
          "execution_count": 136
        }
      ],
      "source": [
        "np.dot(arreglo.T, arreglo)"
      ]
    },
    {
      "cell_type": "markdown",
      "id": "impaired-harris",
      "metadata": {
        "id": "impaired-harris"
      },
      "source": [
        "<p>&nbsp;</p>\n",
        "<p>&nbsp;</p>\n",
        "\n",
        "###### EJEMPLO 4.2\n",
        "\n",
        "<p>&nbsp;</p>\n",
        "\n",
        "Creamos un arreglo &nbsp; –––de números aleatorios––– &nbsp; de 6 renglones por 3 columnas:\n",
        "\n",
        "<p>&nbsp;</p>"
      ]
    },
    {
      "cell_type": "code",
      "execution_count": null,
      "id": "simple-warrant",
      "metadata": {
        "id": "simple-warrant"
      },
      "outputs": [],
      "source": [
        "arreglo = np.random.randn(6, 3)"
      ]
    },
    {
      "cell_type": "code",
      "execution_count": null,
      "id": "sweet-disorder",
      "metadata": {
        "id": "sweet-disorder",
        "outputId": "1a1bc479-93bc-42ed-9ca7-eb042ca42c83",
        "colab": {
          "base_uri": "https://localhost:8080/"
        }
      },
      "outputs": [
        {
          "output_type": "execute_result",
          "data": {
            "text/plain": [
              "array([[ 2.25215698, -1.31167301, -1.07575945],\n",
              "       [-0.76587731,  1.25173465,  0.64136122],\n",
              "       [ 1.05886071, -1.29491186, -2.86702591],\n",
              "       [-1.12041156, -1.23746685, -2.06252811],\n",
              "       [-0.1586048 ,  0.48824125,  1.81173158],\n",
              "       [-1.46500584,  0.32568207, -0.50024227]])"
            ]
          },
          "metadata": {},
          "execution_count": 138
        }
      ],
      "source": [
        "arreglo"
      ]
    },
    {
      "cell_type": "code",
      "execution_count": null,
      "id": "hybrid-museum",
      "metadata": {
        "id": "hybrid-museum",
        "outputId": "a11d48fc-4c89-4659-d253-35d2782ab41a",
        "colab": {
          "base_uri": "https://localhost:8080/"
        }
      },
      "outputs": [
        {
          "output_type": "execute_result",
          "data": {
            "text/plain": [
              "array([[10.20668475, -4.45199135, -3.19337538],\n",
              "       [-4.45199135,  6.83989498,  9.20035687],\n",
              "       [-3.19337538,  9.20035687, 17.57507601]])"
            ]
          },
          "metadata": {},
          "execution_count": 139
        }
      ],
      "source": [
        "np.dot(arreglo.T, arreglo)"
      ]
    },
    {
      "cell_type": "markdown",
      "id": "blind-stand",
      "metadata": {
        "id": "blind-stand"
      },
      "source": [
        "<p>&nbsp;</p>\n",
        "\n",
        "Para arreglos de mayor dimension, `transpose` acepta una tupla de números de eje, para permutar los ejes. En el siguiente ejemplo tenemos un arreglo de `2x3x4` &nbsp; –––tres ejes––– &nbsp; y vamos a transponer renglones y columnas &nbsp;  –––ejes 0 y 1––– &nbsp;, el eje 2 queda igual  con lo cual obtendremos un arreglo de `3x2x4`. Spyder nos da el resultado de la siguiente manera:\n",
        "\n",
        "<p>&nbsp;</p>"
      ]
    },
    {
      "cell_type": "code",
      "execution_count": null,
      "id": "breathing-taxation",
      "metadata": {
        "id": "breathing-taxation"
      },
      "outputs": [],
      "source": [
        "a = np.arange(24).reshape((2, 3, 4))"
      ]
    },
    {
      "cell_type": "code",
      "execution_count": null,
      "id": "rotary-cycle",
      "metadata": {
        "id": "rotary-cycle",
        "outputId": "0cf2781f-6762-4c13-8eff-a25975b7d693",
        "colab": {
          "base_uri": "https://localhost:8080/"
        }
      },
      "outputs": [
        {
          "output_type": "execute_result",
          "data": {
            "text/plain": [
              "array([[[ 0,  1,  2,  3],\n",
              "        [ 4,  5,  6,  7],\n",
              "        [ 8,  9, 10, 11]],\n",
              "\n",
              "       [[12, 13, 14, 15],\n",
              "        [16, 17, 18, 19],\n",
              "        [20, 21, 22, 23]]])"
            ]
          },
          "metadata": {},
          "execution_count": 141
        }
      ],
      "source": [
        "a"
      ]
    },
    {
      "cell_type": "code",
      "execution_count": null,
      "id": "corrected-noise",
      "metadata": {
        "id": "corrected-noise",
        "outputId": "9782e17f-0136-461c-fdcd-836f31774e83",
        "colab": {
          "base_uri": "https://localhost:8080/"
        }
      },
      "outputs": [
        {
          "output_type": "execute_result",
          "data": {
            "text/plain": [
              "array([[[ 0,  1,  2,  3],\n",
              "        [12, 13, 14, 15]],\n",
              "\n",
              "       [[ 4,  5,  6,  7],\n",
              "        [16, 17, 18, 19]],\n",
              "\n",
              "       [[ 8,  9, 10, 11],\n",
              "        [20, 21, 22, 23]]])"
            ]
          },
          "metadata": {},
          "execution_count": 142
        }
      ],
      "source": [
        "a.transpose((1, 0, 2))"
      ]
    },
    {
      "cell_type": "markdown",
      "id": "ongoing-practitioner",
      "metadata": {
        "id": "ongoing-practitioner"
      },
      "source": [
        "<p>&nbsp;</p>\n",
        "\n",
        "Si desplegamos los renglones en una sola línea se visualiza más fácilmente el proceso de trasposición:\n",
        "\n",
        "<p>&nbsp;</p>"
      ]
    },
    {
      "cell_type": "code",
      "execution_count": null,
      "id": "reduced-helena",
      "metadata": {
        "id": "reduced-helena"
      },
      "outputs": [],
      "source": [
        "a = np.arange(24).reshape((2, 3, 4))"
      ]
    },
    {
      "cell_type": "code",
      "execution_count": null,
      "id": "mental-farmer",
      "metadata": {
        "id": "mental-farmer",
        "outputId": "b3ea54e9-fdf6-40a4-b0c9-afd9ce5962d1",
        "colab": {
          "base_uri": "https://localhost:8080/"
        }
      },
      "outputs": [
        {
          "output_type": "execute_result",
          "data": {
            "text/plain": [
              "array([[[ 0,  1,  2,  3],\n",
              "        [ 4,  5,  6,  7],\n",
              "        [ 8,  9, 10, 11]],\n",
              "\n",
              "       [[12, 13, 14, 15],\n",
              "        [16, 17, 18, 19],\n",
              "        [20, 21, 22, 23]]])"
            ]
          },
          "metadata": {},
          "execution_count": 144
        }
      ],
      "source": [
        "a"
      ]
    },
    {
      "cell_type": "code",
      "execution_count": null,
      "id": "agreed-prairie",
      "metadata": {
        "id": "agreed-prairie",
        "outputId": "dafb8224-bfbe-42d3-e11d-e58a8d6a9b48",
        "colab": {
          "base_uri": "https://localhost:8080/"
        }
      },
      "outputs": [
        {
          "output_type": "execute_result",
          "data": {
            "text/plain": [
              "array([[[ 0,  1,  2,  3],\n",
              "        [12, 13, 14, 15]],\n",
              "\n",
              "       [[ 4,  5,  6,  7],\n",
              "        [16, 17, 18, 19]],\n",
              "\n",
              "       [[ 8,  9, 10, 11],\n",
              "        [20, 21, 22, 23]]])"
            ]
          },
          "metadata": {},
          "execution_count": 145
        }
      ],
      "source": [
        "a.transpose((1, 0, 2))"
      ]
    },
    {
      "cell_type": "markdown",
      "id": "compressed-underwear",
      "metadata": {
        "id": "compressed-underwear"
      },
      "source": [
        "<p>&nbsp;</p>\n",
        "\n",
        "Como vemos los eje `0` y `1` se intercambiaron es decir, las columnas se convirtieron en renglones y los resnglones en columnas, el `eje 2` no tuvo cambio.\n",
        "\n",
        "\n",
        "En el ejemplo 4.3 tenemos un arreglo de `2x3x2`. Hagamos la transpuesta con los ejes 1 y 2 &nbsp; –––el eje 0 se queda igual:\n",
        "\n",
        "<p>&nbsp;</p>\n",
        "<p>&nbsp;</p>\n",
        "\n",
        "###### EJEMPLO 4.3\n",
        "\n",
        "<p>&nbsp;</p>"
      ]
    },
    {
      "cell_type": "code",
      "execution_count": null,
      "id": "north-wealth",
      "metadata": {
        "id": "north-wealth"
      },
      "outputs": [],
      "source": [
        "a = np.arange(12).reshape((2, 3, 2))"
      ]
    },
    {
      "cell_type": "code",
      "execution_count": null,
      "id": "computational-cursor",
      "metadata": {
        "id": "computational-cursor",
        "outputId": "5dea2721-1ba6-4d80-cb0d-e6558f4fc4a6",
        "colab": {
          "base_uri": "https://localhost:8080/"
        }
      },
      "outputs": [
        {
          "output_type": "execute_result",
          "data": {
            "text/plain": [
              "array([[[ 0,  1],\n",
              "        [ 2,  3],\n",
              "        [ 4,  5]],\n",
              "\n",
              "       [[ 6,  7],\n",
              "        [ 8,  9],\n",
              "        [10, 11]]])"
            ]
          },
          "metadata": {},
          "execution_count": 147
        }
      ],
      "source": [
        "a"
      ]
    },
    {
      "cell_type": "code",
      "execution_count": null,
      "id": "immune-meaning",
      "metadata": {
        "id": "immune-meaning",
        "outputId": "14bf69b6-0115-41bb-8a08-430859501caf",
        "colab": {
          "base_uri": "https://localhost:8080/"
        }
      },
      "outputs": [
        {
          "output_type": "execute_result",
          "data": {
            "text/plain": [
              "array([[[ 0,  2,  4],\n",
              "        [ 1,  3,  5]],\n",
              "\n",
              "       [[ 6,  8, 10],\n",
              "        [ 7,  9, 11]]])"
            ]
          },
          "metadata": {},
          "execution_count": 148
        }
      ],
      "source": [
        "a.transpose((0, 2, 1))"
      ]
    },
    {
      "cell_type": "markdown",
      "id": "durable-consciousness",
      "metadata": {
        "id": "durable-consciousness"
      },
      "source": [
        "<p>&nbsp;</p>\n",
        "\n",
        "Despleguemos los renglones en una sola línea para visualizar más fácilmente el proceso de trasposición. El arreglo original es de `2x3x2` (eje0 = 2, eje1 = 3, eje2 = 2). Vamos a transponer los ejes 1 y 2 por lo tanto el arreglo resultante será de `2x2x3`:\n",
        "\n",
        "<p>&nbsp;</p>"
      ]
    },
    {
      "cell_type": "code",
      "execution_count": null,
      "id": "baking-intervention",
      "metadata": {
        "id": "baking-intervention"
      },
      "outputs": [],
      "source": [
        "a = np.arange(12).reshape((2, 3, 2))"
      ]
    },
    {
      "cell_type": "code",
      "execution_count": null,
      "id": "miniature-working",
      "metadata": {
        "id": "miniature-working",
        "outputId": "2cfb456a-d003-477f-8e62-a1e22a02f9d9",
        "colab": {
          "base_uri": "https://localhost:8080/"
        }
      },
      "outputs": [
        {
          "output_type": "execute_result",
          "data": {
            "text/plain": [
              "array([[[ 0,  1],\n",
              "        [ 2,  3],\n",
              "        [ 4,  5]],\n",
              "\n",
              "       [[ 6,  7],\n",
              "        [ 8,  9],\n",
              "        [10, 11]]])"
            ]
          },
          "metadata": {},
          "execution_count": 150
        }
      ],
      "source": [
        "a"
      ]
    },
    {
      "cell_type": "code",
      "execution_count": null,
      "id": "authorized-train",
      "metadata": {
        "id": "authorized-train",
        "outputId": "294a1297-469c-4097-ff05-7f7f5b92c11a",
        "colab": {
          "base_uri": "https://localhost:8080/"
        }
      },
      "outputs": [
        {
          "output_type": "execute_result",
          "data": {
            "text/plain": [
              "array([[[ 0,  2,  4],\n",
              "        [ 1,  3,  5]],\n",
              "\n",
              "       [[ 6,  8, 10],\n",
              "        [ 7,  9, 11]]])"
            ]
          },
          "metadata": {},
          "execution_count": 151
        }
      ],
      "source": [
        "a.transpose((0, 2, 1))"
      ]
    },
    {
      "cell_type": "markdown",
      "id": "applicable-spotlight",
      "metadata": {
        "id": "applicable-spotlight"
      },
      "source": [
        "<p>&nbsp;</p>\n",
        "\n",
        "En el ejemplo 4.4 tenemos un arreglo de `2x3x4`. Este ejemplo es igual al ejemplo 4.3, la única diferencia es que ahora el eje 2 tiene 4 elementos. Hagamos la transpuesta con los ejes 1 y 2 &nbsp; –––el eje 0 se queda igual:\n",
        "\n",
        "<p>&nbsp;</p>\n",
        "<p>&nbsp;</p>\n",
        "\n",
        "###### EJEMPLO 4.4\n",
        "\n",
        "<p>&nbsp;</p>"
      ]
    },
    {
      "cell_type": "code",
      "execution_count": null,
      "id": "contained-automation",
      "metadata": {
        "id": "contained-automation"
      },
      "outputs": [],
      "source": [
        "a = np.arange(24).reshape((2, 3, 4))"
      ]
    },
    {
      "cell_type": "code",
      "execution_count": null,
      "id": "alpine-still",
      "metadata": {
        "id": "alpine-still",
        "outputId": "7e0af4d9-1faa-4875-a9ee-bc3473f8fd60",
        "colab": {
          "base_uri": "https://localhost:8080/"
        }
      },
      "outputs": [
        {
          "output_type": "execute_result",
          "data": {
            "text/plain": [
              "array([[[ 0,  1,  2,  3],\n",
              "        [ 4,  5,  6,  7],\n",
              "        [ 8,  9, 10, 11]],\n",
              "\n",
              "       [[12, 13, 14, 15],\n",
              "        [16, 17, 18, 19],\n",
              "        [20, 21, 22, 23]]])"
            ]
          },
          "metadata": {},
          "execution_count": 153
        }
      ],
      "source": [
        "a"
      ]
    },
    {
      "cell_type": "code",
      "execution_count": null,
      "id": "timely-relations",
      "metadata": {
        "id": "timely-relations",
        "outputId": "9060385c-cd20-4394-98a2-3c5f485e9469",
        "colab": {
          "base_uri": "https://localhost:8080/"
        }
      },
      "outputs": [
        {
          "output_type": "execute_result",
          "data": {
            "text/plain": [
              "array([[[ 0,  4,  8],\n",
              "        [ 1,  5,  9],\n",
              "        [ 2,  6, 10],\n",
              "        [ 3,  7, 11]],\n",
              "\n",
              "       [[12, 16, 20],\n",
              "        [13, 17, 21],\n",
              "        [14, 18, 22],\n",
              "        [15, 19, 23]]])"
            ]
          },
          "metadata": {},
          "execution_count": 154
        }
      ],
      "source": [
        "a.transpose((0, 2, 1))"
      ]
    },
    {
      "cell_type": "markdown",
      "id": "demographic-stake",
      "metadata": {
        "id": "demographic-stake"
      },
      "source": [
        "<p>&nbsp;</p>\n",
        "\n",
        "La transposición simple con `.T` es un caso especial de intercambio de ejes. ndarray tiene el método `swapaxes`, que toma un par de números de eje y cambia los ejes indicados para reorganizar los datos. El resultado del ejemplo siguiente es igual al del ejemplo 4.4 con la diferencia de que aqui se usa `swapaxes`. `swapaxes` de manera similar retorna una vista de los datos sin hacer una copia:\n",
        "\n",
        "<p>&nbsp;</p>\n"
      ]
    },
    {
      "cell_type": "code",
      "execution_count": null,
      "id": "small-european",
      "metadata": {
        "id": "small-european",
        "outputId": "5acbabe2-b927-4a80-bb8e-013cd00c6c2c",
        "colab": {
          "base_uri": "https://localhost:8080/"
        }
      },
      "outputs": [
        {
          "output_type": "execute_result",
          "data": {
            "text/plain": [
              "array([[[ 0,  1,  2,  3],\n",
              "        [ 4,  5,  6,  7],\n",
              "        [ 8,  9, 10, 11]],\n",
              "\n",
              "       [[12, 13, 14, 15],\n",
              "        [16, 17, 18, 19],\n",
              "        [20, 21, 22, 23]]])"
            ]
          },
          "metadata": {},
          "execution_count": 155
        }
      ],
      "source": [
        "a"
      ]
    },
    {
      "cell_type": "code",
      "execution_count": null,
      "id": "persistent-machinery",
      "metadata": {
        "id": "persistent-machinery",
        "outputId": "0dceb729-f6bd-4be2-c767-e4f5c030748e",
        "colab": {
          "base_uri": "https://localhost:8080/"
        }
      },
      "outputs": [
        {
          "output_type": "execute_result",
          "data": {
            "text/plain": [
              "array([[[ 0,  4,  8],\n",
              "        [ 1,  5,  9],\n",
              "        [ 2,  6, 10],\n",
              "        [ 3,  7, 11]],\n",
              "\n",
              "       [[12, 16, 20],\n",
              "        [13, 17, 21],\n",
              "        [14, 18, 22],\n",
              "        [15, 19, 23]]])"
            ]
          },
          "metadata": {},
          "execution_count": 156
        }
      ],
      "source": [
        "a.swapaxes(1, 2)"
      ]
    },
    {
      "cell_type": "markdown",
      "id": "ambient-hearts",
      "metadata": {
        "id": "ambient-hearts"
      },
      "source": [
        "<p>&nbsp;</p>\n",
        "\n",
        "En la figura 4-4 se muestra de nuevo el arreglo `a` de `2x3x4`:\n",
        "\n",
        "<p>&nbsp;</p>"
      ]
    },
    {
      "cell_type": "code",
      "execution_count": null,
      "id": "entire-father",
      "metadata": {
        "id": "entire-father"
      },
      "outputs": [],
      "source": [
        "a = np.arange(24).reshape(2,3,4)"
      ]
    },
    {
      "cell_type": "code",
      "execution_count": null,
      "id": "nuclear-static",
      "metadata": {
        "id": "nuclear-static",
        "outputId": "4c3a89d8-3210-44ac-aa32-a4a3043bfeed",
        "colab": {
          "base_uri": "https://localhost:8080/"
        }
      },
      "outputs": [
        {
          "output_type": "execute_result",
          "data": {
            "text/plain": [
              "array([[[ 0,  1,  2,  3],\n",
              "        [ 4,  5,  6,  7],\n",
              "        [ 8,  9, 10, 11]],\n",
              "\n",
              "       [[12, 13, 14, 15],\n",
              "        [16, 17, 18, 19],\n",
              "        [20, 21, 22, 23]]])"
            ]
          },
          "metadata": {},
          "execution_count": 158
        }
      ],
      "source": [
        "a"
      ]
    },
    {
      "cell_type": "code",
      "execution_count": null,
      "id": "facial-brunei",
      "metadata": {
        "id": "facial-brunei",
        "outputId": "a92d13c4-c829-4f60-8570-c66a9374fdd6",
        "colab": {
          "base_uri": "https://localhost:8080/"
        }
      },
      "outputs": [
        {
          "output_type": "execute_result",
          "data": {
            "text/plain": [
              "array([[[ 0,  1,  2,  3],\n",
              "        [12, 13, 14, 15]],\n",
              "\n",
              "       [[ 4,  5,  6,  7],\n",
              "        [16, 17, 18, 19]],\n",
              "\n",
              "       [[ 8,  9, 10, 11],\n",
              "        [20, 21, 22, 23]]])"
            ]
          },
          "metadata": {},
          "execution_count": 159
        }
      ],
      "source": [
        "a.swapaxes(0, 1)"
      ]
    },
    {
      "cell_type": "code",
      "execution_count": null,
      "id": "indonesian-exhibition",
      "metadata": {
        "id": "indonesian-exhibition",
        "outputId": "31b1b3de-d293-425f-bd49-4c02497d0b35",
        "colab": {
          "base_uri": "https://localhost:8080/"
        }
      },
      "outputs": [
        {
          "output_type": "execute_result",
          "data": {
            "text/plain": [
              "array([[[ 0, 12],\n",
              "        [ 4, 16],\n",
              "        [ 8, 20]],\n",
              "\n",
              "       [[ 1, 13],\n",
              "        [ 5, 17],\n",
              "        [ 9, 21]],\n",
              "\n",
              "       [[ 2, 14],\n",
              "        [ 6, 18],\n",
              "        [10, 22]],\n",
              "\n",
              "       [[ 3, 15],\n",
              "        [ 7, 19],\n",
              "        [11, 23]]])"
            ]
          },
          "metadata": {},
          "execution_count": 160
        }
      ],
      "source": [
        "a.swapaxes(0, 2)"
      ]
    },
    {
      "cell_type": "code",
      "execution_count": null,
      "id": "demonstrated-flower",
      "metadata": {
        "id": "demonstrated-flower",
        "outputId": "104211be-d05d-460b-f7cd-b0ebf971f91c",
        "colab": {
          "base_uri": "https://localhost:8080/"
        }
      },
      "outputs": [
        {
          "output_type": "execute_result",
          "data": {
            "text/plain": [
              "array([[[ 0,  4,  8],\n",
              "        [ 1,  5,  9],\n",
              "        [ 2,  6, 10],\n",
              "        [ 3,  7, 11]],\n",
              "\n",
              "       [[12, 16, 20],\n",
              "        [13, 17, 21],\n",
              "        [14, 18, 22],\n",
              "        [15, 19, 23]]])"
            ]
          },
          "metadata": {},
          "execution_count": 161
        }
      ],
      "source": [
        "a.swapaxes(1, 2)"
      ]
    },
    {
      "cell_type": "markdown",
      "id": "sorted-surgery",
      "metadata": {
        "id": "sorted-surgery"
      },
      "source": [
        "<p>&nbsp;</p>\n",
        "<p>&nbsp;</p>\n",
        "<p>&nbsp;</p>\n",
        "\n",
        "\n",
        "## Entrada y Salida de Archivos con Arreglos\n",
        "\n",
        "<p>&nbsp;</p>\n",
        "\n",
        "NumPy puede guardar y cargar datos desde y hacia el disco, ya sea en formato de texto o binario.\n",
        "En esta sección solo discutimos el formato binario interno de NumPy, ya que la mayoría de los usuarios preferirán pandas y otras herramientas para cargar texto o datos tabulares.\n",
        "\n",
        "\n",
        "Las funciones `np.save` y `np.load` son los caballos de batalla para guardar y cargar eficientemente los datos del arreglo en el disco.\n",
        "Los arreglos se guardan de forma predeterminada en un formato binario crudo sin comprimir con la extensión de archivo `.npy`:\n",
        "\n",
        "<p>&nbsp;</p>"
      ]
    },
    {
      "cell_type": "code",
      "execution_count": null,
      "id": "cognitive-fence",
      "metadata": {
        "id": "cognitive-fence"
      },
      "outputs": [],
      "source": [
        "arreglo = np.arange(10)"
      ]
    },
    {
      "cell_type": "code",
      "execution_count": null,
      "id": "terminal-ambassador",
      "metadata": {
        "id": "terminal-ambassador",
        "outputId": "1da90431-ba1a-47e3-d172-fa0935be61da",
        "colab": {
          "base_uri": "https://localhost:8080/"
        }
      },
      "outputs": [
        {
          "output_type": "execute_result",
          "data": {
            "text/plain": [
              "array([0, 1, 2, 3, 4, 5, 6, 7, 8, 9])"
            ]
          },
          "metadata": {},
          "execution_count": 163
        }
      ],
      "source": [
        "arreglo"
      ]
    },
    {
      "cell_type": "code",
      "execution_count": null,
      "id": "invalid-metropolitan",
      "metadata": {
        "id": "invalid-metropolitan"
      },
      "outputs": [],
      "source": [
        "np.save(\"arreglo_x\", arreglo)"
      ]
    },
    {
      "cell_type": "markdown",
      "id": "congressional-component",
      "metadata": {
        "id": "congressional-component"
      },
      "source": [
        "<p>&nbsp;</p>\n",
        "\n",
        "Si el nombre del archivo no termina en *.npy*, se agregará la extensión. El arreglo en el disco se puede cargar con `np.load`:\n",
        "\n",
        "<p>&nbsp;</p>"
      ]
    },
    {
      "cell_type": "code",
      "execution_count": null,
      "id": "regular-italic",
      "metadata": {
        "id": "regular-italic"
      },
      "outputs": [],
      "source": [
        "arreglo_a = np.load(\"arreglo_x.npy\")"
      ]
    },
    {
      "cell_type": "code",
      "execution_count": null,
      "id": "jewish-prince",
      "metadata": {
        "id": "jewish-prince",
        "outputId": "8b7d67cd-e0f0-4849-f710-fadd0904a088",
        "colab": {
          "base_uri": "https://localhost:8080/"
        }
      },
      "outputs": [
        {
          "output_type": "execute_result",
          "data": {
            "text/plain": [
              "array([0, 1, 2, 3, 4, 5, 6, 7, 8, 9])"
            ]
          },
          "metadata": {},
          "execution_count": 166
        }
      ],
      "source": [
        "arreglo_a"
      ]
    },
    {
      "cell_type": "markdown",
      "id": "acting-unknown",
      "metadata": {
        "id": "acting-unknown"
      },
      "source": [
        "<p>&nbsp;</p>\n",
        "\n",
        "Podemos guardar múltiples arreglos en un archivo sin comprimir usando `np.savez` y pasando los arreglos como claves de argumentos:\n",
        "\n",
        "<p>&nbsp;</p>"
      ]
    },
    {
      "cell_type": "code",
      "execution_count": null,
      "id": "economic-strip",
      "metadata": {
        "id": "economic-strip"
      },
      "outputs": [],
      "source": [
        "arreglo_a = [1,2,3,4,5]"
      ]
    },
    {
      "cell_type": "code",
      "execution_count": null,
      "id": "gothic-painting",
      "metadata": {
        "id": "gothic-painting"
      },
      "outputs": [],
      "source": [
        "arreglo_b = ['a', 'b', 'c']"
      ]
    },
    {
      "cell_type": "code",
      "execution_count": null,
      "id": "modified-initial",
      "metadata": {
        "id": "modified-initial"
      },
      "outputs": [],
      "source": [
        "np.savez(\"archivos.npz\", s=arreglo_a, a=arreglo_b)"
      ]
    },
    {
      "cell_type": "markdown",
      "id": "stupid-shadow",
      "metadata": {
        "id": "stupid-shadow"
      },
      "source": [
        "<p>&nbsp;</p>\n",
        "\n",
        "Al cargar un archivo `.npz`, obtenemos un objeto tipo dict que carga los arreglos individuales:\n",
        "\n",
        "<p>&nbsp;</p>"
      ]
    },
    {
      "cell_type": "code",
      "execution_count": null,
      "id": "imposed-lexington",
      "metadata": {
        "id": "imposed-lexington"
      },
      "outputs": [],
      "source": [
        "In [5]: x = np.load(\"archivos.npz\")"
      ]
    },
    {
      "cell_type": "code",
      "execution_count": null,
      "id": "suited-master",
      "metadata": {
        "id": "suited-master",
        "outputId": "e318887c-ca16-45d5-d083-87174ff0bbb3",
        "colab": {
          "base_uri": "https://localhost:8080/"
        }
      },
      "outputs": [
        {
          "output_type": "stream",
          "name": "stdout",
          "text": [
            "[1 2 3 4 5]\n"
          ]
        }
      ],
      "source": [
        "In [6]: print(x['s'])"
      ]
    },
    {
      "cell_type": "code",
      "execution_count": null,
      "id": "efficient-orlando",
      "metadata": {
        "id": "efficient-orlando",
        "outputId": "76638607-dfdc-47a9-8f5f-7f3c05a8a694",
        "colab": {
          "base_uri": "https://localhost:8080/"
        }
      },
      "outputs": [
        {
          "output_type": "stream",
          "name": "stdout",
          "text": [
            "['a' 'b' 'c']\n"
          ]
        }
      ],
      "source": [
        "In [7]: print(x['a'])"
      ]
    },
    {
      "cell_type": "markdown",
      "id": "advance-chair",
      "metadata": {
        "id": "advance-chair"
      },
      "source": [
        "<p>&nbsp;</p>\n",
        "\n",
        "Si los datos presentan una razón de compresión aceptable podemos usar `numpy.savez_compressed`:\n",
        "\n",
        "```\n",
        "a_crudo = 400.1kB (400,128 bytes)\n",
        "b_crudo = 400.1kB (400,128 bytes)\n",
        "a y b comprimidos = 141.4kB (141,373 bytes)\n",
        "```\n",
        "<p>&nbsp;</p>"
      ]
    },
    {
      "cell_type": "code",
      "execution_count": null,
      "id": "fitted-suffering",
      "metadata": {
        "id": "fitted-suffering"
      },
      "outputs": [],
      "source": [
        "arr_a = np.random.randint(1,101,50000)"
      ]
    },
    {
      "cell_type": "code",
      "execution_count": null,
      "id": "sound-newspaper",
      "metadata": {
        "id": "sound-newspaper"
      },
      "outputs": [],
      "source": [
        "arr_b = np.random.randint(1,101,50000)"
      ]
    },
    {
      "cell_type": "code",
      "execution_count": null,
      "id": "absent-shade",
      "metadata": {
        "id": "absent-shade"
      },
      "outputs": [],
      "source": [
        "np.save(\"arr_a_crudo\", arr_a)"
      ]
    },
    {
      "cell_type": "code",
      "execution_count": null,
      "id": "novel-principle",
      "metadata": {
        "id": "novel-principle"
      },
      "outputs": [],
      "source": [
        "np.save(\"arr_b_crudo\", arr_b)"
      ]
    },
    {
      "cell_type": "code",
      "execution_count": null,
      "id": "european-evolution",
      "metadata": {
        "id": "european-evolution"
      },
      "outputs": [],
      "source": [
        "np.savez_compressed(\"arrays_AyB_compressed.npz\", a=arr_a, b=arr_b)"
      ]
    },
    {
      "cell_type": "markdown",
      "id": "charming-background",
      "metadata": {
        "id": "charming-background"
      },
      "source": [
        "<p>&nbsp;</p>\n",
        "<p>&nbsp;</p>\n",
        "\n",
        "## Álgebra lineal\n",
        "\n",
        "<p>&nbsp;</p>\n",
        "\n",
        "El álgebra lineal, como la multiplicación de matrices, descomposiciones, determinantes y otras matemáticas de matrices, es una parte importante de cualquier biblioteca de arreglos.\n",
        "A diferencia de algunos lenguajes como MATLAB, multiplicar dos arreglos bidimensionales con `*` es un producto basado en elementos en lugar de un producto punto de matriz.\n",
        "Por lo tanto, hay una función `dot`, tanto un método para arreglos como una función en el espacio de nombres `numpy`, para la multiplicación de matrices:\n",
        "\n",
        "<p>&nbsp;</p>"
      ]
    },
    {
      "cell_type": "code",
      "execution_count": null,
      "id": "proud-dispatch",
      "metadata": {
        "id": "proud-dispatch"
      },
      "outputs": [],
      "source": [
        "x = np.array([[1., 2., 3.], [4., 5., 6.]])"
      ]
    },
    {
      "cell_type": "code",
      "execution_count": null,
      "id": "pursuant-apache",
      "metadata": {
        "id": "pursuant-apache"
      },
      "outputs": [],
      "source": [
        "y = np.array([[6., 23.], [-1, 7], [8, 9]])"
      ]
    },
    {
      "cell_type": "code",
      "execution_count": null,
      "id": "upset-suffering",
      "metadata": {
        "id": "upset-suffering",
        "outputId": "257c20bd-61b4-4e92-d6bb-bf8c3f470706",
        "colab": {
          "base_uri": "https://localhost:8080/"
        }
      },
      "outputs": [
        {
          "output_type": "execute_result",
          "data": {
            "text/plain": [
              "array([[1., 2., 3.],\n",
              "       [4., 5., 6.]])"
            ]
          },
          "metadata": {},
          "execution_count": 100
        }
      ],
      "source": [
        "x"
      ]
    },
    {
      "cell_type": "code",
      "execution_count": null,
      "id": "challenging-exclusion",
      "metadata": {
        "id": "challenging-exclusion",
        "outputId": "bb7df950-e053-427b-8dfa-2568f5a00860",
        "colab": {
          "base_uri": "https://localhost:8080/"
        }
      },
      "outputs": [
        {
          "output_type": "execute_result",
          "data": {
            "text/plain": [
              "array([[ 6., 23.],\n",
              "       [-1.,  7.],\n",
              "       [ 8.,  9.]])"
            ]
          },
          "metadata": {},
          "execution_count": 101
        }
      ],
      "source": [
        "y"
      ]
    },
    {
      "cell_type": "code",
      "execution_count": null,
      "id": "excess-annex",
      "metadata": {
        "id": "excess-annex",
        "outputId": "7c195bdd-287d-4590-fced-5effd5f9ab8e",
        "colab": {
          "base_uri": "https://localhost:8080/"
        }
      },
      "outputs": [
        {
          "output_type": "execute_result",
          "data": {
            "text/plain": [
              "array([[ 28.,  64.],\n",
              "       [ 67., 181.]])"
            ]
          },
          "metadata": {},
          "execution_count": 102
        }
      ],
      "source": [
        "x.dot(y)"
      ]
    },
    {
      "cell_type": "markdown",
      "id": "recorded-judges",
      "metadata": {
        "id": "recorded-judges"
      },
      "source": [
        "<p>&nbsp;</p>\n",
        "\n",
        "`x.dot(y)` es equivalente a `np.dot(x, y)`:\n",
        "\n",
        "<p>&nbsp;</p>"
      ]
    },
    {
      "cell_type": "code",
      "execution_count": null,
      "id": "typical-bangkok",
      "metadata": {
        "id": "typical-bangkok",
        "outputId": "b2109932-5d84-4e5a-92f7-600b8b050372",
        "colab": {
          "base_uri": "https://localhost:8080/"
        }
      },
      "outputs": [
        {
          "output_type": "execute_result",
          "data": {
            "text/plain": [
              "array([[ 28.,  64.],\n",
              "       [ 67., 181.]])"
            ]
          },
          "metadata": {},
          "execution_count": 183
        }
      ],
      "source": [
        "np.dot(x, y)"
      ]
    },
    {
      "cell_type": "markdown",
      "id": "nervous-focus",
      "metadata": {
        "id": "nervous-focus"
      },
      "source": [
        "<p>&nbsp;</p>\n",
        "\n",
        "Un producto matricial entre un arreglo bidimensional y un arreglo unidimensional de tamaño adecuado da como resultado un arreglo unidimensional:\n",
        "\n",
        "<p>&nbsp;</p>"
      ]
    },
    {
      "cell_type": "code",
      "execution_count": null,
      "id": "forced-belief",
      "metadata": {
        "id": "forced-belief",
        "outputId": "aec324d5-a629-4813-896f-ebdd6a8c6d14",
        "colab": {
          "base_uri": "https://localhost:8080/"
        }
      },
      "outputs": [
        {
          "output_type": "execute_result",
          "data": {
            "text/plain": [
              "array([[1., 2., 3.],\n",
              "       [4., 5., 6.]])"
            ]
          },
          "metadata": {},
          "execution_count": 184
        }
      ],
      "source": [
        "x"
      ]
    },
    {
      "cell_type": "code",
      "execution_count": null,
      "id": "billion-delight",
      "metadata": {
        "id": "billion-delight",
        "outputId": "fae7feae-2d2f-4058-9d25-0ba245750acf",
        "colab": {
          "base_uri": "https://localhost:8080/"
        }
      },
      "outputs": [
        {
          "output_type": "execute_result",
          "data": {
            "text/plain": [
              "array([1., 1., 1.])"
            ]
          },
          "metadata": {},
          "execution_count": 185
        }
      ],
      "source": [
        "np.ones(3)"
      ]
    },
    {
      "cell_type": "code",
      "execution_count": null,
      "id": "available-teddy",
      "metadata": {
        "id": "available-teddy",
        "outputId": "35d82d73-9e7a-4505-d3d2-fc18f90e60ad",
        "colab": {
          "base_uri": "https://localhost:8080/"
        }
      },
      "outputs": [
        {
          "output_type": "execute_result",
          "data": {
            "text/plain": [
              "array([ 6., 15.])"
            ]
          },
          "metadata": {},
          "execution_count": 103
        }
      ],
      "source": [
        "np.dot(x, np.ones(3))"
      ]
    },
    {
      "cell_type": "markdown",
      "id": "specified-canyon",
      "metadata": {
        "id": "specified-canyon"
      },
      "source": [
        "<p>&nbsp;</p>\n",
        "\n",
        "El símbolo `@` &nbsp;  –––a partir de Python 3.5––– &nbsp; también funciona como un operador infijo que realiza la multiplicación de matrices:\n",
        "\n",
        "<p>&nbsp;</p>"
      ]
    },
    {
      "cell_type": "code",
      "execution_count": null,
      "id": "developing-trust",
      "metadata": {
        "id": "developing-trust",
        "outputId": "08b04953-6f0f-4eb1-d296-64f81337a8b7",
        "colab": {
          "base_uri": "https://localhost:8080/"
        }
      },
      "outputs": [
        {
          "output_type": "execute_result",
          "data": {
            "text/plain": [
              "array([ 6., 15.])"
            ]
          },
          "metadata": {},
          "execution_count": 187
        }
      ],
      "source": [
        "x @ np.ones(3)"
      ]
    },
    {
      "cell_type": "markdown",
      "id": "composed-tolerance",
      "metadata": {
        "id": "composed-tolerance"
      },
      "source": [
        "<p>&nbsp;</p>\n",
        "\n",
        "`numpy.linalg` tiene un conjunto estándar de descomposición de matrices y cosas como inversa y determinante. Estos se implementan a través de las mismas bibliotecas de álgebra lineal estándar &nbsp;  –––que se usan en otros lenguajes como MATLAB y R––– &nbsp; como BLAS, LAPACK o posiblemente (dependiendo de su distribución de NumPy) el patentado Intel MKL (Math Kernel Library):\n",
        "\n",
        "<p>&nbsp;</p>"
      ]
    },
    {
      "cell_type": "code",
      "execution_count": null,
      "id": "precise-recruitment",
      "metadata": {
        "id": "precise-recruitment"
      },
      "outputs": [],
      "source": [
        "from numpy.linalg import inv, qr"
      ]
    },
    {
      "cell_type": "code",
      "execution_count": null,
      "id": "derived-korean",
      "metadata": {
        "id": "derived-korean"
      },
      "outputs": [],
      "source": [
        "X = np.random.randn(5, 5)"
      ]
    },
    {
      "cell_type": "code",
      "execution_count": null,
      "id": "defined-asthma",
      "metadata": {
        "id": "defined-asthma",
        "outputId": "903d181d-0484-46b6-f60d-b0f76beffe5d",
        "colab": {
          "base_uri": "https://localhost:8080/"
        }
      },
      "outputs": [
        {
          "output_type": "execute_result",
          "data": {
            "text/plain": [
              "array([[ 0.83586657,  0.00390385, -0.7477787 ,  0.37576446, -1.11781274],\n",
              "       [ 0.33704522, -0.2054124 , -0.37973627,  0.97276877,  1.20071482],\n",
              "       [ 1.0898381 , -0.00544667,  0.86559024, -0.42664558, -1.66344166],\n",
              "       [-0.42049945,  1.41196034,  0.26070192, -0.31029322, -0.27953048],\n",
              "       [ 0.03905947, -1.1374617 ,  1.0338321 ,  0.37386863, -2.12995516]])"
            ]
          },
          "metadata": {},
          "execution_count": 106
        }
      ],
      "source": [
        "X"
      ]
    },
    {
      "cell_type": "code",
      "execution_count": null,
      "id": "affected-mercury",
      "metadata": {
        "id": "affected-mercury"
      },
      "outputs": [],
      "source": [
        "mat = X.T.dot(X)"
      ]
    },
    {
      "cell_type": "code",
      "execution_count": null,
      "id": "vocal-murray",
      "metadata": {
        "id": "vocal-murray",
        "outputId": "3ec1469a-05c7-4bab-b09a-bd4b3a8db2d3",
        "colab": {
          "base_uri": "https://localhost:8080/"
        }
      },
      "outputs": [
        {
          "output_type": "execute_result",
          "data": {
            "text/plain": [
              "array([[ 2.17836493, -0.71006336,  0.12107763,  0.32206264, -2.30818173],\n",
              "       [-0.71006336,  3.32969029, -0.73747491, -1.05941102,  1.78611119],\n",
              "       [ 0.12107763, -0.73747491,  2.58939339, -0.71406114, -3.33482743],\n",
              "       [ 0.32206264, -1.05941102, -0.71406114,  1.50556411,  0.7480966 ],\n",
              "       [-2.30818173,  1.78611119, -3.33482743,  0.7480966 , 10.07310584]])"
            ]
          },
          "metadata": {},
          "execution_count": 108
        }
      ],
      "source": [
        "mat"
      ]
    },
    {
      "cell_type": "code",
      "execution_count": null,
      "id": "victorian-engineering",
      "metadata": {
        "id": "victorian-engineering",
        "outputId": "2cd06607-81e4-410e-f7d2-268fed8bcd3b",
        "colab": {
          "base_uri": "https://localhost:8080/"
        }
      },
      "outputs": [
        {
          "output_type": "execute_result",
          "data": {
            "text/plain": [
              "array([[ 0.76824679,  0.03674019,  0.29322398, -0.13693934,  0.27676929],\n",
              "       [ 0.03674019,  0.5503168 ,  0.23157778,  0.51440246, -0.05069685],\n",
              "       [ 0.29322398,  0.23157778,  0.94707041,  0.39521343,  0.31031632],\n",
              "       [-0.13693934,  0.51440246,  0.39521343,  1.2862718 , -0.08727674],\n",
              "       [ 0.27676929, -0.05069685,  0.31031632, -0.08727674,  0.28089915]])"
            ]
          },
          "metadata": {},
          "execution_count": 110
        }
      ],
      "source": [
        "inv(mat)"
      ]
    },
    {
      "cell_type": "code",
      "execution_count": null,
      "id": "elementary-portland",
      "metadata": {
        "id": "elementary-portland",
        "outputId": "ff1f977e-e564-4f77-ddfa-a8b5955ff6b2",
        "colab": {
          "base_uri": "https://localhost:8080/"
        }
      },
      "outputs": [
        {
          "output_type": "execute_result",
          "data": {
            "text/plain": [
              "array([[ 1.00000000e+00, -1.90272232e-16, -4.93459997e-16,\n",
              "        -1.91012623e-16,  1.06062379e-16],\n",
              "       [ 7.01968743e-18,  1.00000000e+00, -4.89513865e-17,\n",
              "         3.36734301e-16, -5.62842966e-17],\n",
              "       [-2.07861389e-16,  6.44704877e-17,  1.00000000e+00,\n",
              "        -5.19762497e-17, -3.68827772e-16],\n",
              "       [-1.92976806e-17,  5.03412900e-17, -1.04073416e-16,\n",
              "         1.00000000e+00, -2.12339999e-17],\n",
              "       [-3.88882385e-16, -9.60755410e-19, -9.05750688e-17,\n",
              "         1.06532413e-16,  1.00000000e+00]])"
            ]
          },
          "metadata": {},
          "execution_count": 111
        }
      ],
      "source": [
        "mat.dot(inv(mat))"
      ]
    },
    {
      "cell_type": "code",
      "execution_count": null,
      "id": "positive-requirement",
      "metadata": {
        "id": "positive-requirement"
      },
      "outputs": [],
      "source": [
        "q, r = qr(mat)"
      ]
    },
    {
      "cell_type": "code",
      "execution_count": null,
      "id": "soviet-efficiency",
      "metadata": {
        "id": "soviet-efficiency",
        "outputId": "109134f4-cbd5-4d3e-ca12-ca9fd6b61e40",
        "colab": {
          "base_uri": "https://localhost:8080/"
        }
      },
      "outputs": [
        {
          "output_type": "execute_result",
          "data": {
            "text/plain": [
              "array([[-0.66608409, -0.32470698,  0.39634504,  0.03774604,  0.54072471],\n",
              "       [ 0.21711785, -0.88643686, -0.19322576, -0.34632804, -0.09904654],\n",
              "       [-0.03702221,  0.20550475, -0.6887527 , -0.33831774,  0.6062656 ],\n",
              "       [-0.0984779 ,  0.25767098,  0.36147741, -0.87416661, -0.17051274],\n",
              "       [ 0.7057785 ,  0.01298176,  0.44780377,  0.00244364,  0.54879322]])"
            ]
          },
          "metadata": {},
          "execution_count": 113
        }
      ],
      "source": [
        "q"
      ]
    },
    {
      "cell_type": "code",
      "execution_count": null,
      "id": "bridal-miniature",
      "metadata": {
        "id": "bridal-miniature",
        "outputId": "c236108c-e722-4ccc-fcf4-7f1bee379481",
        "colab": {
          "base_uri": "https://localhost:8080/"
        }
      },
      "outputs": [
        {
          "output_type": "execute_result",
          "data": {
            "text/plain": [
              "array([[-3.27040529,  2.58812749, -2.61996217, -0.03837601,  9.08441294],\n",
              "       [ 0.        , -3.12234489,  0.91925808,  1.08543382, -1.19558553],\n",
              "       [ 0.        ,  0.        , -3.34442929,  1.70339286,  5.81810715],\n",
              "       [ 0.        ,  0.        ,  0.        , -0.69364591, -0.20681981],\n",
              "       [ 0.        ,  0.        ,  0.        ,  0.        ,  1.95370197]])"
            ]
          },
          "metadata": {},
          "execution_count": 114
        }
      ],
      "source": [
        "r"
      ]
    },
    {
      "cell_type": "markdown",
      "id": "grateful-bride",
      "metadata": {
        "id": "grateful-bride"
      },
      "source": [
        "<p>&nbsp;</p>\n",
        "\n",
        "La expresión X.T.dot (X) calcula el producto escalar de X con su transpuesta X.T.\n",
        "\n",
        "<p>&nbsp;</p>\n",
        "<p>&nbsp;</p>\n",
        "\n",
        "#### Producto de matrices y vectores\n",
        "\n",
        "<p>&nbsp;</p>\n",
        "\n",
        "|  Rutina |  Descripción |\n",
        "| :------- | :------------   |\n",
        "|   dot(a, b[, out])  |   Producto punto de dos arreglos\n",
        "|   linalg.multi_dot(arrays, \\*[, out])  |   Calcula el producto punto de dos o más arreglos en una sola llamada de función, seleccionanso automáticamente el orden de evaluación más rápido.\n",
        "|   vdot(a, b)  |   Retorna el producto punto de dos vectores.\n",
        "|   inner(a, b)  |   Producto interno de dos arreglos\n",
        "|   outer(a, b[, out])  |   Calcula el producto externo de dos vectores.\n",
        "|   matmul(x1, x2, /[, out, casting, order, …])  |   Producto matricial de dos arreglos  \n",
        "|   tensordot(a, b[, axes])  |   Calcula el producto punto del tensor a lo largo de los ejes especificados.\n",
        "|   einsum(subscripts, *operands[, out, dtype, …])  |   Evalúa la convención de suma de Einstein sobre los operandos.\n",
        "|   einsum_path(subscripts, *operands[, optimize])  |   Evalúa el orden de contracción de menor costo para una expresión einsum considerando la creación de arreglos intermedios.\n",
        "|   linalg.matrix_power(a, n)  |   Eleva una matriz cuadrada a la potencia (entera) *n*.\n",
        "|   kron(a, b)  |   Producto Kronecker de dos arreglos.\n",
        "\n",
        "\n",
        "\n",
        "<p>&nbsp;</p>\n",
        "<p>&nbsp;</p>\n",
        "\n",
        "#### Descomposiciones\n",
        "\n",
        "<p>&nbsp;</p>\n",
        "\n",
        "|  Rutina |  Descripción |\n",
        "| :------- | :------------   |\n",
        "|   linalg.cholesky(a)  |   Descomposición de Cholesky.\n",
        "|   linalg.qr(a[, mode])  |   Calcula la factorización qr de una matriz.\n",
        "|   linalg.svd(a[, full_matrices, compute_uv, …])  |   Descomposición en valores singulares.\n",
        "\n",
        "\n",
        "<p>&nbsp;</p>\n",
        "<p>&nbsp;</p>\n",
        "\n",
        "#### Valores propios de la matriz\n",
        "\n",
        "<p>&nbsp;</p>\n",
        "\n",
        "|  Rutina |  Descripción |\n",
        "| :------- | :------------   |\n",
        "|   linalg.eig(a)  |   Calcula los valores propios y los vectores propios derechos de un arreglo cuadrado.\n",
        "|   linalg.eigh(a[, UPLO])  |   Retorna los valores propios y vectores propios de una matriz Hermitiana compleja (simétrica conjugada) o una matriz simétrica real.\n",
        "|   linalg.eigvals(a)  |   Calcula los valores propios de una matriz general.\n",
        "|   linalg.eigvalsh(a[, UPLO])  |   Calcula los valores propios de una matriz simétrica real o Hermitiana compleja.\n",
        "\n",
        "\n",
        "<p>&nbsp;</p>\n",
        "<p>&nbsp;</p>\n",
        "\n",
        "#### Normas y otros números\n",
        "\n",
        "<p>&nbsp;</p>\n",
        "\n",
        "|  Rutina |  Descripción |\n",
        "| :------- | :------------   |\n",
        "|   linalg.norm(x[, ord, axis, keepdims])  |   Norma vectorial o matricial.\n",
        "|   linalg.cond(x[, p])  |   Calcula el número de condición de una matriz.\n",
        "|   linalg.det(a) |   Calcula el determinante de un arreglo.\n",
        "|   linalg.matrix_rank(M[, tol, hermitian])  |   Retorna el rango de matriz del arreglo usando el método SVD.\n",
        "|   linalg.slogdet(a)  |   Calcula el signo y el logaritmo (natural) del determinante de un arreglo.\n",
        "|   trace(a[, offset, axis1, axis2, dtype, out])  |   Retorna la suma a lo largo de las diagonales del arreglo.\n",
        "\n",
        "\n",
        "<p>&nbsp;</p>\n",
        "<p>&nbsp;</p>\n",
        "\n",
        "#### Solución de ecuaciones e inversión de matrices\n",
        "\n",
        "<p>&nbsp;</p>\n",
        "\n",
        "|  Rutina |  Descripción |\n",
        "| :------- | :------------   |\n",
        "|   linalg.solve(a, b)  |   Resuelve una ecuación de matricial lineal o un sistema de ecuaciones escalares lineales.\n",
        "|   linalg.tensorsolve(a, b[, axes])  |  Resuelve la ecuación del tensor `a x = b` para x.\n",
        "|   linalg.lstsq(a, b[, rcond])  |   Retorna la solución de mínimos cuadrados para una ecuación matricial lineal.\n",
        "|   linalg.inv(a)  |   Calcula la inversa (multiplicativa) de una matriz.\n",
        "|   linalg.pinv(a[, rcond, hermitian])  |   Calcule la pseudo inversa (Moore-Penrose) de una matriz.\n",
        "|   linalg.tensorinv(a[, ind])  |   Calcula el 'inverso' de un arreglo de N dimensiones.\n",
        "\n",
        "\n",
        "<p>&nbsp;</p>\n",
        "<p>&nbsp;</p>\n",
        "\n",
        "#### Excepciones\n",
        "\n",
        "<p>&nbsp;</p>\n",
        "\n",
        "|  Rutina |  Descripción |\n",
        "| :------- | :------------   |\n",
        "|   linalg.LinAlgError  |  Objeto derivado de excepción de Python genérico generado por funciones de linalg. (\"*Generic Python-exception-derived object raised by linalg functions*\").\n",
        "\n",
        "\n",
        "<p>&nbsp;</p>\n",
        "<p>&nbsp;</p>\n",
        "\n",
        "#### Álgebra lineal en varias matrices a la vez\n",
        "\n",
        "<p>&nbsp;</p>\n",
        "\n",
        "Esto se indica en la documentación a través de especificaciones de parámetros de entrada como `a : (..., M, M) array_like`. Esto significa que si, por ejemplo, se le da un arreglo de entrada `a.shape == (N, M, M)`, se interpreta como una \"stack\" de N matrices, cada una de tamaño M-por-M. Se aplica una especificación similar a los valores de retorno, por ejemplo, el determinante tiene `det : (...)` y en este caso retornará un arreglo de forma `det (a) .shape == (N,)`. Esto se generaliza a las operaciones de álgebra lineal en arreglos de dimensiones superiores: las últimas 1 o 2 dimensiones de un arreglo multidimensional se interpretan como vectores o matrices, según corresponda para cada operación.\n",
        "\n",
        "https://numpy.org/devdocs/reference/routines.linalg.html\n",
        "\n",
        "\n",
        "<p>&nbsp;</p>\n",
        "<p>&nbsp;</p>\n",
        "<p>&nbsp;</p>\n",
        "\n",
        "## Generación de Números Pseudoaleatorios\n",
        "\n",
        "<p>&nbsp;</p>\n",
        "\n",
        "\n",
        "El módulo `numpy.random` complementa al interno de Python `random` con funciones para generar de manera eficiente arreglos completos de valores de muestra a partir de muchos tipos de distribuciones de probabilidad. Por ejemplo, podemos obtener un arreglo 4 × 4 de muestras de la distribución normal estándar utilizando `normal`:\n",
        "\n",
        "<p>&nbsp;</p>"
      ]
    },
    {
      "cell_type": "code",
      "execution_count": null,
      "id": "compressed-worry",
      "metadata": {
        "id": "compressed-worry"
      },
      "outputs": [],
      "source": [
        "muestras = np.random.normal(size=(4, 4))"
      ]
    },
    {
      "cell_type": "code",
      "execution_count": null,
      "id": "willing-iraqi",
      "metadata": {
        "id": "willing-iraqi",
        "outputId": "671a6619-ef59-4023-af2d-f8a20fca84f1",
        "colab": {
          "base_uri": "https://localhost:8080/"
        }
      },
      "outputs": [
        {
          "output_type": "execute_result",
          "data": {
            "text/plain": [
              "array([[ 0.17289745,  0.07174814,  0.98494312, -0.25944806],\n",
              "       [-0.43031303, -0.75726123,  1.62682881,  0.64316409],\n",
              "       [-1.44808012, -1.28921513, -0.56059475, -0.58216362],\n",
              "       [ 0.88961358,  0.89149336, -0.08153379, -0.20191658]])"
            ]
          },
          "metadata": {},
          "execution_count": 199
        }
      ],
      "source": [
        "muestras"
      ]
    },
    {
      "cell_type": "markdown",
      "id": "legendary-receptor",
      "metadata": {
        "id": "legendary-receptor"
      },
      "source": [
        "<p>&nbsp;</p>\n",
        "\n",
        "El módulo `random` interno de Python, por el contrario, solo muestrea un valor a la vez. Como podemos ver en este punto de referencia, `numpy.random` supera por más de un orden de magnitud en rapidez para generar muestras muy grandes:\n",
        "\n",
        "<p>&nbsp;</p>"
      ]
    },
    {
      "cell_type": "code",
      "execution_count": null,
      "id": "vocal-harvey",
      "metadata": {
        "id": "vocal-harvey"
      },
      "outputs": [],
      "source": [
        "from random import normalvariate"
      ]
    },
    {
      "cell_type": "code",
      "execution_count": null,
      "id": "acceptable-workshop",
      "metadata": {
        "id": "acceptable-workshop"
      },
      "outputs": [],
      "source": [
        "N = 1000000"
      ]
    },
    {
      "cell_type": "code",
      "execution_count": null,
      "id": "chief-tradition",
      "metadata": {
        "id": "chief-tradition",
        "outputId": "b9976c77-9673-4cbf-b5c9-1ba69a6d846d",
        "colab": {
          "base_uri": "https://localhost:8080/"
        }
      },
      "outputs": [
        {
          "output_type": "stream",
          "name": "stdout",
          "text": [
            "970 ms ± 259 ms per loop (mean ± std. dev. of 7 runs, 1 loop each)\n"
          ]
        }
      ],
      "source": [
        "%timeit muestras = [normalvariate(0, 1) for _ in range(N)]"
      ]
    },
    {
      "cell_type": "code",
      "execution_count": null,
      "id": "inclusive-handy",
      "metadata": {
        "id": "inclusive-handy",
        "outputId": "7a111fd4-72e5-4f36-822c-8e2ab886536e",
        "colab": {
          "base_uri": "https://localhost:8080/"
        }
      },
      "outputs": [
        {
          "output_type": "stream",
          "name": "stdout",
          "text": [
            "30.6 ms ± 634 µs per loop (mean ± std. dev. of 7 runs, 10 loops each)\n"
          ]
        }
      ],
      "source": [
        "%timeit np.random.normal(size=N)"
      ]
    },
    {
      "cell_type": "markdown",
      "id": "sitting-yeast",
      "metadata": {
        "id": "sitting-yeast"
      },
      "source": [
        "<p>&nbsp;</p>\n",
        "\n",
        "Decimos que estos son números *pseudoaleatorios* porque son generados por un algoritmo con comportamiento determinista basado en la *semilla* del generador de números aleatorios. Podemos cambiar la semilla usando `np.random.seed`:\n",
        "\n",
        "<p>&nbsp;</p>"
      ]
    },
    {
      "cell_type": "code",
      "execution_count": null,
      "id": "checked-taylor",
      "metadata": {
        "id": "checked-taylor"
      },
      "outputs": [],
      "source": [
        "np.random.seed(1234)"
      ]
    },
    {
      "cell_type": "markdown",
      "id": "billion-chosen",
      "metadata": {
        "id": "billion-chosen"
      },
      "source": [
        "<p>&nbsp;</p>\n",
        "\n",
        "Las funciones de generación de datos en `numpy.random` usan una semilla aleatoria global. Para evitar el estado global, podemos usar `numpy.random.RandomState` para crear un generador de números aleatorios aislado de otros:\n",
        "\n",
        "<p>&nbsp;</p>"
      ]
    },
    {
      "cell_type": "code",
      "execution_count": null,
      "id": "broke-modification",
      "metadata": {
        "id": "broke-modification"
      },
      "outputs": [],
      "source": [
        "rng = np.random.RandomState(1234)"
      ]
    },
    {
      "cell_type": "code",
      "execution_count": null,
      "id": "metric-message",
      "metadata": {
        "id": "metric-message",
        "outputId": "440720fc-45f8-4df6-a512-c35c39055e97",
        "colab": {
          "base_uri": "https://localhost:8080/"
        }
      },
      "outputs": [
        {
          "output_type": "execute_result",
          "data": {
            "text/plain": [
              "array([ 0.47143516, -1.19097569,  1.43270697, -0.3126519 , -0.72058873,\n",
              "        0.88716294,  0.85958841, -0.6365235 ,  0.01569637, -2.24268495])"
            ]
          },
          "metadata": {},
          "execution_count": 206
        }
      ],
      "source": [
        "rng.randn(10)"
      ]
    },
    {
      "cell_type": "markdown",
      "id": "monthly-theology",
      "metadata": {
        "id": "monthly-theology"
      },
      "source": [
        "<p>&nbsp;</p>\n",
        "\n",
        "La siguiente Tabla presenta una lista parcial de las funciones disponibles en `numpy.random`. En la siguiente sección veremos algunos ejemplos de cómo aprovechar la capacidad de estas funciones para generar grandes conjuntos de muestras al mismo tiempo.\n",
        "\n",
        "<p>&nbsp;</p>\n",
        "<p>&nbsp;</p>\n",
        "\n",
        "\n",
        "## Generador Aleatorio - Random Generator\n",
        "\n",
        "\n",
        "### Datos aleatorios simples\n",
        "\n",
        "<p>&nbsp;</p>\n",
        "\n",
        "|  Rutina |  Descripción |\n",
        "| :------- | :------------   |\n",
        "|   integers(low[, high, size, dtype, endpoint])   |   Retorna números enteros aleatorios desde  *low* (incluido) a *high* (excluido), o si endpoint=True, *law* (incluido) a  *high* (incluido).\n",
        "|   random([size, dtype, out])   |   Retorna números flotantes aleatorios en el intervalo semiabierto [0.0, 1.0).\n",
        "|   choice(a[, size, replace, p, axis, shuffle])   |   Genera una muestra aleatoria a partir de un arreglo 1-D dado.\n",
        "|   bytes(length)   |   Retorna bytes aleatorios.\n",
        "\n",
        "\n",
        "<p>&nbsp;</p>\n",
        "<p>&nbsp;</p>\n",
        "\n",
        "\n",
        "### Permutaciones\n",
        "\n",
        "<p>&nbsp;</p>\n",
        "\n",
        "\n",
        "|  Rutina |  Descripción |\n",
        "| :------- | :------------   |\n",
        "|   shuffle(x)  |   Modifica una secuencia *in situ* por medio de mezclar su contenido.\n",
        "|   permutation(x)  |   Permuta aleatoriamente una secuencia o retorna un rango permutado.\n",
        "\n",
        "\n",
        "<p>&nbsp;</p>\n",
        "<p>&nbsp;</p>\n",
        "\n",
        "\n",
        "### Distribuciones\n",
        "\n",
        "<p>&nbsp;</p>\n",
        "\n",
        "|  Rutina |  Descripción |\n",
        "| :------- | :------------   |\n",
        "|   beta(a, b[, size])  |   La distribución Beta sobre [0, 1].\n",
        "|   binomial(n, p[, size])  |   Extrae muestras de una distribución binomial.\n",
        "|   chisquare(df[, size])  |   Extrae muestras de una distribución de chi-cuadrado.\n",
        "|   dirichlet(alpha[, size])  |   Extrae muestras de la distribución de Dirichlet.\n",
        "|   exponential([scale, size])  |   Distribución exponencial.\n",
        "|   f(dfnum, dfden[, size])  |   Extrae muestras de una distribución F.\n",
        "|   gamma(shape[, scale, size])  |   Extrae muestras de una distribución Gamma.\n",
        "|   geometric(p[, size])  |   Extrae muestras de la distribución geométrica.\n",
        "|   gumbel([loc, scale, size])  |   Distribución de Gumbel.\n",
        "|   hypergeometric(ngood, nbad, nsample[, size])  |   Extrae muestras de una distribución Hipergeométrica.\n",
        "|   laplace([loc, scale, size])  |   Extrae muestras de la distribución de Laplace o exponencial doble con una ubicación especificada (o media) y una escala (decaimiento)\n",
        "|   logistic([loc, scale, size])  |   Extraiga muestras de una distribución Logística.\n",
        "|   lognormal([mean, sigma, size])  |   Retorna muestras extraídas de una distribución logarítmica normal.\n",
        "|   logseries(p[, size])  |   Extrae muestras de una distribución de Serie Logarítmica.\n",
        "|   multinomial(n, pvals[, size])  |   Extrae muestras de una distribución multinomial.\n",
        "|   multivariate_normal(mean, cov[, size])  |   Extrae muestras aleatorias de una distribución normal multivariante.\n",
        "|   negative_binomial(n, p[, size])  |   Extrae muestras de una distribución binomial_negativa.\n",
        "|   noncentral_chisquare(df, nonc[, size])  |   Extrae muestras de una distribución chi-cuadrado no central.\n",
        "|   noncentral_f(dfnum, dfden, nonc[, size])  |   Extraiga muestras de la distribución F no central.\n",
        "|   normal([loc, scale, size])  |   Extraiga muestras aleatorias de una distribución normal (Gaussiana).\n",
        "|   pareto(a[, size])  |   Extrae muestras de una distribución de Pareto II o Lomax con una forma específicada.\n",
        "|   poisson([lam, size])  |   Extrae muestras de una distribución de Poisson.\n",
        "|   power(a[, size])  |   Extrae muestras en [0, 1] de una distribución de potencia con exponente positivo `a - 1`.\n",
        "|   rayleigh([scale, size])  |   Extrae muestras de una distribución de Rayleigh.\n",
        "|   standard_cauchy([size])  |   Distribución estándar de Cauchy con modo = 0.\n",
        "|   standard_exponential([size])  |   Extrae muestras de la distribución exponencial estándar.\n",
        "|   standard_gamma(shape[, size])  |   Extrae muestras de una distribución Gamma Estándar.\n",
        "|   standard_normal([size])  |   Retorna muestras de una distribución Normal Estándar (media=0, stdev=1).\n",
        "|   standard_t(df[, size])  |   Distribución t de Student estándar con df grados de libertad.\n",
        "|   triangular(left, mode, right[, size])  |   Extrae muestras de la distribución triangular.\n",
        "|   uniform([low, high, size])  |   Extrae muestras de una distribución uniforme.\n",
        "|   vonmises(mu, kappa[, size])  |   Extrae muestras de una distribución de von Mises.\n",
        "|   wald(mean, scale[, size])  |   Extraiga muestras de una distribución de Wald o Gaussiana inversa.\n",
        "|   weibull(a[, size])  |   Distribución de Weibull.\n",
        "|   zipf(a[, size])  |   Extrae muestras de una distribución Zipf.\n",
        "\n",
        "\n",
        "\n",
        "<p>&nbsp;</p>\n",
        "<p>&nbsp;</p>\n",
        "\n",
        "## Caminatas Aleatorias\n",
        "\n",
        "<p>&nbsp;</p>\n",
        "\n",
        "La simulación de caminatas aleatorias proporciona una aplicación ilustrativa de la utilización de operaciones con arreglos. Consideremos primero una caminata aleatoria simple que comienza en 0 con pasos de 1 y –1 que ocurren con la misma probabilidad.\n",
        "\n",
        "A continuación se muestra una forma de Python puro para implementar una sola `caminata aleatoria` con 1,000 pasos usando el módulo `random` interno:\n",
        "\n",
        "<p>&nbsp;</p>\n"
      ]
    },
    {
      "cell_type": "code",
      "execution_count": null,
      "id": "trying-tradition",
      "metadata": {
        "id": "trying-tradition"
      },
      "outputs": [],
      "source": [
        "import random"
      ]
    },
    {
      "cell_type": "code",
      "execution_count": null,
      "id": "graduate-treaty",
      "metadata": {
        "id": "graduate-treaty"
      },
      "outputs": [],
      "source": [
        "import matplotlib.pyplot as plt"
      ]
    },
    {
      "cell_type": "code",
      "execution_count": null,
      "id": "exotic-raise",
      "metadata": {
        "id": "exotic-raise"
      },
      "outputs": [],
      "source": [
        "posicion = 0"
      ]
    },
    {
      "cell_type": "code",
      "execution_count": null,
      "id": "surprising-barrel",
      "metadata": {
        "id": "surprising-barrel"
      },
      "outputs": [],
      "source": [
        "caminata = [posicion]"
      ]
    },
    {
      "cell_type": "code",
      "execution_count": null,
      "id": "ultimate-persian",
      "metadata": {
        "id": "ultimate-persian"
      },
      "outputs": [],
      "source": [
        "pasos = 1000"
      ]
    },
    {
      "cell_type": "code",
      "execution_count": null,
      "id": "inside-politics",
      "metadata": {
        "id": "inside-politics"
      },
      "outputs": [],
      "source": [
        "for i in range(pasos):\n",
        "        paso = 1 if random.randint(0, 1) else -1\n",
        "        posicion +=  paso\n",
        "        caminata.append(posicion)\n"
      ]
    },
    {
      "cell_type": "code",
      "execution_count": null,
      "id": "buried-mills",
      "metadata": {
        "id": "buried-mills",
        "outputId": "10af9777-9703-4218-fc26-870c0a558814",
        "colab": {
          "base_uri": "https://localhost:8080/",
          "height": 447
        }
      },
      "outputs": [
        {
          "output_type": "execute_result",
          "data": {
            "text/plain": [
              "[<matplotlib.lines.Line2D at 0x7f45a7c07070>]"
            ]
          },
          "metadata": {},
          "execution_count": 213
        },
        {
          "output_type": "display_data",
          "data": {
            "text/plain": [
              "<Figure size 640x480 with 1 Axes>"
            ],
            "image/png": "[encoded data removed]"
          },
          "metadata": {}
        }
      ],
      "source": [
        "plt.plot(caminata[:100])"
      ]
    },
    {
      "cell_type": "code",
      "execution_count": null,
      "id": "developed-israeli",
      "metadata": {
        "id": "developed-israeli"
      },
      "outputs": [],
      "source": [
        "npasos = 1000"
      ]
    },
    {
      "cell_type": "code",
      "execution_count": null,
      "id": "incorporated-premium",
      "metadata": {
        "id": "incorporated-premium"
      },
      "outputs": [],
      "source": [
        "draws = np.random.randint(0, 2, size=npasos)"
      ]
    },
    {
      "cell_type": "code",
      "execution_count": null,
      "id": "overall-apache",
      "metadata": {
        "id": "overall-apache"
      },
      "outputs": [],
      "source": [
        "pasos = np.where(draws > 0, 1, -1)"
      ]
    },
    {
      "cell_type": "code",
      "execution_count": null,
      "id": "aquatic-watson",
      "metadata": {
        "id": "aquatic-watson"
      },
      "outputs": [],
      "source": [
        "caminata = pasos.cumsum()"
      ]
    },
    {
      "cell_type": "code",
      "execution_count": null,
      "id": "resistant-startup",
      "metadata": {
        "id": "resistant-startup",
        "outputId": "77783f71-c1ce-483b-ace5-f93ad54b04af",
        "colab": {
          "base_uri": "https://localhost:8080/",
          "height": 447
        }
      },
      "outputs": [
        {
          "output_type": "execute_result",
          "data": {
            "text/plain": [
              "[<matplotlib.lines.Line2D at 0x7f45a576c0d0>]"
            ]
          },
          "metadata": {},
          "execution_count": 218
        },
        {
          "output_type": "display_data",
          "data": {
            "text/plain": [
              "<Figure size 640x480 with 1 Axes>"
            ],
            "image/png": "[encoded data removed]"
          },
          "metadata": {}
        }
      ],
      "source": [
        "plt.plot(caminata[:1000])"
      ]
    },
    {
      "cell_type": "markdown",
      "id": "ambient-organ",
      "metadata": {
        "id": "ambient-organ"
      },
      "source": [
        "<p>&nbsp;</p>\n",
        "\n",
        "De esto podemos comenzar a extraer estadísticas como el valor mínimo, -11, que se da en 112 y el valor máximo, 25, que se da en 286.\n",
        "\n",
        "<p>&nbsp;</p>"
      ]
    },
    {
      "cell_type": "code",
      "execution_count": null,
      "id": "polish-sucking",
      "metadata": {
        "id": "polish-sucking",
        "outputId": "fb1a5246-6542-4216-de49-419c8ece6eec",
        "colab": {
          "base_uri": "https://localhost:8080/"
        }
      },
      "outputs": [
        {
          "output_type": "execute_result",
          "data": {
            "text/plain": [
              "-9"
            ]
          },
          "metadata": {},
          "execution_count": 219
        }
      ],
      "source": [
        "caminata.min()"
      ]
    },
    {
      "cell_type": "code",
      "execution_count": null,
      "id": "parental-theme",
      "metadata": {
        "id": "parental-theme",
        "outputId": "f97ced29-b1e1-453a-96c4-9a8609d3f1e5",
        "colab": {
          "base_uri": "https://localhost:8080/"
        }
      },
      "outputs": [
        {
          "output_type": "execute_result",
          "data": {
            "text/plain": [
              "60"
            ]
          },
          "metadata": {},
          "execution_count": 220
        }
      ],
      "source": [
        "caminata.max()"
      ]
    },
    {
      "cell_type": "markdown",
      "id": "acute-thousand",
      "metadata": {
        "id": "acute-thousand"
      },
      "source": [
        "<p>&nbsp;</p>\n",
        "\n",
        "Notemos que usar `argmax` aquí no siempre es eficiente porque siempre realiza un escaneo completo del arreglo. En este caso especial, una vez que se observa un `True` sabemos que es el valor máximo.\n",
        "\n",
        "<p>&nbsp;</p>\n",
        "<p>&nbsp;</p>\n",
        "\n",
        "\n",
        "### Simulación de Muchas Caminatas Aleatorias a la vez\n",
        "\n",
        "<p>&nbsp;</p>\n",
        "\n",
        "Si el objetivo es simular muchas caminatas aleatorias, digamos 5,000, podemos generar todas las caminatas aleatorias con modificaciones menores al código anterior. Si pasamos una tupla de 2, las funciones `numpy.random` generarán un arreglo bidimensional de lanzamientos, y podemos calcular la suma acumulativa a través de las filas para calcular las 5,000 caminatas aleatorias en una sola toma:\n",
        "\n",
        "<p>&nbsp;</p>"
      ]
    },
    {
      "cell_type": "code",
      "execution_count": null,
      "id": "enormous-salem",
      "metadata": {
        "id": "enormous-salem"
      },
      "outputs": [],
      "source": [
        "ncaminatas = 5000"
      ]
    },
    {
      "cell_type": "code",
      "execution_count": null,
      "id": "radical-lyric",
      "metadata": {
        "id": "radical-lyric"
      },
      "outputs": [],
      "source": [
        "npasos = 1000"
      ]
    },
    {
      "cell_type": "code",
      "execution_count": null,
      "id": "minus-processing",
      "metadata": {
        "id": "minus-processing"
      },
      "outputs": [],
      "source": [
        "draws = np.random.randint(0, 2, size=(ncaminatas, npasos))"
      ]
    },
    {
      "cell_type": "code",
      "execution_count": null,
      "id": "spanish-completion",
      "metadata": {
        "id": "spanish-completion"
      },
      "outputs": [],
      "source": [
        "pasos = np.where(draws > 0, 1, -1)"
      ]
    },
    {
      "cell_type": "code",
      "execution_count": null,
      "id": "functional-audio",
      "metadata": {
        "id": "functional-audio"
      },
      "outputs": [],
      "source": [
        "caminatas = pasos.cumsum(1)"
      ]
    },
    {
      "cell_type": "code",
      "execution_count": null,
      "id": "prerequisite-program",
      "metadata": {
        "id": "prerequisite-program",
        "outputId": "7bdeccd8-efba-4595-a08e-eb946d9d9921",
        "colab": {
          "base_uri": "https://localhost:8080/"
        }
      },
      "outputs": [
        {
          "output_type": "execute_result",
          "data": {
            "text/plain": [
              "array([[  1,   2,   3, ...,  46,  47,  46],\n",
              "       [  1,   0,   1, ...,  40,  41,  42],\n",
              "       [  1,   2,   3, ..., -26, -27, -28],\n",
              "       ...,\n",
              "       [  1,   0,   1, ...,  64,  65,  66],\n",
              "       [  1,   2,   1, ...,   2,   1,   0],\n",
              "       [ -1,  -2,  -3, ...,  32,  33,  34]])"
            ]
          },
          "metadata": {},
          "execution_count": 226
        }
      ],
      "source": [
        "caminatas"
      ]
    },
    {
      "cell_type": "markdown",
      "id": "mighty-mission",
      "metadata": {
        "id": "mighty-mission"
      },
      "source": [
        "<p>&nbsp;</p>\n",
        "\n",
        "Ahora, podemos calcular los valores máximos y mínimos obtenidos en todas las caminatas:\n",
        "\n",
        "<p>&nbsp;</p>"
      ]
    },
    {
      "cell_type": "code",
      "execution_count": null,
      "id": "domestic-alberta",
      "metadata": {
        "id": "domestic-alberta",
        "outputId": "3e262433-f4e6-463d-9616-2c353a7b3b20",
        "colab": {
          "base_uri": "https://localhost:8080/"
        }
      },
      "outputs": [
        {
          "output_type": "execute_result",
          "data": {
            "text/plain": [
              "122"
            ]
          },
          "metadata": {},
          "execution_count": 227
        }
      ],
      "source": [
        "caminatas.max()"
      ]
    },
    {
      "cell_type": "code",
      "execution_count": null,
      "id": "serious-actress",
      "metadata": {
        "id": "serious-actress",
        "outputId": "bba44283-2639-401f-9470-9be2f2ee1c67",
        "colab": {
          "base_uri": "https://localhost:8080/"
        }
      },
      "outputs": [
        {
          "output_type": "execute_result",
          "data": {
            "text/plain": [
              "-128"
            ]
          },
          "metadata": {},
          "execution_count": 228
        }
      ],
      "source": [
        "caminatas.min()"
      ]
    },
    {
      "cell_type": "markdown",
      "id": "supposed-bowling",
      "metadata": {
        "id": "supposed-bowling"
      },
      "source": [
        "<p>&nbsp;</p>\n",
        "\n",
        "De estas caminatas calculemos el tiempo mínimo de cruce a 30 ó -30. Esto es un poco complicado porque no todos los 5,000 alcanzan 30. Podemos verificar esto usando el método any:\n",
        "\n",
        "<p>&nbsp;</p>"
      ]
    },
    {
      "cell_type": "code",
      "execution_count": null,
      "id": "substantial-islam",
      "metadata": {
        "id": "substantial-islam"
      },
      "outputs": [],
      "source": [
        "hits30 = (np.abs(caminatas) >= 30).any(1)"
      ]
    },
    {
      "cell_type": "code",
      "execution_count": null,
      "id": "promotional-wallpaper",
      "metadata": {
        "id": "promotional-wallpaper",
        "outputId": "602938e8-62d4-43f5-bc1e-002a9d1a6dc8",
        "colab": {
          "base_uri": "https://localhost:8080/"
        }
      },
      "outputs": [
        {
          "output_type": "execute_result",
          "data": {
            "text/plain": [
              "array([ True,  True,  True, ...,  True, False,  True])"
            ]
          },
          "metadata": {},
          "execution_count": 230
        }
      ],
      "source": [
        "hits30"
      ]
    },
    {
      "cell_type": "code",
      "execution_count": null,
      "id": "empirical-inquiry",
      "metadata": {
        "id": "empirical-inquiry",
        "outputId": "d9a28f0a-05a9-46f1-b84d-11082154b4e2",
        "colab": {
          "base_uri": "https://localhost:8080/"
        }
      },
      "outputs": [
        {
          "output_type": "execute_result",
          "data": {
            "text/plain": [
              "3368"
            ]
          },
          "metadata": {},
          "execution_count": 231
        }
      ],
      "source": [
        "hits30.sum()"
      ]
    },
    {
      "cell_type": "markdown",
      "id": "raised-muslim",
      "metadata": {
        "id": "raised-muslim"
      },
      "source": [
        "<p>&nbsp;</p>\n",
        "\n",
        "Podemos usar este arreglo booleano para seleccionar las filas de `caminatas` que realmente cruzan el nivel absoluto de 30 y llamar a `argmax` a través del eje 1 para obtener la cantidad de cruces:\n",
        "\n",
        "<p>&nbsp;</p>"
      ]
    },
    {
      "cell_type": "code",
      "execution_count": null,
      "id": "documented-savage",
      "metadata": {
        "id": "documented-savage"
      },
      "outputs": [],
      "source": [
        "crossing_times = (np.abs(caminatas[hits30]) >= 30).argmax(1)"
      ]
    },
    {
      "cell_type": "code",
      "execution_count": null,
      "id": "typical-terrorism",
      "metadata": {
        "id": "typical-terrorism",
        "outputId": "221b5431-e996-4bce-d5b1-391adab35400",
        "colab": {
          "base_uri": "https://localhost:8080/"
        }
      },
      "outputs": [
        {
          "output_type": "execute_result",
          "data": {
            "text/plain": [
              "509.99762470308787"
            ]
          },
          "metadata": {},
          "execution_count": 233
        }
      ],
      "source": [
        "crossing_times.mean()"
      ]
    },
    {
      "cell_type": "markdown",
      "id": "mental-removal",
      "metadata": {
        "id": "mental-removal"
      },
      "source": [
        "<p>&nbsp;</p>\n",
        "\n",
        "Para visualizar el ejemplo de las caminatas multiples veamos el siguiente ejemplo con 3 caminatas y 100 pasos:\n",
        "\n",
        "<p>&nbsp;</p>"
      ]
    },
    {
      "cell_type": "code",
      "execution_count": null,
      "id": "educated-circus",
      "metadata": {
        "id": "educated-circus"
      },
      "outputs": [],
      "source": [
        "ncaminatas = 3\n",
        "npasos = 50\n",
        "draws = np.random.randint(0, 2, size=(ncaminatas, npasos))\n",
        "pasos = np.where(draws > 0, 1, -1)\n",
        "caminatas = pasos.cumsum(1)"
      ]
    },
    {
      "cell_type": "code",
      "execution_count": null,
      "id": "clinical-dayton",
      "metadata": {
        "id": "clinical-dayton",
        "outputId": "69e1442a-0bc4-4bc3-f842-53edbea6e4cc",
        "colab": {
          "base_uri": "https://localhost:8080/"
        }
      },
      "outputs": [
        {
          "output_type": "execute_result",
          "data": {
            "text/plain": [
              "array([[0, 1, 1, 0, 0, 0, 1, 1, 1, 0, 1, 0, 1, 0, 1, 0, 0, 1, 0, 1, 1, 1,\n",
              "        1, 0, 0, 0, 0, 1, 1, 0, 1, 0, 0, 0, 0, 1, 0, 1, 0, 0, 0, 0, 1, 0,\n",
              "        1, 1, 1, 1, 0, 1],\n",
              "       [1, 0, 1, 0, 1, 1, 0, 1, 1, 1, 0, 0, 0, 1, 0, 1, 1, 0, 1, 0, 1, 1,\n",
              "        1, 0, 1, 0, 1, 1, 1, 0, 1, 0, 1, 0, 0, 0, 1, 1, 0, 1, 0, 1, 0, 0,\n",
              "        1, 1, 1, 1, 1, 0],\n",
              "       [1, 0, 0, 1, 1, 0, 1, 1, 0, 0, 1, 0, 0, 0, 0, 1, 1, 0, 1, 0, 1, 1,\n",
              "        0, 0, 1, 1, 0, 1, 0, 0, 1, 0, 1, 1, 0, 0, 1, 0, 1, 0, 1, 0, 0, 1,\n",
              "        0, 0, 1, 1, 1, 1]])"
            ]
          },
          "metadata": {},
          "execution_count": 235
        }
      ],
      "source": [
        "draws"
      ]
    },
    {
      "cell_type": "code",
      "execution_count": null,
      "id": "raised-institution",
      "metadata": {
        "id": "raised-institution",
        "outputId": "fb9a7925-4e17-4a82-8665-025c7c11596e",
        "colab": {
          "base_uri": "https://localhost:8080/"
        }
      },
      "outputs": [
        {
          "output_type": "execute_result",
          "data": {
            "text/plain": [
              "array([[-1,  1,  1, -1, -1, -1,  1,  1,  1, -1,  1, -1,  1, -1,  1, -1,\n",
              "        -1,  1, -1,  1,  1,  1,  1, -1, -1, -1, -1,  1,  1, -1,  1, -1,\n",
              "        -1, -1, -1,  1, -1,  1, -1, -1, -1, -1,  1, -1,  1,  1,  1,  1,\n",
              "        -1,  1],\n",
              "       [ 1, -1,  1, -1,  1,  1, -1,  1,  1,  1, -1, -1, -1,  1, -1,  1,\n",
              "         1, -1,  1, -1,  1,  1,  1, -1,  1, -1,  1,  1,  1, -1,  1, -1,\n",
              "         1, -1, -1, -1,  1,  1, -1,  1, -1,  1, -1, -1,  1,  1,  1,  1,\n",
              "         1, -1],\n",
              "       [ 1, -1, -1,  1,  1, -1,  1,  1, -1, -1,  1, -1, -1, -1, -1,  1,\n",
              "         1, -1,  1, -1,  1,  1, -1, -1,  1,  1, -1,  1, -1, -1,  1, -1,\n",
              "         1,  1, -1, -1,  1, -1,  1, -1,  1, -1, -1,  1, -1, -1,  1,  1,\n",
              "         1,  1]])"
            ]
          },
          "metadata": {},
          "execution_count": 236
        }
      ],
      "source": [
        "pasos"
      ]
    },
    {
      "cell_type": "code",
      "execution_count": null,
      "id": "becoming-jacksonville",
      "metadata": {
        "id": "becoming-jacksonville",
        "outputId": "ccb0f5a6-73d5-4226-8844-d6a283d00b62",
        "colab": {
          "base_uri": "https://localhost:8080/"
        }
      },
      "outputs": [
        {
          "output_type": "execute_result",
          "data": {
            "text/plain": [
              "array([[-1,  0,  1,  0, -1, -2, -1,  0,  1,  0,  1,  0,  1,  0,  1,  0,\n",
              "        -1,  0, -1,  0,  1,  2,  3,  2,  1,  0, -1,  0,  1,  0,  1,  0,\n",
              "        -1, -2, -3, -2, -3, -2, -3, -4, -5, -6, -5, -6, -5, -4, -3, -2,\n",
              "        -3, -2],\n",
              "       [ 1,  0,  1,  0,  1,  2,  1,  2,  3,  4,  3,  2,  1,  2,  1,  2,\n",
              "         3,  2,  3,  2,  3,  4,  5,  4,  5,  4,  5,  6,  7,  6,  7,  6,\n",
              "         7,  6,  5,  4,  5,  6,  5,  6,  5,  6,  5,  4,  5,  6,  7,  8,\n",
              "         9,  8],\n",
              "       [ 1,  0, -1,  0,  1,  0,  1,  2,  1,  0,  1,  0, -1, -2, -3, -2,\n",
              "        -1, -2, -1, -2, -1,  0, -1, -2, -1,  0, -1,  0, -1, -2, -1, -2,\n",
              "        -1,  0, -1, -2, -1, -2, -1, -2, -1, -2, -3, -2, -3, -4, -3, -2,\n",
              "        -1,  0]])"
            ]
          },
          "metadata": {},
          "execution_count": 237
        }
      ],
      "source": [
        "caminatas"
      ]
    },
    {
      "cell_type": "code",
      "execution_count": null,
      "id": "comic-beverage",
      "metadata": {
        "id": "comic-beverage",
        "outputId": "f73f9854-19da-4131-edfa-0d20c48c6fb0",
        "colab": {
          "base_uri": "https://localhost:8080/"
        }
      },
      "outputs": [
        {
          "output_type": "execute_result",
          "data": {
            "text/plain": [
              "9"
            ]
          },
          "metadata": {},
          "execution_count": 238
        }
      ],
      "source": [
        "caminatas.max()"
      ]
    },
    {
      "cell_type": "code",
      "execution_count": null,
      "id": "activated-giant",
      "metadata": {
        "id": "activated-giant",
        "outputId": "e4bf7f4d-cab9-44a4-8934-6891e39be8de",
        "colab": {
          "base_uri": "https://localhost:8080/"
        }
      },
      "outputs": [
        {
          "output_type": "execute_result",
          "data": {
            "text/plain": [
              "-6"
            ]
          },
          "metadata": {},
          "execution_count": 239
        }
      ],
      "source": [
        "caminatas.min()"
      ]
    },
    {
      "cell_type": "code",
      "execution_count": null,
      "id": "introductory-florida",
      "metadata": {
        "id": "introductory-florida"
      },
      "outputs": [],
      "source": [
        "a, b, c = caminatas"
      ]
    },
    {
      "cell_type": "markdown",
      "id": "front-advocacy",
      "metadata": {
        "id": "front-advocacy"
      },
      "source": [
        "<p>&nbsp;</p>\n",
        "\n",
        "El siguiente codigo sirve para mostrar la figura correspondiente al ejemplo anterios de las 3 caminatas de 50 pasos cada una. El máximo de 5 y el mínimo de -12 se dan en la caminata c &nbsp; –––color verde––– &nbsp;  tal como se muestra en la figura 4-6.\n",
        "\n",
        "<p>&nbsp;</p>"
      ]
    },
    {
      "cell_type": "code",
      "execution_count": null,
      "id": "according-commissioner",
      "metadata": {
        "id": "according-commissioner",
        "outputId": "1689109e-abfd-43db-e812-c2089030e6cf",
        "colab": {
          "base_uri": "https://localhost:8080/",
          "height": 430
        }
      },
      "outputs": [
        {
          "output_type": "display_data",
          "data": {
            "text/plain": [
              "<Figure size 640x480 with 1 Axes>"
            ],
            "image/png": "[encoded data removed]"
          },
          "metadata": {}
        }
      ],
      "source": [
        "plt.figure(1)\n",
        "plt.plot(a[:50], \"r-\")\n",
        "plt.plot(b[:50], \"b-\")\n",
        "plt.plot(c[:50], \"g-\")\n",
        "plt.show()\n"
      ]
    }
  ],
  "metadata": {
    "kernelspec": {
      "display_name": "Python 3",
      "language": "python",
      "name": "python3"
    },
    "language_info": {
      "codemirror_mode": {
        "name": "ipython",
        "version": 3
      },
      "file_extension": ".py",
      "mimetype": "text/x-python",
      "name": "python",
      "nbconvert_exporter": "python",
      "pygments_lexer": "ipython3",
      "version": "3.8.5"
    },
    "colab": {
      "provenance": [],
      "include_colab_link": true
    }
  },
  "nbformat": 4,
  "nbformat_minor": 5
}